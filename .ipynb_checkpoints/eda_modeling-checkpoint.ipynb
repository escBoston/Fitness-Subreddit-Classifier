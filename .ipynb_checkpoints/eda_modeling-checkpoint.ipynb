{
 "cells": [
  {
   "cell_type": "code",
   "execution_count": 1,
   "metadata": {},
   "outputs": [],
   "source": [
    "import numpy as np\n",
    "import pandas as pd\n",
    "import seaborn as sns\n",
    "import matplotlib.pyplot as plt\n",
    "%matplotlib inline\n",
    "\n",
    "from sklearn.linear_model import LogisticRegression\n",
    "from sklearn.neighbors import KNeighborsClassifier\n",
    "from sklearn.preprocessing import StandardScaler\n",
    "from sklearn.model_selection import train_test_split, cross_val_score, GridSearchCV\n",
    "from sklearn.feature_extraction.text import CountVectorizer, TfidfVectorizer\n",
    "from sklearn.pipeline import Pipeline, make_pipeline\n",
    "from sklearn.naive_bayes import (MultinomialNB,\n",
    "                                 BernoulliNB,\n",
    "                                 GaussianNB,\n",
    "                                 BaseNB)\n",
    "from sklearn.metrics.classification import confusion_matrix\n",
    "from sklearn.ensemble import RandomForestClassifier, ExtraTreesClassifier\n",
    "\n",
    "import requests\n",
    "from bs4 import BeautifulSoup\n",
    "import regex as re\n",
    "import nltk\n",
    "from nltk.stem import WordNetLemmatizer\n",
    "from nltk.tokenize import RegexpTokenizer\n",
    "from nltk.stem.porter import PorterStemmer\n",
    "from nltk.corpus import stopwords\n",
    "import time"
   ]
  },
  {
   "cell_type": "code",
   "execution_count": 2,
   "metadata": {
    "scrolled": true
   },
   "outputs": [],
   "source": [
    "df = pd.read_csv('./datasets/df.csv')"
   ]
  },
  {
   "cell_type": "code",
   "execution_count": 5,
   "metadata": {},
   "outputs": [],
   "source": [
    "cols = ['title', 'selftext', 'alltext', 'subreddit', 'created_utc']"
   ]
  },
  {
   "cell_type": "markdown",
   "metadata": {},
   "source": [
    "## Transform"
   ]
  },
  {
   "cell_type": "markdown",
   "metadata": {},
   "source": [
    "### Tokenize"
   ]
  },
  {
   "cell_type": "code",
   "execution_count": 6,
   "metadata": {},
   "outputs": [],
   "source": [
    "tokenizer = RegexpTokenizer(r'\\w+')"
   ]
  },
  {
   "cell_type": "code",
   "execution_count": 7,
   "metadata": {},
   "outputs": [],
   "source": [
    "alltext_lower = df['alltext'].str.lower()\n",
    "df['tokenized'] = alltext_lower.apply(tokenizer.tokenize)\n",
    "cols.append('tokenized')"
   ]
  },
  {
   "cell_type": "code",
   "execution_count": 8,
   "metadata": {},
   "outputs": [
    {
     "data": {
      "text/html": [
       "<div>\n",
       "<style scoped>\n",
       "    .dataframe tbody tr th:only-of-type {\n",
       "        vertical-align: middle;\n",
       "    }\n",
       "\n",
       "    .dataframe tbody tr th {\n",
       "        vertical-align: top;\n",
       "    }\n",
       "\n",
       "    .dataframe thead th {\n",
       "        text-align: right;\n",
       "    }\n",
       "</style>\n",
       "<table border=\"1\" class=\"dataframe\">\n",
       "  <thead>\n",
       "    <tr style=\"text-align: right;\">\n",
       "      <th></th>\n",
       "      <th>title</th>\n",
       "      <th>selftext</th>\n",
       "      <th>alltext</th>\n",
       "      <th>subreddit</th>\n",
       "      <th>created_utc</th>\n",
       "      <th>tokenized</th>\n",
       "    </tr>\n",
       "  </thead>\n",
       "  <tbody>\n",
       "    <tr>\n",
       "      <th>0</th>\n",
       "      <td>the best exercises for skinny legs?</td>\n",
       "      <td>NaN</td>\n",
       "      <td>the best exercises for skinny legs?</td>\n",
       "      <td>0</td>\n",
       "      <td>2020-01-28 20:49:17</td>\n",
       "      <td>[the, best, exercises, for, skinny, legs]</td>\n",
       "    </tr>\n",
       "    <tr>\n",
       "      <th>1</th>\n",
       "      <td>Lifting &amp;amp; Swimming for building mass?</td>\n",
       "      <td>NaN</td>\n",
       "      <td>Lifting &amp;amp; Swimming for building mass?</td>\n",
       "      <td>0</td>\n",
       "      <td>2020-01-28 20:42:41</td>\n",
       "      <td>[lifting, amp, swimming, for, building, mass]</td>\n",
       "    </tr>\n",
       "    <tr>\n",
       "      <th>2</th>\n",
       "      <td>Are arm sleeves a thing in fitness?</td>\n",
       "      <td>NaN</td>\n",
       "      <td>Are arm sleeves a thing in fitness?</td>\n",
       "      <td>0</td>\n",
       "      <td>2020-01-28 20:40:46</td>\n",
       "      <td>[are, arm, sleeves, a, thing, in, fitness]</td>\n",
       "    </tr>\n",
       "    <tr>\n",
       "      <th>3</th>\n",
       "      <td>Muscle builders of Reddit, what are some recom...</td>\n",
       "      <td>NaN</td>\n",
       "      <td>Muscle builders of Reddit, what are some recom...</td>\n",
       "      <td>0</td>\n",
       "      <td>2020-01-28 20:38:16</td>\n",
       "      <td>[muscle, builders, of, reddit, what, are, some...</td>\n",
       "    </tr>\n",
       "    <tr>\n",
       "      <th>4</th>\n",
       "      <td>What are some really helpful features that can...</td>\n",
       "      <td>NaN</td>\n",
       "      <td>What are some really helpful features that can...</td>\n",
       "      <td>0</td>\n",
       "      <td>2020-01-28 20:33:23</td>\n",
       "      <td>[what, are, some, really, helpful, features, t...</td>\n",
       "    </tr>\n",
       "  </tbody>\n",
       "</table>\n",
       "</div>"
      ],
      "text/plain": [
       "                                               title selftext  \\\n",
       "0                the best exercises for skinny legs?      NaN   \n",
       "1          Lifting &amp; Swimming for building mass?      NaN   \n",
       "2                Are arm sleeves a thing in fitness?      NaN   \n",
       "3  Muscle builders of Reddit, what are some recom...      NaN   \n",
       "4  What are some really helpful features that can...      NaN   \n",
       "\n",
       "                                             alltext  subreddit  \\\n",
       "0               the best exercises for skinny legs?           0   \n",
       "1         Lifting &amp; Swimming for building mass?           0   \n",
       "2               Are arm sleeves a thing in fitness?           0   \n",
       "3  Muscle builders of Reddit, what are some recom...          0   \n",
       "4  What are some really helpful features that can...          0   \n",
       "\n",
       "           created_utc                                          tokenized  \n",
       "0  2020-01-28 20:49:17          [the, best, exercises, for, skinny, legs]  \n",
       "1  2020-01-28 20:42:41      [lifting, amp, swimming, for, building, mass]  \n",
       "2  2020-01-28 20:40:46         [are, arm, sleeves, a, thing, in, fitness]  \n",
       "3  2020-01-28 20:38:16  [muscle, builders, of, reddit, what, are, some...  \n",
       "4  2020-01-28 20:33:23  [what, are, some, really, helpful, features, t...  "
      ]
     },
     "execution_count": 8,
     "metadata": {},
     "output_type": "execute_result"
    }
   ],
   "source": [
    "df[cols].head()"
   ]
  },
  {
   "cell_type": "markdown",
   "metadata": {},
   "source": [
    "### Lemmatize"
   ]
  },
  {
   "cell_type": "markdown",
   "metadata": {},
   "source": [
    "- Lemmatizing minimizes false positives (errs on the side of lemmatizing less than it should)\n",
    "- Stemming minimizes false negatives (errs on the side of stemming more than it should) <br> <br>\n",
    "For the purpose of this project, we will lemmatize."
   ]
  },
  {
   "cell_type": "code",
   "execution_count": 10,
   "metadata": {},
   "outputs": [],
   "source": [
    "lemmatizer = WordNetLemmatizer()"
   ]
  },
  {
   "cell_type": "code",
   "execution_count": 11,
   "metadata": {},
   "outputs": [],
   "source": [
    "def lemmatize_tokens(tokens):\n",
    "    return [lemmatizer.lemmatize(token) for token in tokens]"
   ]
  },
  {
   "cell_type": "code",
   "execution_count": 12,
   "metadata": {},
   "outputs": [],
   "source": [
    "df['tokens_lem'] = df['tokenized'].apply(lemmatize_tokens)\n",
    "cols.append('tokens_lem')"
   ]
  },
  {
   "cell_type": "code",
   "execution_count": 13,
   "metadata": {},
   "outputs": [
    {
     "data": {
      "text/html": [
       "<div>\n",
       "<style scoped>\n",
       "    .dataframe tbody tr th:only-of-type {\n",
       "        vertical-align: middle;\n",
       "    }\n",
       "\n",
       "    .dataframe tbody tr th {\n",
       "        vertical-align: top;\n",
       "    }\n",
       "\n",
       "    .dataframe thead th {\n",
       "        text-align: right;\n",
       "    }\n",
       "</style>\n",
       "<table border=\"1\" class=\"dataframe\">\n",
       "  <thead>\n",
       "    <tr style=\"text-align: right;\">\n",
       "      <th></th>\n",
       "      <th>title</th>\n",
       "      <th>selftext</th>\n",
       "      <th>alltext</th>\n",
       "      <th>subreddit</th>\n",
       "      <th>created_utc</th>\n",
       "      <th>tokenized</th>\n",
       "      <th>tokens_lem</th>\n",
       "    </tr>\n",
       "  </thead>\n",
       "  <tbody>\n",
       "    <tr>\n",
       "      <th>0</th>\n",
       "      <td>the best exercises for skinny legs?</td>\n",
       "      <td>NaN</td>\n",
       "      <td>the best exercises for skinny legs?</td>\n",
       "      <td>0</td>\n",
       "      <td>2020-01-28 20:49:17</td>\n",
       "      <td>[the, best, exercises, for, skinny, legs]</td>\n",
       "      <td>[the, best, exercise, for, skinny, leg]</td>\n",
       "    </tr>\n",
       "    <tr>\n",
       "      <th>1</th>\n",
       "      <td>Lifting &amp;amp; Swimming for building mass?</td>\n",
       "      <td>NaN</td>\n",
       "      <td>Lifting &amp;amp; Swimming for building mass?</td>\n",
       "      <td>0</td>\n",
       "      <td>2020-01-28 20:42:41</td>\n",
       "      <td>[lifting, amp, swimming, for, building, mass]</td>\n",
       "      <td>[lifting, amp, swimming, for, building, mass]</td>\n",
       "    </tr>\n",
       "    <tr>\n",
       "      <th>2</th>\n",
       "      <td>Are arm sleeves a thing in fitness?</td>\n",
       "      <td>NaN</td>\n",
       "      <td>Are arm sleeves a thing in fitness?</td>\n",
       "      <td>0</td>\n",
       "      <td>2020-01-28 20:40:46</td>\n",
       "      <td>[are, arm, sleeves, a, thing, in, fitness]</td>\n",
       "      <td>[are, arm, sleeve, a, thing, in, fitness]</td>\n",
       "    </tr>\n",
       "    <tr>\n",
       "      <th>3</th>\n",
       "      <td>Muscle builders of Reddit, what are some recom...</td>\n",
       "      <td>NaN</td>\n",
       "      <td>Muscle builders of Reddit, what are some recom...</td>\n",
       "      <td>0</td>\n",
       "      <td>2020-01-28 20:38:16</td>\n",
       "      <td>[muscle, builders, of, reddit, what, are, some...</td>\n",
       "      <td>[muscle, builder, of, reddit, what, are, some,...</td>\n",
       "    </tr>\n",
       "    <tr>\n",
       "      <th>4</th>\n",
       "      <td>What are some really helpful features that can...</td>\n",
       "      <td>NaN</td>\n",
       "      <td>What are some really helpful features that can...</td>\n",
       "      <td>0</td>\n",
       "      <td>2020-01-28 20:33:23</td>\n",
       "      <td>[what, are, some, really, helpful, features, t...</td>\n",
       "      <td>[what, are, some, really, helpful, feature, th...</td>\n",
       "    </tr>\n",
       "  </tbody>\n",
       "</table>\n",
       "</div>"
      ],
      "text/plain": [
       "                                               title selftext  \\\n",
       "0                the best exercises for skinny legs?      NaN   \n",
       "1          Lifting &amp; Swimming for building mass?      NaN   \n",
       "2                Are arm sleeves a thing in fitness?      NaN   \n",
       "3  Muscle builders of Reddit, what are some recom...      NaN   \n",
       "4  What are some really helpful features that can...      NaN   \n",
       "\n",
       "                                             alltext  subreddit  \\\n",
       "0               the best exercises for skinny legs?           0   \n",
       "1         Lifting &amp; Swimming for building mass?           0   \n",
       "2               Are arm sleeves a thing in fitness?           0   \n",
       "3  Muscle builders of Reddit, what are some recom...          0   \n",
       "4  What are some really helpful features that can...          0   \n",
       "\n",
       "           created_utc                                          tokenized  \\\n",
       "0  2020-01-28 20:49:17          [the, best, exercises, for, skinny, legs]   \n",
       "1  2020-01-28 20:42:41      [lifting, amp, swimming, for, building, mass]   \n",
       "2  2020-01-28 20:40:46         [are, arm, sleeves, a, thing, in, fitness]   \n",
       "3  2020-01-28 20:38:16  [muscle, builders, of, reddit, what, are, some...   \n",
       "4  2020-01-28 20:33:23  [what, are, some, really, helpful, features, t...   \n",
       "\n",
       "                                          tokens_lem  \n",
       "0            [the, best, exercise, for, skinny, leg]  \n",
       "1      [lifting, amp, swimming, for, building, mass]  \n",
       "2          [are, arm, sleeve, a, thing, in, fitness]  \n",
       "3  [muscle, builder, of, reddit, what, are, some,...  \n",
       "4  [what, are, some, really, helpful, feature, th...  "
      ]
     },
     "execution_count": 13,
     "metadata": {},
     "output_type": "execute_result"
    }
   ],
   "source": [
    "df[cols].head()"
   ]
  },
  {
   "cell_type": "markdown",
   "metadata": {},
   "source": [
    "### Stopwords"
   ]
  },
  {
   "cell_type": "code",
   "execution_count": 15,
   "metadata": {},
   "outputs": [
    {
     "name": "stderr",
     "output_type": "stream",
     "text": [
      "[nltk_data] Downloading package stopwords to\n",
      "[nltk_data]     /Users/elijahcurme/nltk_data...\n",
      "[nltk_data]   Package stopwords is already up-to-date!\n"
     ]
    },
    {
     "data": {
      "text/plain": [
       "True"
      ]
     },
     "execution_count": 15,
     "metadata": {},
     "output_type": "execute_result"
    }
   ],
   "source": [
    "nltk.download('stopwords')"
   ]
  },
  {
   "cell_type": "code",
   "execution_count": 16,
   "metadata": {},
   "outputs": [],
   "source": [
    "def filter_stopwords(words):\n",
    "    return [w for w in words if w not in stopwords.words('english')]"
   ]
  },
  {
   "cell_type": "code",
   "execution_count": 17,
   "metadata": {},
   "outputs": [],
   "source": [
    "df['nostops'] = df['tokens_lem'].apply(filter_stopwords)\n",
    "cols.append('nostops')"
   ]
  },
  {
   "cell_type": "code",
   "execution_count": 18,
   "metadata": {
    "scrolled": true
   },
   "outputs": [
    {
     "data": {
      "text/html": [
       "<div>\n",
       "<style scoped>\n",
       "    .dataframe tbody tr th:only-of-type {\n",
       "        vertical-align: middle;\n",
       "    }\n",
       "\n",
       "    .dataframe tbody tr th {\n",
       "        vertical-align: top;\n",
       "    }\n",
       "\n",
       "    .dataframe thead th {\n",
       "        text-align: right;\n",
       "    }\n",
       "</style>\n",
       "<table border=\"1\" class=\"dataframe\">\n",
       "  <thead>\n",
       "    <tr style=\"text-align: right;\">\n",
       "      <th></th>\n",
       "      <th>title</th>\n",
       "      <th>selftext</th>\n",
       "      <th>alltext</th>\n",
       "      <th>subreddit</th>\n",
       "      <th>created_utc</th>\n",
       "      <th>tokenized</th>\n",
       "      <th>tokens_lem</th>\n",
       "      <th>nostops</th>\n",
       "    </tr>\n",
       "  </thead>\n",
       "  <tbody>\n",
       "    <tr>\n",
       "      <th>0</th>\n",
       "      <td>the best exercises for skinny legs?</td>\n",
       "      <td>NaN</td>\n",
       "      <td>the best exercises for skinny legs?</td>\n",
       "      <td>0</td>\n",
       "      <td>2020-01-28 20:49:17</td>\n",
       "      <td>[the, best, exercises, for, skinny, legs]</td>\n",
       "      <td>[the, best, exercise, for, skinny, leg]</td>\n",
       "      <td>[best, exercise, skinny, leg]</td>\n",
       "    </tr>\n",
       "    <tr>\n",
       "      <th>1</th>\n",
       "      <td>Lifting &amp;amp; Swimming for building mass?</td>\n",
       "      <td>NaN</td>\n",
       "      <td>Lifting &amp;amp; Swimming for building mass?</td>\n",
       "      <td>0</td>\n",
       "      <td>2020-01-28 20:42:41</td>\n",
       "      <td>[lifting, amp, swimming, for, building, mass]</td>\n",
       "      <td>[lifting, amp, swimming, for, building, mass]</td>\n",
       "      <td>[lifting, amp, swimming, building, mass]</td>\n",
       "    </tr>\n",
       "    <tr>\n",
       "      <th>2</th>\n",
       "      <td>Are arm sleeves a thing in fitness?</td>\n",
       "      <td>NaN</td>\n",
       "      <td>Are arm sleeves a thing in fitness?</td>\n",
       "      <td>0</td>\n",
       "      <td>2020-01-28 20:40:46</td>\n",
       "      <td>[are, arm, sleeves, a, thing, in, fitness]</td>\n",
       "      <td>[are, arm, sleeve, a, thing, in, fitness]</td>\n",
       "      <td>[arm, sleeve, thing, fitness]</td>\n",
       "    </tr>\n",
       "    <tr>\n",
       "      <th>3</th>\n",
       "      <td>Muscle builders of Reddit, what are some recom...</td>\n",
       "      <td>NaN</td>\n",
       "      <td>Muscle builders of Reddit, what are some recom...</td>\n",
       "      <td>0</td>\n",
       "      <td>2020-01-28 20:38:16</td>\n",
       "      <td>[muscle, builders, of, reddit, what, are, some...</td>\n",
       "      <td>[muscle, builder, of, reddit, what, are, some,...</td>\n",
       "      <td>[muscle, builder, reddit, recommended, food, e...</td>\n",
       "    </tr>\n",
       "    <tr>\n",
       "      <th>4</th>\n",
       "      <td>What are some really helpful features that can...</td>\n",
       "      <td>NaN</td>\n",
       "      <td>What are some really helpful features that can...</td>\n",
       "      <td>0</td>\n",
       "      <td>2020-01-28 20:33:23</td>\n",
       "      <td>[what, are, some, really, helpful, features, t...</td>\n",
       "      <td>[what, are, some, really, helpful, feature, th...</td>\n",
       "      <td>[really, helpful, feature, added, macro, calor...</td>\n",
       "    </tr>\n",
       "  </tbody>\n",
       "</table>\n",
       "</div>"
      ],
      "text/plain": [
       "                                               title selftext  \\\n",
       "0                the best exercises for skinny legs?      NaN   \n",
       "1          Lifting &amp; Swimming for building mass?      NaN   \n",
       "2                Are arm sleeves a thing in fitness?      NaN   \n",
       "3  Muscle builders of Reddit, what are some recom...      NaN   \n",
       "4  What are some really helpful features that can...      NaN   \n",
       "\n",
       "                                             alltext  subreddit  \\\n",
       "0               the best exercises for skinny legs?           0   \n",
       "1         Lifting &amp; Swimming for building mass?           0   \n",
       "2               Are arm sleeves a thing in fitness?           0   \n",
       "3  Muscle builders of Reddit, what are some recom...          0   \n",
       "4  What are some really helpful features that can...          0   \n",
       "\n",
       "           created_utc                                          tokenized  \\\n",
       "0  2020-01-28 20:49:17          [the, best, exercises, for, skinny, legs]   \n",
       "1  2020-01-28 20:42:41      [lifting, amp, swimming, for, building, mass]   \n",
       "2  2020-01-28 20:40:46         [are, arm, sleeves, a, thing, in, fitness]   \n",
       "3  2020-01-28 20:38:16  [muscle, builders, of, reddit, what, are, some...   \n",
       "4  2020-01-28 20:33:23  [what, are, some, really, helpful, features, t...   \n",
       "\n",
       "                                          tokens_lem  \\\n",
       "0            [the, best, exercise, for, skinny, leg]   \n",
       "1      [lifting, amp, swimming, for, building, mass]   \n",
       "2          [are, arm, sleeve, a, thing, in, fitness]   \n",
       "3  [muscle, builder, of, reddit, what, are, some,...   \n",
       "4  [what, are, some, really, helpful, feature, th...   \n",
       "\n",
       "                                             nostops  \n",
       "0                      [best, exercise, skinny, leg]  \n",
       "1           [lifting, amp, swimming, building, mass]  \n",
       "2                      [arm, sleeve, thing, fitness]  \n",
       "3  [muscle, builder, reddit, recommended, food, e...  \n",
       "4  [really, helpful, feature, added, macro, calor...  "
      ]
     },
     "execution_count": 18,
     "metadata": {},
     "output_type": "execute_result"
    }
   ],
   "source": [
    "df[cols].head()"
   ]
  },
  {
   "cell_type": "markdown",
   "metadata": {},
   "source": [
    "For Count Vectorizer we need a LIST of STRINGS. At this point our X is a LIST of LISTS of STRINGS. Need to join each list of words together into strings."
   ]
  },
  {
   "cell_type": "code",
   "execution_count": 20,
   "metadata": {},
   "outputs": [],
   "source": [
    "def joinwords(words):\n",
    "    return (\" \".join(words))"
   ]
  },
  {
   "cell_type": "code",
   "execution_count": 21,
   "metadata": {},
   "outputs": [],
   "source": [
    "df['nostopstring'] = df['nostops'].apply(joinwords)\n",
    "cols.append('nostopstring')"
   ]
  },
  {
   "cell_type": "markdown",
   "metadata": {},
   "source": [
    "## EDA"
   ]
  },
  {
   "cell_type": "code",
   "execution_count": 25,
   "metadata": {},
   "outputs": [
    {
     "data": {
      "text/plain": [
       "(0, 9)"
      ]
     },
     "execution_count": 25,
     "metadata": {},
     "output_type": "execute_result"
    }
   ],
   "source": [
    "# We use alltext because 1000 have empty selftext after removing '[removed]'\n",
    "df[cols][df['selftext'] == ''].shape"
   ]
  },
  {
   "cell_type": "code",
   "execution_count": 26,
   "metadata": {
    "scrolled": true
   },
   "outputs": [
    {
     "data": {
      "text/html": [
       "<div>\n",
       "<style scoped>\n",
       "    .dataframe tbody tr th:only-of-type {\n",
       "        vertical-align: middle;\n",
       "    }\n",
       "\n",
       "    .dataframe tbody tr th {\n",
       "        vertical-align: top;\n",
       "    }\n",
       "\n",
       "    .dataframe thead th {\n",
       "        text-align: right;\n",
       "    }\n",
       "</style>\n",
       "<table border=\"1\" class=\"dataframe\">\n",
       "  <thead>\n",
       "    <tr style=\"text-align: right;\">\n",
       "      <th></th>\n",
       "      <th>tokenized</th>\n",
       "      <th>tokens_lem</th>\n",
       "    </tr>\n",
       "  </thead>\n",
       "  <tbody>\n",
       "    <tr>\n",
       "      <th>0</th>\n",
       "      <td>[the, best, exercises, for, skinny, legs]</td>\n",
       "      <td>[the, best, exercise, for, skinny, leg]</td>\n",
       "    </tr>\n",
       "    <tr>\n",
       "      <th>2</th>\n",
       "      <td>[are, arm, sleeves, a, thing, in, fitness]</td>\n",
       "      <td>[are, arm, sleeve, a, thing, in, fitness]</td>\n",
       "    </tr>\n",
       "    <tr>\n",
       "      <th>3</th>\n",
       "      <td>[muscle, builders, of, reddit, what, are, some...</td>\n",
       "      <td>[muscle, builder, of, reddit, what, are, some,...</td>\n",
       "    </tr>\n",
       "    <tr>\n",
       "      <th>4</th>\n",
       "      <td>[what, are, some, really, helpful, features, t...</td>\n",
       "      <td>[what, are, some, really, helpful, feature, th...</td>\n",
       "    </tr>\n",
       "    <tr>\n",
       "      <th>5</th>\n",
       "      <td>[i, have, really, small, abs, compared, to, th...</td>\n",
       "      <td>[i, have, really, small, ab, compared, to, the...</td>\n",
       "    </tr>\n",
       "  </tbody>\n",
       "</table>\n",
       "</div>"
      ],
      "text/plain": [
       "                                           tokenized  \\\n",
       "0          [the, best, exercises, for, skinny, legs]   \n",
       "2         [are, arm, sleeves, a, thing, in, fitness]   \n",
       "3  [muscle, builders, of, reddit, what, are, some...   \n",
       "4  [what, are, some, really, helpful, features, t...   \n",
       "5  [i, have, really, small, abs, compared, to, th...   \n",
       "\n",
       "                                          tokens_lem  \n",
       "0            [the, best, exercise, for, skinny, leg]  \n",
       "2          [are, arm, sleeve, a, thing, in, fitness]  \n",
       "3  [muscle, builder, of, reddit, what, are, some,...  \n",
       "4  [what, are, some, really, helpful, feature, th...  \n",
       "5  [i, have, really, small, ab, compared, to, the...  "
      ]
     },
     "execution_count": 26,
     "metadata": {},
     "output_type": "execute_result"
    }
   ],
   "source": [
    "# What difference does lemmatize make?\n",
    "df[['tokenized', 'tokens_lem']][df['tokenized'] != df['tokens_lem']].head()"
   ]
  },
  {
   "cell_type": "markdown",
   "metadata": {},
   "source": [
    "#### Feature: fitwords & fit30words"
   ]
  },
  {
   "cell_type": "code",
   "execution_count": 27,
   "metadata": {
    "scrolled": true
   },
   "outputs": [],
   "source": [
    "# Get most common words from Fitness\n",
    "\n",
    "cvec = CountVectorizer()\n",
    "\n",
    "eda_cvec = cvec.fit_transform(df[df['subreddit'] == 0]['nostopstring'])\n",
    "\n",
    "sum_words = eda_cvec.sum(axis = 0)\n",
    "\n",
    "words_freq = [(word, sum_words[0, idx]) for word, idx in cvec.vocabulary_.items()] #Credit to Cristhian Boujon\n",
    "#https://medium.com/@cristhianboujon/how-to-list-the-most-common-words-from-text-corpus-using-scikit-learn-dad4d0cab41d\n",
    "\n",
    "fitwords_freq = sorted(words_freq, key = lambda x: x[1], reverse = True) # x[1]: Sorts by the 2nd item in tuple (freq)"
   ]
  },
  {
   "cell_type": "code",
   "execution_count": 28,
   "metadata": {},
   "outputs": [
    {
     "data": {
      "text/plain": [
       "[('day', 649), ('weight', 567), ('like', 428), ('workout', 418), ('week', 416)]"
      ]
     },
     "execution_count": 28,
     "metadata": {},
     "output_type": "execute_result"
    }
   ],
   "source": [
    "fitwords_freq[:5]"
   ]
  },
  {
   "cell_type": "code",
   "execution_count": 29,
   "metadata": {},
   "outputs": [],
   "source": [
    "# Get most common words from fitness30plus\n",
    "\n",
    "cvec = CountVectorizer()\n",
    "\n",
    "eda_cvec = cvec.fit_transform(df[df['subreddit'] == 1]['nostopstring'])\n",
    "\n",
    "sum_words = eda_cvec.sum(axis = 0)\n",
    "\n",
    "words_freq = [(word, sum_words[0, idx]) for word, idx in cvec.vocabulary_.items()]\n",
    "\n",
    "fit30words_freq = sorted(words_freq, key = lambda x: x[1], reverse = True) # x[1]: Sorts by the 2nd item in tuple (freq)"
   ]
  },
  {
   "cell_type": "code",
   "execution_count": 164,
   "metadata": {},
   "outputs": [
    {
     "data": {
      "text/plain": [
       "[('day', 305), ('weight', 303), ('year', 273), ('week', 268)]"
      ]
     },
     "execution_count": 164,
     "metadata": {},
     "output_type": "execute_result"
    }
   ],
   "source": [
    "fit30words_freq[1:5]"
   ]
  },
  {
   "cell_type": "code",
   "execution_count": 30,
   "metadata": {},
   "outputs": [
    {
     "data": {
      "text/html": [
       "<div>\n",
       "<style scoped>\n",
       "    .dataframe tbody tr th:only-of-type {\n",
       "        vertical-align: middle;\n",
       "    }\n",
       "\n",
       "    .dataframe tbody tr th {\n",
       "        vertical-align: top;\n",
       "    }\n",
       "\n",
       "    .dataframe thead th {\n",
       "        text-align: right;\n",
       "    }\n",
       "</style>\n",
       "<table border=\"1\" class=\"dataframe\">\n",
       "  <thead>\n",
       "    <tr style=\"text-align: right;\">\n",
       "      <th></th>\n",
       "      <th>word</th>\n",
       "      <th>fit_frequency</th>\n",
       "      <th>fit30_frequency</th>\n",
       "    </tr>\n",
       "  </thead>\n",
       "  <tbody>\n",
       "    <tr>\n",
       "      <th>0</th>\n",
       "      <td>day</td>\n",
       "      <td>649</td>\n",
       "      <td>305</td>\n",
       "    </tr>\n",
       "    <tr>\n",
       "      <th>1</th>\n",
       "      <td>weight</td>\n",
       "      <td>567</td>\n",
       "      <td>303</td>\n",
       "    </tr>\n",
       "    <tr>\n",
       "      <th>2</th>\n",
       "      <td>like</td>\n",
       "      <td>428</td>\n",
       "      <td>229</td>\n",
       "    </tr>\n",
       "    <tr>\n",
       "      <th>3</th>\n",
       "      <td>workout</td>\n",
       "      <td>418</td>\n",
       "      <td>199</td>\n",
       "    </tr>\n",
       "    <tr>\n",
       "      <th>4</th>\n",
       "      <td>week</td>\n",
       "      <td>416</td>\n",
       "      <td>268</td>\n",
       "    </tr>\n",
       "  </tbody>\n",
       "</table>\n",
       "</div>"
      ],
      "text/plain": [
       "      word  fit_frequency  fit30_frequency\n",
       "0      day            649              305\n",
       "1   weight            567              303\n",
       "2     like            428              229\n",
       "3  workout            418              199\n",
       "4     week            416              268"
      ]
     },
     "execution_count": 30,
     "metadata": {},
     "output_type": "execute_result"
    }
   ],
   "source": [
    "# Create one DF for the frequencies\n",
    "\n",
    "fit_freq_df = pd.DataFrame(fitwords_freq, columns = ['word', 'fit_frequency'])\n",
    "fit30_freq_df = pd.DataFrame(fit30words_freq, columns = ['word', 'fit30_frequency'])\n",
    "\n",
    "freq_df = fit_freq_df.merge(fit30_freq_df, left_on = 'word', right_on = 'word')\n",
    "freq_df.head()"
   ]
  },
  {
   "cell_type": "code",
   "execution_count": 31,
   "metadata": {},
   "outputs": [
    {
     "data": {
      "text/plain": [
       "(47623, 30099)"
      ]
     },
     "execution_count": 31,
     "metadata": {},
     "output_type": "execute_result"
    }
   ],
   "source": [
    "# Total words from each sub. Due to the disparity, we should deal with relative frequencies.\n",
    "freq_df['fit_frequency'].sum(), freq_df['fit30_frequency'].sum()"
   ]
  },
  {
   "cell_type": "code",
   "execution_count": 32,
   "metadata": {},
   "outputs": [
    {
     "data": {
      "text/html": [
       "<div>\n",
       "<style scoped>\n",
       "    .dataframe tbody tr th:only-of-type {\n",
       "        vertical-align: middle;\n",
       "    }\n",
       "\n",
       "    .dataframe tbody tr th {\n",
       "        vertical-align: top;\n",
       "    }\n",
       "\n",
       "    .dataframe thead th {\n",
       "        text-align: right;\n",
       "    }\n",
       "</style>\n",
       "<table border=\"1\" class=\"dataframe\">\n",
       "  <thead>\n",
       "    <tr style=\"text-align: right;\">\n",
       "      <th></th>\n",
       "      <th>word</th>\n",
       "      <th>fit_frequency</th>\n",
       "      <th>fit30_frequency</th>\n",
       "    </tr>\n",
       "  </thead>\n",
       "  <tbody>\n",
       "    <tr>\n",
       "      <th>0</th>\n",
       "      <td>day</td>\n",
       "      <td>0.013628</td>\n",
       "      <td>0.010133</td>\n",
       "    </tr>\n",
       "    <tr>\n",
       "      <th>1</th>\n",
       "      <td>weight</td>\n",
       "      <td>0.011906</td>\n",
       "      <td>0.010067</td>\n",
       "    </tr>\n",
       "    <tr>\n",
       "      <th>2</th>\n",
       "      <td>like</td>\n",
       "      <td>0.008987</td>\n",
       "      <td>0.007608</td>\n",
       "    </tr>\n",
       "    <tr>\n",
       "      <th>3</th>\n",
       "      <td>workout</td>\n",
       "      <td>0.008777</td>\n",
       "      <td>0.006612</td>\n",
       "    </tr>\n",
       "    <tr>\n",
       "      <th>4</th>\n",
       "      <td>week</td>\n",
       "      <td>0.008735</td>\n",
       "      <td>0.008904</td>\n",
       "    </tr>\n",
       "  </tbody>\n",
       "</table>\n",
       "</div>"
      ],
      "text/plain": [
       "      word  fit_frequency  fit30_frequency\n",
       "0      day       0.013628         0.010133\n",
       "1   weight       0.011906         0.010067\n",
       "2     like       0.008987         0.007608\n",
       "3  workout       0.008777         0.006612\n",
       "4     week       0.008735         0.008904"
      ]
     },
     "execution_count": 32,
     "metadata": {},
     "output_type": "execute_result"
    }
   ],
   "source": [
    "# Convert frequencies to be relative\n",
    "\n",
    "freq_df['fit_frequency'] = freq_df['fit_frequency'] / freq_df['fit_frequency'].sum()\n",
    "freq_df['fit30_frequency'] = freq_df['fit30_frequency'] / freq_df['fit30_frequency'].sum()\n",
    "freq_df.head()"
   ]
  },
  {
   "cell_type": "code",
   "execution_count": 33,
   "metadata": {},
   "outputs": [],
   "source": [
    "# Let's see the biggest disparities\n",
    "# Not using absolute value here because the negative values will give us the fit30 words\n",
    "freq_df['disparity'] = freq_df['fit_frequency'] - freq_df['fit30_frequency']"
   ]
  },
  {
   "cell_type": "code",
   "execution_count": 34,
   "metadata": {
    "scrolled": true
   },
   "outputs": [
    {
     "data": {
      "text/html": [
       "<div>\n",
       "<style scoped>\n",
       "    .dataframe tbody tr th:only-of-type {\n",
       "        vertical-align: middle;\n",
       "    }\n",
       "\n",
       "    .dataframe tbody tr th {\n",
       "        vertical-align: top;\n",
       "    }\n",
       "\n",
       "    .dataframe thead th {\n",
       "        text-align: right;\n",
       "    }\n",
       "</style>\n",
       "<table border=\"1\" class=\"dataframe\">\n",
       "  <thead>\n",
       "    <tr style=\"text-align: right;\">\n",
       "      <th></th>\n",
       "      <th>word</th>\n",
       "      <th>fit_frequency</th>\n",
       "      <th>fit30_frequency</th>\n",
       "      <th>disparity</th>\n",
       "    </tr>\n",
       "  </thead>\n",
       "  <tbody>\n",
       "    <tr>\n",
       "      <th>0</th>\n",
       "      <td>day</td>\n",
       "      <td>0.013628</td>\n",
       "      <td>0.010133</td>\n",
       "      <td>0.003495</td>\n",
       "    </tr>\n",
       "    <tr>\n",
       "      <th>1</th>\n",
       "      <td>weight</td>\n",
       "      <td>0.011906</td>\n",
       "      <td>0.010067</td>\n",
       "      <td>0.001839</td>\n",
       "    </tr>\n",
       "    <tr>\n",
       "      <th>2</th>\n",
       "      <td>like</td>\n",
       "      <td>0.008987</td>\n",
       "      <td>0.007608</td>\n",
       "      <td>0.001379</td>\n",
       "    </tr>\n",
       "    <tr>\n",
       "      <th>3</th>\n",
       "      <td>workout</td>\n",
       "      <td>0.008777</td>\n",
       "      <td>0.006612</td>\n",
       "      <td>0.002166</td>\n",
       "    </tr>\n",
       "    <tr>\n",
       "      <th>4</th>\n",
       "      <td>week</td>\n",
       "      <td>0.008735</td>\n",
       "      <td>0.008904</td>\n",
       "      <td>-0.000169</td>\n",
       "    </tr>\n",
       "  </tbody>\n",
       "</table>\n",
       "</div>"
      ],
      "text/plain": [
       "      word  fit_frequency  fit30_frequency  disparity\n",
       "0      day       0.013628         0.010133   0.003495\n",
       "1   weight       0.011906         0.010067   0.001839\n",
       "2     like       0.008987         0.007608   0.001379\n",
       "3  workout       0.008777         0.006612   0.002166\n",
       "4     week       0.008735         0.008904  -0.000169"
      ]
     },
     "execution_count": 34,
     "metadata": {},
     "output_type": "execute_result"
    }
   ],
   "source": [
    "freq_df.head()"
   ]
  },
  {
   "cell_type": "code",
   "execution_count": 35,
   "metadata": {
    "scrolled": true
   },
   "outputs": [
    {
     "data": {
      "text/html": [
       "<div>\n",
       "<style scoped>\n",
       "    .dataframe tbody tr th:only-of-type {\n",
       "        vertical-align: middle;\n",
       "    }\n",
       "\n",
       "    .dataframe tbody tr th {\n",
       "        vertical-align: top;\n",
       "    }\n",
       "\n",
       "    .dataframe thead th {\n",
       "        text-align: right;\n",
       "    }\n",
       "</style>\n",
       "<table border=\"1\" class=\"dataframe\">\n",
       "  <thead>\n",
       "    <tr style=\"text-align: right;\">\n",
       "      <th></th>\n",
       "      <th>word</th>\n",
       "      <th>fit_frequency</th>\n",
       "      <th>fit30_frequency</th>\n",
       "      <th>disparity</th>\n",
       "    </tr>\n",
       "  </thead>\n",
       "  <tbody>\n",
       "    <tr>\n",
       "      <th>0</th>\n",
       "      <td>day</td>\n",
       "      <td>0.013628</td>\n",
       "      <td>0.010133</td>\n",
       "      <td>0.003495</td>\n",
       "    </tr>\n",
       "    <tr>\n",
       "      <th>6</th>\n",
       "      <td>gym</td>\n",
       "      <td>0.007727</td>\n",
       "      <td>0.005316</td>\n",
       "      <td>0.002412</td>\n",
       "    </tr>\n",
       "    <tr>\n",
       "      <th>65</th>\n",
       "      <td>gt</td>\n",
       "      <td>0.002646</td>\n",
       "      <td>0.000332</td>\n",
       "      <td>0.002314</td>\n",
       "    </tr>\n",
       "    <tr>\n",
       "      <th>9</th>\n",
       "      <td>muscle</td>\n",
       "      <td>0.006593</td>\n",
       "      <td>0.004286</td>\n",
       "      <td>0.002308</td>\n",
       "    </tr>\n",
       "    <tr>\n",
       "      <th>15</th>\n",
       "      <td>know</td>\n",
       "      <td>0.005271</td>\n",
       "      <td>0.002990</td>\n",
       "      <td>0.002280</td>\n",
       "    </tr>\n",
       "  </tbody>\n",
       "</table>\n",
       "</div>"
      ],
      "text/plain": [
       "      word  fit_frequency  fit30_frequency  disparity\n",
       "0      day       0.013628         0.010133   0.003495\n",
       "6      gym       0.007727         0.005316   0.002412\n",
       "65      gt       0.002646         0.000332   0.002314\n",
       "9   muscle       0.006593         0.004286   0.002308\n",
       "15    know       0.005271         0.002990   0.002280"
      ]
     },
     "execution_count": 35,
     "metadata": {},
     "output_type": "execute_result"
    }
   ],
   "source": [
    "freq_df.sort_values(by = 'disparity', ascending = False).head()"
   ]
  },
  {
   "cell_type": "code",
   "execution_count": 36,
   "metadata": {},
   "outputs": [],
   "source": [
    "### These are our subreddit specific words. Top 25 for each. ###\n",
    "\n",
    "fit_words = list(freq_df.sort_values(by = 'disparity', ascending = False)['word'].head(25))\n",
    "fit30_words = list(freq_df.sort_values(by = 'disparity', ascending = False)['word'].tail(25))"
   ]
  },
  {
   "cell_type": "code",
   "execution_count": 37,
   "metadata": {},
   "outputs": [
    {
     "data": {
      "text/plain": [
       "(3198, 4)"
      ]
     },
     "execution_count": 37,
     "metadata": {},
     "output_type": "execute_result"
    }
   ],
   "source": [
    "freq_df.shape"
   ]
  },
  {
   "cell_type": "markdown",
   "metadata": {},
   "source": [
    "'contains_fitword' and 'contains_fit30word' will be 1 if the post contains one our subreddit specific words"
   ]
  },
  {
   "cell_type": "code",
   "execution_count": 38,
   "metadata": {},
   "outputs": [],
   "source": [
    "def check_fitword(string):\n",
    "    for word in fit_words:\n",
    "        if word in string:\n",
    "            return 1\n",
    "    return 0"
   ]
  },
  {
   "cell_type": "code",
   "execution_count": 39,
   "metadata": {},
   "outputs": [],
   "source": [
    "def check_fit30word(string):\n",
    "    for word in fit30_words:\n",
    "        if word in string:\n",
    "            return 1\n",
    "    return 0"
   ]
  },
  {
   "cell_type": "code",
   "execution_count": 40,
   "metadata": {},
   "outputs": [],
   "source": [
    "df['contains_fitword'] = df['nostopstring'].apply(check_fitword)\n",
    "df['contains_fit30word'] = df['nostopstring'].apply(check_fit30word)\n",
    "cols.append('contains_fitword')\n",
    "cols.append('contains_fit30word')"
   ]
  },
  {
   "cell_type": "code",
   "execution_count": 41,
   "metadata": {},
   "outputs": [
    {
     "data": {
      "text/html": [
       "<div>\n",
       "<style scoped>\n",
       "    .dataframe tbody tr th:only-of-type {\n",
       "        vertical-align: middle;\n",
       "    }\n",
       "\n",
       "    .dataframe tbody tr th {\n",
       "        vertical-align: top;\n",
       "    }\n",
       "\n",
       "    .dataframe thead th {\n",
       "        text-align: right;\n",
       "    }\n",
       "</style>\n",
       "<table border=\"1\" class=\"dataframe\">\n",
       "  <thead>\n",
       "    <tr style=\"text-align: right;\">\n",
       "      <th></th>\n",
       "      <th>title</th>\n",
       "      <th>selftext</th>\n",
       "      <th>alltext</th>\n",
       "      <th>subreddit</th>\n",
       "      <th>created_utc</th>\n",
       "      <th>tokenized</th>\n",
       "      <th>tokens_lem</th>\n",
       "      <th>nostops</th>\n",
       "      <th>nostopstring</th>\n",
       "      <th>contains_fitword</th>\n",
       "      <th>contains_fit30word</th>\n",
       "    </tr>\n",
       "  </thead>\n",
       "  <tbody>\n",
       "    <tr>\n",
       "      <th>0</th>\n",
       "      <td>the best exercises for skinny legs?</td>\n",
       "      <td>NaN</td>\n",
       "      <td>the best exercises for skinny legs?</td>\n",
       "      <td>0</td>\n",
       "      <td>2020-01-28 20:49:17</td>\n",
       "      <td>[the, best, exercises, for, skinny, legs]</td>\n",
       "      <td>[the, best, exercise, for, skinny, leg]</td>\n",
       "      <td>[best, exercise, skinny, leg]</td>\n",
       "      <td>best exercise skinny leg</td>\n",
       "      <td>1</td>\n",
       "      <td>0</td>\n",
       "    </tr>\n",
       "    <tr>\n",
       "      <th>1</th>\n",
       "      <td>Lifting &amp;amp; Swimming for building mass?</td>\n",
       "      <td>NaN</td>\n",
       "      <td>Lifting &amp;amp; Swimming for building mass?</td>\n",
       "      <td>0</td>\n",
       "      <td>2020-01-28 20:42:41</td>\n",
       "      <td>[lifting, amp, swimming, for, building, mass]</td>\n",
       "      <td>[lifting, amp, swimming, for, building, mass]</td>\n",
       "      <td>[lifting, amp, swimming, building, mass]</td>\n",
       "      <td>lifting amp swimming building mass</td>\n",
       "      <td>0</td>\n",
       "      <td>1</td>\n",
       "    </tr>\n",
       "    <tr>\n",
       "      <th>2</th>\n",
       "      <td>Are arm sleeves a thing in fitness?</td>\n",
       "      <td>NaN</td>\n",
       "      <td>Are arm sleeves a thing in fitness?</td>\n",
       "      <td>0</td>\n",
       "      <td>2020-01-28 20:40:46</td>\n",
       "      <td>[are, arm, sleeves, a, thing, in, fitness]</td>\n",
       "      <td>[are, arm, sleeve, a, thing, in, fitness]</td>\n",
       "      <td>[arm, sleeve, thing, fitness]</td>\n",
       "      <td>arm sleeve thing fitness</td>\n",
       "      <td>0</td>\n",
       "      <td>1</td>\n",
       "    </tr>\n",
       "    <tr>\n",
       "      <th>3</th>\n",
       "      <td>Muscle builders of Reddit, what are some recom...</td>\n",
       "      <td>NaN</td>\n",
       "      <td>Muscle builders of Reddit, what are some recom...</td>\n",
       "      <td>0</td>\n",
       "      <td>2020-01-28 20:38:16</td>\n",
       "      <td>[muscle, builders, of, reddit, what, are, some...</td>\n",
       "      <td>[muscle, builder, of, reddit, what, are, some,...</td>\n",
       "      <td>[muscle, builder, reddit, recommended, food, e...</td>\n",
       "      <td>muscle builder reddit recommended food eat hel...</td>\n",
       "      <td>1</td>\n",
       "      <td>0</td>\n",
       "    </tr>\n",
       "    <tr>\n",
       "      <th>4</th>\n",
       "      <td>What are some really helpful features that can...</td>\n",
       "      <td>NaN</td>\n",
       "      <td>What are some really helpful features that can...</td>\n",
       "      <td>0</td>\n",
       "      <td>2020-01-28 20:33:23</td>\n",
       "      <td>[what, are, some, really, helpful, features, t...</td>\n",
       "      <td>[what, are, some, really, helpful, feature, th...</td>\n",
       "      <td>[really, helpful, feature, added, macro, calor...</td>\n",
       "      <td>really helpful feature added macro calorie tra...</td>\n",
       "      <td>1</td>\n",
       "      <td>0</td>\n",
       "    </tr>\n",
       "  </tbody>\n",
       "</table>\n",
       "</div>"
      ],
      "text/plain": [
       "                                               title selftext  \\\n",
       "0                the best exercises for skinny legs?      NaN   \n",
       "1          Lifting &amp; Swimming for building mass?      NaN   \n",
       "2                Are arm sleeves a thing in fitness?      NaN   \n",
       "3  Muscle builders of Reddit, what are some recom...      NaN   \n",
       "4  What are some really helpful features that can...      NaN   \n",
       "\n",
       "                                             alltext  subreddit  \\\n",
       "0               the best exercises for skinny legs?           0   \n",
       "1         Lifting &amp; Swimming for building mass?           0   \n",
       "2               Are arm sleeves a thing in fitness?           0   \n",
       "3  Muscle builders of Reddit, what are some recom...          0   \n",
       "4  What are some really helpful features that can...          0   \n",
       "\n",
       "           created_utc                                          tokenized  \\\n",
       "0  2020-01-28 20:49:17          [the, best, exercises, for, skinny, legs]   \n",
       "1  2020-01-28 20:42:41      [lifting, amp, swimming, for, building, mass]   \n",
       "2  2020-01-28 20:40:46         [are, arm, sleeves, a, thing, in, fitness]   \n",
       "3  2020-01-28 20:38:16  [muscle, builders, of, reddit, what, are, some...   \n",
       "4  2020-01-28 20:33:23  [what, are, some, really, helpful, features, t...   \n",
       "\n",
       "                                          tokens_lem  \\\n",
       "0            [the, best, exercise, for, skinny, leg]   \n",
       "1      [lifting, amp, swimming, for, building, mass]   \n",
       "2          [are, arm, sleeve, a, thing, in, fitness]   \n",
       "3  [muscle, builder, of, reddit, what, are, some,...   \n",
       "4  [what, are, some, really, helpful, feature, th...   \n",
       "\n",
       "                                             nostops  \\\n",
       "0                      [best, exercise, skinny, leg]   \n",
       "1           [lifting, amp, swimming, building, mass]   \n",
       "2                      [arm, sleeve, thing, fitness]   \n",
       "3  [muscle, builder, reddit, recommended, food, e...   \n",
       "4  [really, helpful, feature, added, macro, calor...   \n",
       "\n",
       "                                        nostopstring  contains_fitword  \\\n",
       "0                           best exercise skinny leg                 1   \n",
       "1                 lifting amp swimming building mass                 0   \n",
       "2                           arm sleeve thing fitness                 0   \n",
       "3  muscle builder reddit recommended food eat hel...                 1   \n",
       "4  really helpful feature added macro calorie tra...                 1   \n",
       "\n",
       "   contains_fit30word  \n",
       "0                   0  \n",
       "1                   1  \n",
       "2                   1  \n",
       "3                   0  \n",
       "4                   0  "
      ]
     },
     "execution_count": 41,
     "metadata": {},
     "output_type": "execute_result"
    }
   ],
   "source": [
    "df[cols].head()"
   ]
  },
  {
   "cell_type": "markdown",
   "metadata": {},
   "source": [
    "#### Feature: age token"
   ]
  },
  {
   "cell_type": "code",
   "execution_count": 45,
   "metadata": {},
   "outputs": [],
   "source": [
    "def old_age_token(post):\n",
    "    for word in post:\n",
    "        if word.isnumeric():\n",
    "            word = int(word)\n",
    "            if (30 <= word <= 80): # Stop at 80, otherwise we're picking up bodyweights and best lifts\n",
    "                return 1\n",
    "    return 0"
   ]
  },
  {
   "cell_type": "code",
   "execution_count": 49,
   "metadata": {},
   "outputs": [],
   "source": [
    "def young_age_token(post):\n",
    "    for word in post:\n",
    "        if word.isnumeric():\n",
    "            word = int(word)\n",
    "            if (13 <= word <= 29): \n",
    "                return 1\n",
    "    return 0"
   ]
  },
  {
   "cell_type": "code",
   "execution_count": 47,
   "metadata": {},
   "outputs": [],
   "source": [
    "df['old_age_token'] = df['nostops'].apply(old_age_token)\n",
    "cols.append('old_age_token')"
   ]
  },
  {
   "cell_type": "code",
   "execution_count": 50,
   "metadata": {},
   "outputs": [],
   "source": [
    "df['young_age_token'] = df['nostops'].apply(young_age_token)\n",
    "cols.append('young_age_token')"
   ]
  },
  {
   "cell_type": "markdown",
   "metadata": {},
   "source": [
    "#### Feature: length"
   ]
  },
  {
   "cell_type": "code",
   "execution_count": 56,
   "metadata": {},
   "outputs": [],
   "source": [
    "df['length'] = df['nostops'].apply(lambda x: len(x))\n",
    "cols.append('length')"
   ]
  },
  {
   "cell_type": "code",
   "execution_count": 57,
   "metadata": {},
   "outputs": [
    {
     "data": {
      "text/html": [
       "<div>\n",
       "<style scoped>\n",
       "    .dataframe tbody tr th:only-of-type {\n",
       "        vertical-align: middle;\n",
       "    }\n",
       "\n",
       "    .dataframe tbody tr th {\n",
       "        vertical-align: top;\n",
       "    }\n",
       "\n",
       "    .dataframe thead th {\n",
       "        text-align: right;\n",
       "    }\n",
       "</style>\n",
       "<table border=\"1\" class=\"dataframe\">\n",
       "  <thead>\n",
       "    <tr style=\"text-align: right;\">\n",
       "      <th></th>\n",
       "      <th>title</th>\n",
       "      <th>selftext</th>\n",
       "      <th>alltext</th>\n",
       "      <th>subreddit</th>\n",
       "      <th>created_utc</th>\n",
       "      <th>tokenized</th>\n",
       "      <th>tokens_lem</th>\n",
       "      <th>nostops</th>\n",
       "      <th>nostopstring</th>\n",
       "      <th>contains_fitword</th>\n",
       "      <th>contains_fit30word</th>\n",
       "      <th>old_age_token</th>\n",
       "      <th>old_age_token</th>\n",
       "      <th>young_age_token</th>\n",
       "      <th>young_age_token</th>\n",
       "      <th>length</th>\n",
       "    </tr>\n",
       "  </thead>\n",
       "  <tbody>\n",
       "    <tr>\n",
       "      <th>0</th>\n",
       "      <td>the best exercises for skinny legs?</td>\n",
       "      <td>NaN</td>\n",
       "      <td>the best exercises for skinny legs?</td>\n",
       "      <td>0</td>\n",
       "      <td>2020-01-28 20:49:17</td>\n",
       "      <td>[the, best, exercises, for, skinny, legs]</td>\n",
       "      <td>[the, best, exercise, for, skinny, leg]</td>\n",
       "      <td>[best, exercise, skinny, leg]</td>\n",
       "      <td>best exercise skinny leg</td>\n",
       "      <td>1</td>\n",
       "      <td>0</td>\n",
       "      <td>0</td>\n",
       "      <td>0</td>\n",
       "      <td>0</td>\n",
       "      <td>0</td>\n",
       "      <td>4</td>\n",
       "    </tr>\n",
       "    <tr>\n",
       "      <th>1</th>\n",
       "      <td>Lifting &amp;amp; Swimming for building mass?</td>\n",
       "      <td>NaN</td>\n",
       "      <td>Lifting &amp;amp; Swimming for building mass?</td>\n",
       "      <td>0</td>\n",
       "      <td>2020-01-28 20:42:41</td>\n",
       "      <td>[lifting, amp, swimming, for, building, mass]</td>\n",
       "      <td>[lifting, amp, swimming, for, building, mass]</td>\n",
       "      <td>[lifting, amp, swimming, building, mass]</td>\n",
       "      <td>lifting amp swimming building mass</td>\n",
       "      <td>0</td>\n",
       "      <td>1</td>\n",
       "      <td>0</td>\n",
       "      <td>0</td>\n",
       "      <td>0</td>\n",
       "      <td>0</td>\n",
       "      <td>5</td>\n",
       "    </tr>\n",
       "    <tr>\n",
       "      <th>2</th>\n",
       "      <td>Are arm sleeves a thing in fitness?</td>\n",
       "      <td>NaN</td>\n",
       "      <td>Are arm sleeves a thing in fitness?</td>\n",
       "      <td>0</td>\n",
       "      <td>2020-01-28 20:40:46</td>\n",
       "      <td>[are, arm, sleeves, a, thing, in, fitness]</td>\n",
       "      <td>[are, arm, sleeve, a, thing, in, fitness]</td>\n",
       "      <td>[arm, sleeve, thing, fitness]</td>\n",
       "      <td>arm sleeve thing fitness</td>\n",
       "      <td>0</td>\n",
       "      <td>1</td>\n",
       "      <td>0</td>\n",
       "      <td>0</td>\n",
       "      <td>0</td>\n",
       "      <td>0</td>\n",
       "      <td>4</td>\n",
       "    </tr>\n",
       "    <tr>\n",
       "      <th>3</th>\n",
       "      <td>Muscle builders of Reddit, what are some recom...</td>\n",
       "      <td>NaN</td>\n",
       "      <td>Muscle builders of Reddit, what are some recom...</td>\n",
       "      <td>0</td>\n",
       "      <td>2020-01-28 20:38:16</td>\n",
       "      <td>[muscle, builders, of, reddit, what, are, some...</td>\n",
       "      <td>[muscle, builder, of, reddit, what, are, some,...</td>\n",
       "      <td>[muscle, builder, reddit, recommended, food, e...</td>\n",
       "      <td>muscle builder reddit recommended food eat hel...</td>\n",
       "      <td>1</td>\n",
       "      <td>0</td>\n",
       "      <td>0</td>\n",
       "      <td>0</td>\n",
       "      <td>0</td>\n",
       "      <td>0</td>\n",
       "      <td>9</td>\n",
       "    </tr>\n",
       "    <tr>\n",
       "      <th>4</th>\n",
       "      <td>What are some really helpful features that can...</td>\n",
       "      <td>NaN</td>\n",
       "      <td>What are some really helpful features that can...</td>\n",
       "      <td>0</td>\n",
       "      <td>2020-01-28 20:33:23</td>\n",
       "      <td>[what, are, some, really, helpful, features, t...</td>\n",
       "      <td>[what, are, some, really, helpful, feature, th...</td>\n",
       "      <td>[really, helpful, feature, added, macro, calor...</td>\n",
       "      <td>really helpful feature added macro calorie tra...</td>\n",
       "      <td>1</td>\n",
       "      <td>0</td>\n",
       "      <td>0</td>\n",
       "      <td>0</td>\n",
       "      <td>0</td>\n",
       "      <td>0</td>\n",
       "      <td>8</td>\n",
       "    </tr>\n",
       "  </tbody>\n",
       "</table>\n",
       "</div>"
      ],
      "text/plain": [
       "                                               title selftext  \\\n",
       "0                the best exercises for skinny legs?      NaN   \n",
       "1          Lifting &amp; Swimming for building mass?      NaN   \n",
       "2                Are arm sleeves a thing in fitness?      NaN   \n",
       "3  Muscle builders of Reddit, what are some recom...      NaN   \n",
       "4  What are some really helpful features that can...      NaN   \n",
       "\n",
       "                                             alltext  subreddit  \\\n",
       "0               the best exercises for skinny legs?           0   \n",
       "1         Lifting &amp; Swimming for building mass?           0   \n",
       "2               Are arm sleeves a thing in fitness?           0   \n",
       "3  Muscle builders of Reddit, what are some recom...          0   \n",
       "4  What are some really helpful features that can...          0   \n",
       "\n",
       "           created_utc                                          tokenized  \\\n",
       "0  2020-01-28 20:49:17          [the, best, exercises, for, skinny, legs]   \n",
       "1  2020-01-28 20:42:41      [lifting, amp, swimming, for, building, mass]   \n",
       "2  2020-01-28 20:40:46         [are, arm, sleeves, a, thing, in, fitness]   \n",
       "3  2020-01-28 20:38:16  [muscle, builders, of, reddit, what, are, some...   \n",
       "4  2020-01-28 20:33:23  [what, are, some, really, helpful, features, t...   \n",
       "\n",
       "                                          tokens_lem  \\\n",
       "0            [the, best, exercise, for, skinny, leg]   \n",
       "1      [lifting, amp, swimming, for, building, mass]   \n",
       "2          [are, arm, sleeve, a, thing, in, fitness]   \n",
       "3  [muscle, builder, of, reddit, what, are, some,...   \n",
       "4  [what, are, some, really, helpful, feature, th...   \n",
       "\n",
       "                                             nostops  \\\n",
       "0                      [best, exercise, skinny, leg]   \n",
       "1           [lifting, amp, swimming, building, mass]   \n",
       "2                      [arm, sleeve, thing, fitness]   \n",
       "3  [muscle, builder, reddit, recommended, food, e...   \n",
       "4  [really, helpful, feature, added, macro, calor...   \n",
       "\n",
       "                                        nostopstring  contains_fitword  \\\n",
       "0                           best exercise skinny leg                 1   \n",
       "1                 lifting amp swimming building mass                 0   \n",
       "2                           arm sleeve thing fitness                 0   \n",
       "3  muscle builder reddit recommended food eat hel...                 1   \n",
       "4  really helpful feature added macro calorie tra...                 1   \n",
       "\n",
       "   contains_fit30word  old_age_token  old_age_token  young_age_token  \\\n",
       "0                   0              0              0                0   \n",
       "1                   1              0              0                0   \n",
       "2                   1              0              0                0   \n",
       "3                   0              0              0                0   \n",
       "4                   0              0              0                0   \n",
       "\n",
       "   young_age_token  length  \n",
       "0                0       4  \n",
       "1                0       5  \n",
       "2                0       4  \n",
       "3                0       9  \n",
       "4                0       8  "
      ]
     },
     "execution_count": 57,
     "metadata": {},
     "output_type": "execute_result"
    }
   ],
   "source": [
    "df[cols].head()"
   ]
  },
  {
   "cell_type": "markdown",
   "metadata": {},
   "source": [
    "### Train Test Split"
   ]
  },
  {
   "cell_type": "code",
   "execution_count": 167,
   "metadata": {},
   "outputs": [],
   "source": [
    "model_cols = ['nostopstring', \n",
    "              'contains_fitword', \n",
    "              'contains_fit30word', \n",
    "              'old_age_token',\n",
    "              'young_age_token',\n",
    "              'length']\n",
    "X = df[model_cols]"
   ]
  },
  {
   "cell_type": "code",
   "execution_count": 168,
   "metadata": {},
   "outputs": [],
   "source": [
    "y = df['subreddit']"
   ]
  },
  {
   "cell_type": "code",
   "execution_count": 169,
   "metadata": {},
   "outputs": [],
   "source": [
    "X_train, X_test, y_train, y_test = train_test_split(X,\n",
    "                                                    y,\n",
    "                                                    test_size=0.33,\n",
    "                                                    stratify=y,\n",
    "                                                    random_state=42)"
   ]
  },
  {
   "cell_type": "markdown",
   "metadata": {},
   "source": [
    "### Count Vectorizer"
   ]
  },
  {
   "cell_type": "code",
   "execution_count": 170,
   "metadata": {},
   "outputs": [],
   "source": [
    "# Re initialize cvec, now apply to train test split\n",
    "cvec = CountVectorizer(\n",
    "    analyzer = \"word\",\n",
    "    tokenizer = None,\n",
    "    preprocessor = None,\n",
    "    stop_words = None,\n",
    "    max_features = 5000\n",
    ")"
   ]
  },
  {
   "cell_type": "code",
   "execution_count": 171,
   "metadata": {},
   "outputs": [],
   "source": [
    "train_cvec = cvec.fit_transform(X_train['nostopstring'])\n",
    "test_cvec = cvec.transform(X_test['nostopstring'])"
   ]
  },
  {
   "cell_type": "code",
   "execution_count": 172,
   "metadata": {},
   "outputs": [
    {
     "data": {
      "text/plain": [
       "['zeroed', 'zone', 'zottman', 'zucchini', 'बन']"
      ]
     },
     "execution_count": 172,
     "metadata": {},
     "output_type": "execute_result"
    }
   ],
   "source": [
    "cvec.get_feature_names()[4995:]"
   ]
  },
  {
   "cell_type": "code",
   "execution_count": 173,
   "metadata": {
    "scrolled": true
   },
   "outputs": [
    {
     "data": {
      "text/plain": [
       "(<1389x5000 sparse matrix of type '<class 'numpy.int64'>'\n",
       " \twith 42276 stored elements in Compressed Sparse Row format>,\n",
       " <685x5000 sparse matrix of type '<class 'numpy.int64'>'\n",
       " \twith 19306 stored elements in Compressed Sparse Row format>)"
      ]
     },
     "execution_count": 173,
     "metadata": {},
     "output_type": "execute_result"
    }
   ],
   "source": [
    "train_cvec, test_cvec"
   ]
  },
  {
   "cell_type": "markdown",
   "metadata": {},
   "source": [
    "#### TFIDF Vectorizer"
   ]
  },
  {
   "cell_type": "code",
   "execution_count": 174,
   "metadata": {},
   "outputs": [],
   "source": [
    "tvec = TfidfVectorizer(max_features = 5000)"
   ]
  },
  {
   "cell_type": "code",
   "execution_count": 175,
   "metadata": {},
   "outputs": [],
   "source": [
    "train_tvec = tvec.fit_transform(X_train['nostopstring'])\n",
    "test_tvec = tvec.transform(X_test['nostopstring'])"
   ]
  },
  {
   "cell_type": "code",
   "execution_count": 176,
   "metadata": {},
   "outputs": [
    {
     "data": {
      "text/plain": [
       "<1389x5000 sparse matrix of type '<class 'numpy.float64'>'\n",
       "\twith 42276 stored elements in Compressed Sparse Row format>"
      ]
     },
     "execution_count": 176,
     "metadata": {},
     "output_type": "execute_result"
    }
   ],
   "source": [
    "train_tvec"
   ]
  },
  {
   "cell_type": "code",
   "execution_count": 177,
   "metadata": {},
   "outputs": [],
   "source": [
    "# Add our dummy features to count vectorizer\n",
    "#train_feat = np.vstack([train_cvec.toarray().T, X_train['contains_fitword'], X_train['contains_fit30word']]).T"
   ]
  },
  {
   "cell_type": "code",
   "execution_count": 178,
   "metadata": {},
   "outputs": [],
   "source": [
    "#test_feat = np.vstack([test_cvec.toarray().T, X_test['contains_fitword'], X_test['contains_fit30word']]).T"
   ]
  },
  {
   "cell_type": "code",
   "execution_count": 179,
   "metadata": {},
   "outputs": [],
   "source": [
    "#train_feat.T.shape, test_feat.shape"
   ]
  },
  {
   "cell_type": "markdown",
   "metadata": {},
   "source": [
    "## Modeling"
   ]
  },
  {
   "cell_type": "code",
   "execution_count": 180,
   "metadata": {
    "scrolled": true
   },
   "outputs": [
    {
     "data": {
      "text/plain": [
       "LogisticRegression(C=1, class_weight=None, dual=False, fit_intercept=True,\n",
       "                   intercept_scaling=1, l1_ratio=None, max_iter=100,\n",
       "                   multi_class='warn', n_jobs=None, penalty='l2',\n",
       "                   random_state=None, solver='liblinear', tol=0.0001, verbose=0,\n",
       "                   warm_start=False)"
      ]
     },
     "execution_count": 180,
     "metadata": {},
     "output_type": "execute_result"
    }
   ],
   "source": [
    "lr = LogisticRegression(solver = 'liblinear', C = 1)\n",
    "lr.fit(train_tvec, y_train)"
   ]
  },
  {
   "cell_type": "code",
   "execution_count": 181,
   "metadata": {},
   "outputs": [
    {
     "data": {
      "image/png": "[encoded data removed]",
      "text/plain": [
       "<Figure size 432x288 with 1 Axes>"
      ]
     },
     "metadata": {},
     "output_type": "display_data"
    }
   ],
   "source": [
    "#Strongest Coefficients\n",
    "plt.style.use('ggplot')\n",
    "marcos = pd.Series(lr.coef_[0], index=tvec.get_feature_names()).sort_values()\n",
    "window_size=10\n",
    "pd.concat([marcos.head(window_size), marcos.tail(window_size)]).plot(kind='barh')\n",
    "plt.title('Strongest Logistic Regression Coefficients')\n",
    "plt.savefig('./plots/coefficients.png');"
   ]
  },
  {
   "cell_type": "markdown",
   "metadata": {},
   "source": [
    "### Custom Posts"
   ]
  },
  {
   "cell_type": "markdown",
   "metadata": {},
   "source": [
    "Here we can test out our subreddit specific words from EDA and see if our model predicts correctly for them."
   ]
  },
  {
   "cell_type": "code",
   "execution_count": 70,
   "metadata": {},
   "outputs": [],
   "source": [
    "def joinwords(words):\n",
    "    return (\" \".join(words))"
   ]
  },
  {
   "cell_type": "code",
   "execution_count": 71,
   "metadata": {},
   "outputs": [
    {
     "name": "stdout",
     "output_type": "stream",
     "text": [
      "Should be 0:  [0]\n",
      "Should be 1:  [1]\n"
     ]
    }
   ],
   "source": [
    "# Successful predictions\n",
    "print('Should be 0: ', lr.predict(tvec.transform([joinwords(fit_words)])))\n",
    "print('Should be 1: ',lr.predict(tvec.transform([joinwords(fit30_words)])))"
   ]
  },
  {
   "cell_type": "code",
   "execution_count": 72,
   "metadata": {},
   "outputs": [
    {
     "data": {
      "text/plain": [
       "array([1.])"
      ]
     },
     "execution_count": 72,
     "metadata": {},
     "output_type": "execute_result"
    }
   ],
   "source": [
    "# Chance it's from fitness\n",
    "lr.predict_proba(cvec.transform([joinwords(fit_words)]))[:,0]"
   ]
  },
  {
   "cell_type": "code",
   "execution_count": 73,
   "metadata": {},
   "outputs": [
    {
     "data": {
      "text/plain": [
       "array([0.99999983])"
      ]
     },
     "execution_count": 73,
     "metadata": {},
     "output_type": "execute_result"
    }
   ],
   "source": [
    "# Chance it's from fitness30plus\n",
    "lr.predict_proba(cvec.transform([joinwords(fit30_words)]))[:,1] "
   ]
  },
  {
   "cell_type": "code",
   "execution_count": 74,
   "metadata": {},
   "outputs": [
    {
     "data": {
      "text/plain": [
       "array([[0.86185819, 0.13814181]])"
      ]
     },
     "execution_count": 74,
     "metadata": {},
     "output_type": "execute_result"
    }
   ],
   "source": [
    "lr.predict_proba(cvec.transform(['get back in shape']))\n",
    "lr.predict_proba(cvec.transform(['gain weight']))"
   ]
  },
  {
   "cell_type": "markdown",
   "metadata": {},
   "source": [
    "First model will get predict proba from CVEC / TVEC. Second model will be engineered features + predict proba."
   ]
  },
  {
   "cell_type": "markdown",
   "metadata": {},
   "source": [
    "### Basic Logistic Regression"
   ]
  },
  {
   "cell_type": "code",
   "execution_count": 75,
   "metadata": {},
   "outputs": [
    {
     "data": {
      "text/plain": [
       "(0.8970482361411087, 0.7094890510948905)"
      ]
     },
     "execution_count": 75,
     "metadata": {},
     "output_type": "execute_result"
    }
   ],
   "source": [
    "lr.fit(train_tvec, y_train)\n",
    "lr.score(train_tvec, y_train), lr.score(test_tvec, y_test)"
   ]
  },
  {
   "cell_type": "code",
   "execution_count": 76,
   "metadata": {},
   "outputs": [
    {
     "data": {
      "text/plain": [
       "array([[9.99916579e-01, 8.34206699e-05],\n",
       "       [7.55350792e-01, 2.44649208e-01],\n",
       "       [1.70232270e-03, 9.98297677e-01],\n",
       "       ...,\n",
       "       [7.14943741e-01, 2.85056259e-01],\n",
       "       [9.99999814e-01, 1.86327238e-07],\n",
       "       [9.99255063e-01, 7.44936898e-04]])"
      ]
     },
     "execution_count": 76,
     "metadata": {},
     "output_type": "execute_result"
    }
   ],
   "source": [
    "# Predict Proba\n",
    "lr.predict_proba(test_cvec)"
   ]
  },
  {
   "cell_type": "markdown",
   "metadata": {},
   "source": [
    "### Naive Bayes"
   ]
  },
  {
   "cell_type": "code",
   "execution_count": 77,
   "metadata": {},
   "outputs": [
    {
     "data": {
      "text/plain": [
       "(0.8855291576673866, 0.6233576642335766)"
      ]
     },
     "execution_count": 77,
     "metadata": {},
     "output_type": "execute_result"
    }
   ],
   "source": [
    "# Gaussian\n",
    "gnb = GaussianNB()\n",
    "gnb.fit(train_tvec.toarray(), y_train)\n",
    "gnb.score(train_tvec.toarray(), y_train), gnb.score(test_tvec.toarray(), y_test)"
   ]
  },
  {
   "cell_type": "code",
   "execution_count": 78,
   "metadata": {},
   "outputs": [
    {
     "data": {
      "text/plain": [
       "(0.86321094312455, 0.6905109489051094)"
      ]
     },
     "execution_count": 78,
     "metadata": {},
     "output_type": "execute_result"
    }
   ],
   "source": [
    "# Multinomial\n",
    "mnb = MultinomialNB()\n",
    "mnb.fit(train_tvec.toarray(), y_train)\n",
    "mnb.score(train_tvec.toarray(), y_train), mnb.score(test_tvec.toarray(), y_test)"
   ]
  },
  {
   "cell_type": "code",
   "execution_count": 79,
   "metadata": {},
   "outputs": [
    {
     "data": {
      "text/plain": [
       "array([[9.99996898e-01, 3.10186856e-06],\n",
       "       [7.51997680e-01, 2.48002320e-01],\n",
       "       [3.56630688e-03, 9.96433693e-01],\n",
       "       ...,\n",
       "       [9.10635274e-01, 8.93647257e-02],\n",
       "       [9.99967461e-01, 3.25387799e-05],\n",
       "       [9.81100617e-01, 1.88993826e-02]])"
      ]
     },
     "execution_count": 79,
     "metadata": {},
     "output_type": "execute_result"
    }
   ],
   "source": [
    "mnb.predict_proba(test_cvec.toarray())"
   ]
  },
  {
   "cell_type": "markdown",
   "metadata": {},
   "source": [
    "### Random Forest"
   ]
  },
  {
   "cell_type": "code",
   "execution_count": 80,
   "metadata": {},
   "outputs": [
    {
     "name": "stderr",
     "output_type": "stream",
     "text": [
      "/opt/anaconda3/lib/python3.7/site-packages/sklearn/ensemble/forest.py:245: FutureWarning: The default value of n_estimators will change from 10 in version 0.20 to 100 in 0.22.\n",
      "  \"10 in version 0.20 to 100 in 0.22.\", FutureWarning)\n"
     ]
    },
    {
     "data": {
      "text/plain": [
       "(0.9848812095032398, 0.6686131386861314)"
      ]
     },
     "execution_count": 80,
     "metadata": {},
     "output_type": "execute_result"
    }
   ],
   "source": [
    "rf = RandomForestClassifier()\n",
    "rf.fit(train_tvec.toarray(), y_train)\n",
    "rf.score(train_tvec.toarray(), y_train), rf.score(test_tvec.toarray(), y_test)"
   ]
  },
  {
   "cell_type": "code",
   "execution_count": 81,
   "metadata": {},
   "outputs": [
    {
     "data": {
      "text/plain": [
       "array([[0.9, 0.1],\n",
       "       [0.3, 0.7],\n",
       "       [0.1, 0.9],\n",
       "       ...,\n",
       "       [0.4, 0.6],\n",
       "       [0.6, 0.4],\n",
       "       [0.5, 0.5]])"
      ]
     },
     "execution_count": 81,
     "metadata": {},
     "output_type": "execute_result"
    }
   ],
   "source": [
    "rf.predict_proba(test_tvec.toarray())"
   ]
  },
  {
   "cell_type": "markdown",
   "metadata": {},
   "source": [
    "### New model will use predict_proba + new features"
   ]
  },
  {
   "cell_type": "code",
   "execution_count": 82,
   "metadata": {},
   "outputs": [
    {
     "name": "stderr",
     "output_type": "stream",
     "text": [
      "/opt/anaconda3/lib/python3.7/site-packages/ipykernel_launcher.py:2: SettingWithCopyWarning: \n",
      "A value is trying to be set on a copy of a slice from a DataFrame.\n",
      "Try using .loc[row_indexer,col_indexer] = value instead\n",
      "\n",
      "See the caveats in the documentation: http://pandas.pydata.org/pandas-docs/stable/user_guide/indexing.html#returning-a-view-versus-a-copy\n",
      "  \n",
      "/opt/anaconda3/lib/python3.7/site-packages/ipykernel_launcher.py:3: SettingWithCopyWarning: \n",
      "A value is trying to be set on a copy of a slice from a DataFrame.\n",
      "Try using .loc[row_indexer,col_indexer] = value instead\n",
      "\n",
      "See the caveats in the documentation: http://pandas.pydata.org/pandas-docs/stable/user_guide/indexing.html#returning-a-view-versus-a-copy\n",
      "  This is separate from the ipykernel package so we can avoid doing imports until\n"
     ]
    }
   ],
   "source": [
    "# Predict proba is proba for fit30 (the positive class)\n",
    "X_train['predict_proba'] = mnb.predict_proba(train_tvec.toarray())[:,1]\n",
    "X_test['predict_proba'] = mnb.predict_proba(test_tvec.toarray())[:,1]"
   ]
  },
  {
   "cell_type": "code",
   "execution_count": 83,
   "metadata": {},
   "outputs": [
    {
     "data": {
      "text/html": [
       "<div>\n",
       "<style scoped>\n",
       "    .dataframe tbody tr th:only-of-type {\n",
       "        vertical-align: middle;\n",
       "    }\n",
       "\n",
       "    .dataframe tbody tr th {\n",
       "        vertical-align: top;\n",
       "    }\n",
       "\n",
       "    .dataframe thead th {\n",
       "        text-align: right;\n",
       "    }\n",
       "</style>\n",
       "<table border=\"1\" class=\"dataframe\">\n",
       "  <thead>\n",
       "    <tr style=\"text-align: right;\">\n",
       "      <th></th>\n",
       "      <th>nostopstring</th>\n",
       "      <th>contains_fitword</th>\n",
       "      <th>contains_fit30word</th>\n",
       "      <th>old_age_token</th>\n",
       "      <th>young_age_token</th>\n",
       "      <th>length</th>\n",
       "      <th>predict_proba</th>\n",
       "    </tr>\n",
       "  </thead>\n",
       "  <tbody>\n",
       "    <tr>\n",
       "      <th>466</th>\n",
       "      <td>vitamin deficiency benefit vitamin</td>\n",
       "      <td>0</td>\n",
       "      <td>1</td>\n",
       "      <td>0</td>\n",
       "      <td>0</td>\n",
       "      <td>4</td>\n",
       "      <td>0.325070</td>\n",
       "    </tr>\n",
       "    <tr>\n",
       "      <th>483</th>\n",
       "      <td>bulking want slim help</td>\n",
       "      <td>1</td>\n",
       "      <td>1</td>\n",
       "      <td>0</td>\n",
       "      <td>0</td>\n",
       "      <td>4</td>\n",
       "      <td>0.204061</td>\n",
       "    </tr>\n",
       "    <tr>\n",
       "      <th>46</th>\n",
       "      <td>worth devoting hour work look good really wort...</td>\n",
       "      <td>1</td>\n",
       "      <td>1</td>\n",
       "      <td>0</td>\n",
       "      <td>0</td>\n",
       "      <td>15</td>\n",
       "      <td>0.331151</td>\n",
       "    </tr>\n",
       "    <tr>\n",
       "      <th>1496</th>\n",
       "      <td>bench fail working hard increase bench past mo...</td>\n",
       "      <td>1</td>\n",
       "      <td>1</td>\n",
       "      <td>0</td>\n",
       "      <td>0</td>\n",
       "      <td>47</td>\n",
       "      <td>0.448606</td>\n",
       "    </tr>\n",
       "    <tr>\n",
       "      <th>1924</th>\n",
       "      <td>31 year old 6 0 new father combatting dad bod ...</td>\n",
       "      <td>1</td>\n",
       "      <td>1</td>\n",
       "      <td>1</td>\n",
       "      <td>0</td>\n",
       "      <td>22</td>\n",
       "      <td>0.912127</td>\n",
       "    </tr>\n",
       "  </tbody>\n",
       "</table>\n",
       "</div>"
      ],
      "text/plain": [
       "                                           nostopstring  contains_fitword  \\\n",
       "466                  vitamin deficiency benefit vitamin                 0   \n",
       "483                              bulking want slim help                 1   \n",
       "46    worth devoting hour work look good really wort...                 1   \n",
       "1496  bench fail working hard increase bench past mo...                 1   \n",
       "1924  31 year old 6 0 new father combatting dad bod ...                 1   \n",
       "\n",
       "      contains_fit30word  old_age_token  young_age_token  length  \\\n",
       "466                    1              0                0       4   \n",
       "483                    1              0                0       4   \n",
       "46                     1              0                0      15   \n",
       "1496                   1              0                0      47   \n",
       "1924                   1              1                0      22   \n",
       "\n",
       "      predict_proba  \n",
       "466        0.325070  \n",
       "483        0.204061  \n",
       "46         0.331151  \n",
       "1496       0.448606  \n",
       "1924       0.912127  "
      ]
     },
     "execution_count": 83,
     "metadata": {},
     "output_type": "execute_result"
    }
   ],
   "source": [
    "X_train.head()"
   ]
  },
  {
   "cell_type": "code",
   "execution_count": 117,
   "metadata": {},
   "outputs": [],
   "source": [
    "new_model_cols = ['contains_fitword', \n",
    "                  'contains_fit30word', \n",
    "                  'old_age_token', \n",
    "                  'young_age_token',\n",
    "                  'length', \n",
    "                  'predict_proba']\n",
    "Xtrain1 = X_train[new_model_cols]\n",
    "Xtest1 = X_test[new_model_cols]"
   ]
  },
  {
   "cell_type": "code",
   "execution_count": 118,
   "metadata": {},
   "outputs": [
    {
     "data": {
      "text/plain": [
       "RandomForestClassifier(bootstrap=True, class_weight=None, criterion='gini',\n",
       "                       max_depth=None, max_features='auto', max_leaf_nodes=None,\n",
       "                       min_impurity_decrease=0.0, min_impurity_split=None,\n",
       "                       min_samples_leaf=1, min_samples_split=2,\n",
       "                       min_weight_fraction_leaf=0.0, n_estimators=10,\n",
       "                       n_jobs=None, oob_score=False, random_state=None,\n",
       "                       verbose=0, warm_start=False)"
      ]
     },
     "execution_count": 118,
     "metadata": {},
     "output_type": "execute_result"
    }
   ],
   "source": [
    "lr.fit(Xtrain1, y_train)\n",
    "mnb.fit(Xtrain1, y_train)\n",
    "gnb.fit(Xtrain1, y_train)\n",
    "rf.fit(Xtrain1, y_train)"
   ]
  },
  {
   "cell_type": "code",
   "execution_count": 119,
   "metadata": {},
   "outputs": [
    {
     "name": "stdout",
     "output_type": "stream",
     "text": [
      "Logistic Regression:  0.9157667386609071 0.7197080291970803\n",
      "Multinomial:  0.6277897768178545 0.6058394160583942\n",
      "Gaussian:  0.8884089272858171 0.7357664233576642\n",
      "Random Forest:  0.9884809215262779 0.691970802919708\n"
     ]
    }
   ],
   "source": [
    "#Gaussian wins\n",
    "print('Logistic Regression: ',lr.score(Xtrain1, y_train), lr.score(Xtest1, y_test))\n",
    "print('Multinomial: ',mnb.score(Xtrain1, y_train), mnb.score(Xtest1, y_test))\n",
    "print('Gaussian: ',gnb.score(Xtrain1, y_train), gnb.score(Xtest1, y_test))\n",
    "print('Random Forest: ',rf.score(Xtrain1, y_train), rf.score(Xtest1, y_test))"
   ]
  },
  {
   "cell_type": "markdown",
   "metadata": {},
   "source": [
    "Present: model for CVEC, then model for other features, not to be dominated by size of vocab."
   ]
  },
  {
   "cell_type": "markdown",
   "metadata": {},
   "source": [
    "#### Wrong predictions"
   ]
  },
  {
   "cell_type": "code",
   "execution_count": 122,
   "metadata": {},
   "outputs": [
    {
     "data": {
      "text/plain": [
       "array([[260,  86],\n",
       "       [ 95, 244]])"
      ]
     },
     "execution_count": 122,
     "metadata": {},
     "output_type": "execute_result"
    }
   ],
   "source": [
    "cm = confusion_matrix(gnb.predict(Xtest1), y_test)\n",
    "cm"
   ]
  },
  {
   "cell_type": "code",
   "execution_count": 123,
   "metadata": {},
   "outputs": [],
   "source": [
    "tn, fp, fn, tp = cm.ravel()"
   ]
  },
  {
   "cell_type": "code",
   "execution_count": 124,
   "metadata": {},
   "outputs": [
    {
     "data": {
      "text/plain": [
       "0.7357664233576642"
      ]
     },
     "execution_count": 124,
     "metadata": {},
     "output_type": "execute_result"
    }
   ],
   "source": [
    "# Accuracy score\n",
    "(tn + tp) / (tn + fp + fn + tp)"
   ]
  },
  {
   "cell_type": "code",
   "execution_count": 125,
   "metadata": {},
   "outputs": [],
   "source": [
    "# What will be the \"new\" model\n",
    "Xtest1['predict_proba_2'] = gnb.predict_proba(Xtest1)[:,1]"
   ]
  },
  {
   "cell_type": "code",
   "execution_count": 126,
   "metadata": {},
   "outputs": [],
   "source": [
    "Xtest1['y_test'] = y_test"
   ]
  },
  {
   "cell_type": "code",
   "execution_count": 127,
   "metadata": {},
   "outputs": [],
   "source": [
    "Xtest1['wrong_pred'] = 0\n",
    "for index in Xtest1.index:\n",
    "    if ((Xtest1.loc[index, 'predict_proba_2'] < .5) & (Xtest1.loc[index, 'y_test'] == 1)) or \\\n",
    "    ((Xtest1.loc[index, 'predict_proba_2'] > .5) & (Xtest1.loc[index, 'y_test'] == 0)):\n",
    "        Xtest1.loc[index, 'wrong_pred'] = 1\n",
    "    else:\n",
    "        pass"
   ]
  },
  {
   "cell_type": "code",
   "execution_count": 137,
   "metadata": {},
   "outputs": [
    {
     "data": {
      "text/plain": [
       "0    0.735766\n",
       "1    0.264234\n",
       "Name: wrong_pred, dtype: float64"
      ]
     },
     "execution_count": 137,
     "metadata": {},
     "output_type": "execute_result"
    }
   ],
   "source": [
    "# Checking that it matches our accuracy score\n",
    "Xtest1['wrong_pred'].value_counts(normalize = True)"
   ]
  },
  {
   "cell_type": "code",
   "execution_count": 129,
   "metadata": {},
   "outputs": [],
   "source": [
    "# Add the text back so we can see what the post was when we predicted wrong\n",
    "Xtest1['nostopstring'] = X_test['nostopstring']"
   ]
  },
  {
   "cell_type": "code",
   "execution_count": 136,
   "metadata": {},
   "outputs": [
    {
     "data": {
      "text/plain": [
       "(86, 95)"
      ]
     },
     "execution_count": 136,
     "metadata": {},
     "output_type": "execute_result"
    }
   ],
   "source": [
    "# False Positives, False Negatives.\n",
    "Xtest1[(Xtest1['wrong_pred'] == 1) & (Xtest1['predict_proba_2'] < .5)].shape[0], \\\n",
    "Xtest1[(Xtest1['wrong_pred'] == 1) & (Xtest1['predict_proba_2'] > .5)].shape[0]"
   ]
  },
  {
   "cell_type": "code",
   "execution_count": 96,
   "metadata": {},
   "outputs": [],
   "source": [
    "# Wrong preds\n",
    "wrong_preds = Xtest1[Xtest1['wrong_pred'] == 1]"
   ]
  },
  {
   "cell_type": "code",
   "execution_count": 121,
   "metadata": {},
   "outputs": [
    {
     "data": {
      "text/html": [
       "<div>\n",
       "<style scoped>\n",
       "    .dataframe tbody tr th:only-of-type {\n",
       "        vertical-align: middle;\n",
       "    }\n",
       "\n",
       "    .dataframe tbody tr th {\n",
       "        vertical-align: top;\n",
       "    }\n",
       "\n",
       "    .dataframe thead th {\n",
       "        text-align: right;\n",
       "    }\n",
       "</style>\n",
       "<table border=\"1\" class=\"dataframe\">\n",
       "  <thead>\n",
       "    <tr style=\"text-align: right;\">\n",
       "      <th></th>\n",
       "      <th>contains_fitword</th>\n",
       "      <th>contains_fit30word</th>\n",
       "      <th>old_age_token</th>\n",
       "      <th>young_age_token</th>\n",
       "      <th>length</th>\n",
       "      <th>predict_proba</th>\n",
       "      <th>predict_proba_2</th>\n",
       "      <th>y_test</th>\n",
       "      <th>wrong_pred</th>\n",
       "      <th>nostopstring</th>\n",
       "    </tr>\n",
       "  </thead>\n",
       "  <tbody>\n",
       "    <tr>\n",
       "      <th>1057</th>\n",
       "      <td>0</td>\n",
       "      <td>0</td>\n",
       "      <td>0</td>\n",
       "      <td>0</td>\n",
       "      <td>5</td>\n",
       "      <td>0.606128</td>\n",
       "      <td>0.999249</td>\n",
       "      <td>0</td>\n",
       "      <td>1</td>\n",
       "      <td>scooby lied really quit youtube</td>\n",
       "    </tr>\n",
       "    <tr>\n",
       "      <th>926</th>\n",
       "      <td>1</td>\n",
       "      <td>1</td>\n",
       "      <td>0</td>\n",
       "      <td>0</td>\n",
       "      <td>24</td>\n",
       "      <td>0.633773</td>\n",
       "      <td>0.999326</td>\n",
       "      <td>0</td>\n",
       "      <td>1</td>\n",
       "      <td>motivational app cardio home older precor amt ...</td>\n",
       "    </tr>\n",
       "    <tr>\n",
       "      <th>4</th>\n",
       "      <td>1</td>\n",
       "      <td>0</td>\n",
       "      <td>0</td>\n",
       "      <td>0</td>\n",
       "      <td>8</td>\n",
       "      <td>0.645085</td>\n",
       "      <td>0.999448</td>\n",
       "      <td>0</td>\n",
       "      <td>1</td>\n",
       "      <td>really helpful feature added macro calorie tra...</td>\n",
       "    </tr>\n",
       "    <tr>\n",
       "      <th>1066</th>\n",
       "      <td>0</td>\n",
       "      <td>1</td>\n",
       "      <td>0</td>\n",
       "      <td>0</td>\n",
       "      <td>3</td>\n",
       "      <td>0.614463</td>\n",
       "      <td>0.999569</td>\n",
       "      <td>0</td>\n",
       "      <td>1</td>\n",
       "      <td>awkwardness new exercise</td>\n",
       "    </tr>\n",
       "    <tr>\n",
       "      <th>125</th>\n",
       "      <td>0</td>\n",
       "      <td>1</td>\n",
       "      <td>0</td>\n",
       "      <td>0</td>\n",
       "      <td>11</td>\n",
       "      <td>0.637259</td>\n",
       "      <td>0.999831</td>\n",
       "      <td>0</td>\n",
       "      <td>1</td>\n",
       "      <td>pulling feeling lower back dead lifting new de...</td>\n",
       "    </tr>\n",
       "    <tr>\n",
       "      <th>949</th>\n",
       "      <td>0</td>\n",
       "      <td>1</td>\n",
       "      <td>0</td>\n",
       "      <td>0</td>\n",
       "      <td>10</td>\n",
       "      <td>0.646575</td>\n",
       "      <td>0.999884</td>\n",
       "      <td>0</td>\n",
       "      <td>1</td>\n",
       "      <td>solved 12 year excruciating shin splint soluti...</td>\n",
       "    </tr>\n",
       "    <tr>\n",
       "      <th>43</th>\n",
       "      <td>0</td>\n",
       "      <td>0</td>\n",
       "      <td>0</td>\n",
       "      <td>0</td>\n",
       "      <td>3</td>\n",
       "      <td>0.664847</td>\n",
       "      <td>0.999930</td>\n",
       "      <td>0</td>\n",
       "      <td>1</td>\n",
       "      <td>road cycling stag</td>\n",
       "    </tr>\n",
       "    <tr>\n",
       "      <th>315</th>\n",
       "      <td>1</td>\n",
       "      <td>1</td>\n",
       "      <td>0</td>\n",
       "      <td>0</td>\n",
       "      <td>26</td>\n",
       "      <td>0.698189</td>\n",
       "      <td>0.999957</td>\n",
       "      <td>0</td>\n",
       "      <td>1</td>\n",
       "      <td>mobility stability ha anyone got full mobility...</td>\n",
       "    </tr>\n",
       "    <tr>\n",
       "      <th>846</th>\n",
       "      <td>0</td>\n",
       "      <td>0</td>\n",
       "      <td>0</td>\n",
       "      <td>0</td>\n",
       "      <td>3</td>\n",
       "      <td>0.677137</td>\n",
       "      <td>0.999959</td>\n",
       "      <td>0</td>\n",
       "      <td>1</td>\n",
       "      <td>saved wife life</td>\n",
       "    </tr>\n",
       "    <tr>\n",
       "      <th>492</th>\n",
       "      <td>1</td>\n",
       "      <td>1</td>\n",
       "      <td>1</td>\n",
       "      <td>0</td>\n",
       "      <td>5</td>\n",
       "      <td>0.745639</td>\n",
       "      <td>0.999999</td>\n",
       "      <td>0</td>\n",
       "      <td>1</td>\n",
       "      <td>pavel 40 day challenge year</td>\n",
       "    </tr>\n",
       "  </tbody>\n",
       "</table>\n",
       "</div>"
      ],
      "text/plain": [
       "      contains_fitword  contains_fit30word  old_age_token  young_age_token  \\\n",
       "1057                 0                   0              0                0   \n",
       "926                  1                   1              0                0   \n",
       "4                    1                   0              0                0   \n",
       "1066                 0                   1              0                0   \n",
       "125                  0                   1              0                0   \n",
       "949                  0                   1              0                0   \n",
       "43                   0                   0              0                0   \n",
       "315                  1                   1              0                0   \n",
       "846                  0                   0              0                0   \n",
       "492                  1                   1              1                0   \n",
       "\n",
       "      length  predict_proba  predict_proba_2  y_test  wrong_pred  \\\n",
       "1057       5       0.606128         0.999249       0           1   \n",
       "926       24       0.633773         0.999326       0           1   \n",
       "4          8       0.645085         0.999448       0           1   \n",
       "1066       3       0.614463         0.999569       0           1   \n",
       "125       11       0.637259         0.999831       0           1   \n",
       "949       10       0.646575         0.999884       0           1   \n",
       "43         3       0.664847         0.999930       0           1   \n",
       "315       26       0.698189         0.999957       0           1   \n",
       "846        3       0.677137         0.999959       0           1   \n",
       "492        5       0.745639         0.999999       0           1   \n",
       "\n",
       "                                           nostopstring  \n",
       "1057                    scooby lied really quit youtube  \n",
       "926   motivational app cardio home older precor amt ...  \n",
       "4     really helpful feature added macro calorie tra...  \n",
       "1066                           awkwardness new exercise  \n",
       "125   pulling feeling lower back dead lifting new de...  \n",
       "949   solved 12 year excruciating shin splint soluti...  \n",
       "43                                    road cycling stag  \n",
       "315   mobility stability ha anyone got full mobility...  \n",
       "846                                     saved wife life  \n",
       "492                         pavel 40 day challenge year  "
      ]
     },
     "execution_count": 121,
     "metadata": {},
     "output_type": "execute_result"
    }
   ],
   "source": [
    "# Head and tail are the wrongest preds\n",
    "wrong_preds.sort_values(by = 'predict_proba_2').tail(10)"
   ]
  },
  {
   "cell_type": "code",
   "execution_count": 99,
   "metadata": {},
   "outputs": [
    {
     "data": {
      "image/png": "[encoded data removed]",
      "text/plain": [
       "<Figure size 432x288 with 1 Axes>"
      ]
     },
     "metadata": {},
     "output_type": "display_data"
    }
   ],
   "source": [
    "plt.hist(Xtest1['predict_proba_2']);"
   ]
  },
  {
   "cell_type": "code",
   "execution_count": 160,
   "metadata": {},
   "outputs": [
    {
     "data": {
      "text/plain": [
       "contains_fitword                                                      1\n",
       "contains_fit30word                                                    1\n",
       "old_age_token                                                         1\n",
       "young_age_token                                                       0\n",
       "length                                                               38\n",
       "predict_proba                                                  0.275445\n",
       "predict_proba_2                                                0.317857\n",
       "y_test                                                                0\n",
       "wrong_pred                                                            0\n",
       "nostopstring          hey need help macro hi guy 32 148lbs 5 7 gal 3...\n",
       "Name: 932, dtype: object"
      ]
     },
     "execution_count": 160,
     "metadata": {},
     "output_type": "execute_result"
    }
   ],
   "source": [
    "Xtest1.loc[932]"
   ]
  },
  {
   "cell_type": "code",
   "execution_count": 69,
   "metadata": {},
   "outputs": [],
   "source": [
    "# Before doing any more modelling, drop y_test, wrong_pred, and nostopstring\n",
    "Xtest1 = Xtest1[new_model_cols]"
   ]
  },
  {
   "cell_type": "markdown",
   "metadata": {},
   "source": [
    "### KNN"
   ]
  },
  {
   "cell_type": "code",
   "execution_count": 165,
   "metadata": {},
   "outputs": [],
   "source": [
    "knn = KNeighborsClassifier()"
   ]
  },
  {
   "cell_type": "code",
   "execution_count": 166,
   "metadata": {},
   "outputs": [
    {
     "data": {
      "text/plain": [
       "array([0.58781362, 0.64028777, 0.61870504, 0.61870504, 0.57761733])"
      ]
     },
     "execution_count": 166,
     "metadata": {},
     "output_type": "execute_result"
    }
   ],
   "source": [
    "cross_val_score(knn, train_cvec, y_train, cv = 5)"
   ]
  },
  {
   "cell_type": "code",
   "execution_count": 167,
   "metadata": {},
   "outputs": [
    {
     "data": {
      "text/plain": [
       "KNeighborsClassifier(algorithm='auto', leaf_size=30, metric='minkowski',\n",
       "                     metric_params=None, n_jobs=None, n_neighbors=5, p=2,\n",
       "                     weights='uniform')"
      ]
     },
     "execution_count": 167,
     "metadata": {},
     "output_type": "execute_result"
    }
   ],
   "source": [
    "knn.fit(train_cvec, y_train)"
   ]
  },
  {
   "cell_type": "code",
   "execution_count": 168,
   "metadata": {
    "scrolled": true
   },
   "outputs": [
    {
     "data": {
      "text/plain": [
       "(0.7302158273381295, 0.5941605839416059)"
      ]
     },
     "execution_count": 168,
     "metadata": {},
     "output_type": "execute_result"
    }
   ],
   "source": [
    "knn.score(train_cvec, y_train), knn.score(test_cvec, y_test)"
   ]
  },
  {
   "cell_type": "markdown",
   "metadata": {},
   "source": [
    "### 5 Fold Cross Validation"
   ]
  },
  {
   "cell_type": "code",
   "execution_count": 170,
   "metadata": {},
   "outputs": [
    {
     "name": "stdout",
     "output_type": "stream",
     "text": [
      "Logistic Regression: \n",
      " Train: \n",
      " 0.691365305333467 Test:  0.689051094890511\n"
     ]
    },
    {
     "name": "stderr",
     "output_type": "stream",
     "text": [
      "/opt/anaconda3/lib/python3.7/site-packages/sklearn/ensemble/forest.py:245: FutureWarning: The default value of n_estimators will change from 10 in version 0.20 to 100 in 0.22.\n",
      "  \"10 in version 0.20 to 100 in 0.22.\", FutureWarning)\n",
      "/opt/anaconda3/lib/python3.7/site-packages/sklearn/ensemble/forest.py:245: FutureWarning: The default value of n_estimators will change from 10 in version 0.20 to 100 in 0.22.\n",
      "  \"10 in version 0.20 to 100 in 0.22.\", FutureWarning)\n",
      "/opt/anaconda3/lib/python3.7/site-packages/sklearn/ensemble/forest.py:245: FutureWarning: The default value of n_estimators will change from 10 in version 0.20 to 100 in 0.22.\n",
      "  \"10 in version 0.20 to 100 in 0.22.\", FutureWarning)\n",
      "/opt/anaconda3/lib/python3.7/site-packages/sklearn/ensemble/forest.py:245: FutureWarning: The default value of n_estimators will change from 10 in version 0.20 to 100 in 0.22.\n",
      "  \"10 in version 0.20 to 100 in 0.22.\", FutureWarning)\n",
      "/opt/anaconda3/lib/python3.7/site-packages/sklearn/ensemble/forest.py:245: FutureWarning: The default value of n_estimators will change from 10 in version 0.20 to 100 in 0.22.\n",
      "  \"10 in version 0.20 to 100 in 0.22.\", FutureWarning)\n",
      "/opt/anaconda3/lib/python3.7/site-packages/sklearn/ensemble/forest.py:245: FutureWarning: The default value of n_estimators will change from 10 in version 0.20 to 100 in 0.22.\n",
      "  \"10 in version 0.20 to 100 in 0.22.\", FutureWarning)\n",
      "/opt/anaconda3/lib/python3.7/site-packages/sklearn/ensemble/forest.py:245: FutureWarning: The default value of n_estimators will change from 10 in version 0.20 to 100 in 0.22.\n",
      "  \"10 in version 0.20 to 100 in 0.22.\", FutureWarning)\n"
     ]
    },
    {
     "name": "stdout",
     "output_type": "stream",
     "text": [
      "RF: \n",
      " Train: \n",
      " 0.6625674189889965 Test:  0.6364963503649635\n"
     ]
    },
    {
     "name": "stderr",
     "output_type": "stream",
     "text": [
      "/opt/anaconda3/lib/python3.7/site-packages/sklearn/ensemble/forest.py:245: FutureWarning: The default value of n_estimators will change from 10 in version 0.20 to 100 in 0.22.\n",
      "  \"10 in version 0.20 to 100 in 0.22.\", FutureWarning)\n",
      "/opt/anaconda3/lib/python3.7/site-packages/sklearn/ensemble/forest.py:245: FutureWarning: The default value of n_estimators will change from 10 in version 0.20 to 100 in 0.22.\n",
      "  \"10 in version 0.20 to 100 in 0.22.\", FutureWarning)\n",
      "/opt/anaconda3/lib/python3.7/site-packages/sklearn/ensemble/forest.py:245: FutureWarning: The default value of n_estimators will change from 10 in version 0.20 to 100 in 0.22.\n",
      "  \"10 in version 0.20 to 100 in 0.22.\", FutureWarning)\n"
     ]
    }
   ],
   "source": [
    "print('Logistic Regression: \\n',\n",
    "      'Train: \\n', cross_val_score(lr, train_tvec, y_train, cv = 5).mean(), \n",
    "      'Test: ',cross_val_score(lr, test_tvec, y_test, cv = 5).mean())\n",
    "print('RF: \\n',\n",
    "      'Train: \\n',cross_val_score(rf, train_tvec, y_train, cv = 5).mean(), \n",
    "      'Test: ',cross_val_score(rf, test_tvec, y_test, cv = 5).mean())"
   ]
  },
  {
   "cell_type": "markdown",
   "metadata": {},
   "source": [
    "### Gridsearch CV"
   ]
  },
  {
   "cell_type": "code",
   "execution_count": 116,
   "metadata": {},
   "outputs": [],
   "source": [
    "pipe = Pipeline([\n",
    "    #('cvec', CountVectorizer()),\n",
    "    ('tvec', TfidfVectorizer()),\n",
    "    ('lr', LogisticRegression(solver = 'liblinear'))\n",
    "])"
   ]
  },
  {
   "cell_type": "code",
   "execution_count": 164,
   "metadata": {},
   "outputs": [
    {
     "name": "stdout",
     "output_type": "stream",
     "text": [
      "0.6899280575539568\n"
     ]
    },
    {
     "data": {
      "text/plain": [
       "{'max_depth': None, 'n_estimators': 150}"
      ]
     },
     "execution_count": 164,
     "metadata": {},
     "output_type": "execute_result"
    }
   ],
   "source": [
    "rf = RandomForestClassifier()\n",
    "rf_params = {\n",
    "    'n_estimators' : [100, 150],\n",
    "    'max_depth' : [None, 5, 6]\n",
    "}\n",
    "gs = GridSearchCV(rf, param_grid = rf_params, cv = 5)\n",
    "gs.fit(train_tvec.toarray(), y_train)\n",
    "print(gs.best_score_) # Best cross val score\n",
    "gs.best_params_"
   ]
  },
  {
   "cell_type": "code",
   "execution_count": 76,
   "metadata": {},
   "outputs": [],
   "source": [
    "pipe_params = {\n",
    "    'tvec__max_features' : [2_000, 3_000, 4_000, 5_000],\n",
    "    'tvec__min_df' : [2, 3],\n",
    "    'tvec__max_df' : [.9, .95],\n",
    "    'tvec__ngram_range' : [(1,1), (1,2)]\n",
    "}"
   ]
  },
  {
   "cell_type": "code",
   "execution_count": 77,
   "metadata": {},
   "outputs": [],
   "source": [
    "gs = GridSearchCV(pipe,\n",
    "                  pipe_params,\n",
    "                  cv = 5)"
   ]
  },
  {
   "cell_type": "code",
   "execution_count": 78,
   "metadata": {},
   "outputs": [
    {
     "name": "stdout",
     "output_type": "stream",
     "text": [
      "Fitting gridsearch took  27.781650066375732  seconds\n"
     ]
    }
   ],
   "source": [
    "t0 = time.time()\n",
    "gs.fit(X_train['nostopstring'], y_train)\n",
    "print('Fitting gridsearch took ',time.time() - t0,' seconds')"
   ]
  },
  {
   "cell_type": "code",
   "execution_count": 79,
   "metadata": {},
   "outputs": [
    {
     "data": {
      "text/plain": [
       "(0.9098124098124099, 0.7251461988304093)"
      ]
     },
     "execution_count": 79,
     "metadata": {},
     "output_type": "execute_result"
    }
   ],
   "source": [
    "gs.best_estimator_.score(X_train['nostopstring'], y_train), gs.best_estimator_.score(X_test['nostopstring'], y_test)"
   ]
  },
  {
   "cell_type": "markdown",
   "metadata": {},
   "source": [
    "Gridsearch best params not much better than Logistic Regression"
   ]
  },
  {
   "cell_type": "code",
   "execution_count": null,
   "metadata": {},
   "outputs": [],
   "source": []
  }
 ],
 "metadata": {
  "kernelspec": {
   "display_name": "Python 3",
   "language": "python",
   "name": "python3"
  },
  "language_info": {
   "codemirror_mode": {
    "name": "ipython",
    "version": 3
   },
   "file_extension": ".py",
   "mimetype": "text/x-python",
   "name": "python",
   "nbconvert_exporter": "python",
   "pygments_lexer": "ipython3",
   "version": "3.7.4"
  }
 },
 "nbformat": 4,
 "nbformat_minor": 2
}
