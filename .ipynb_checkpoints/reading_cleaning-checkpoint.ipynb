{
 "cells": [
  {
   "cell_type": "code",
   "execution_count": 1,
   "metadata": {},
   "outputs": [],
   "source": [
    "import numpy as np\n",
    "import pandas as pd\n",
    "import seaborn as sns\n",
    "import matplotlib.pyplot as plt\n",
    "%matplotlib inline\n",
    "\n",
    "import requests\n",
    "from bs4 import BeautifulSoup\n",
    "import regex as re\n",
    "import nltk\n",
    "from nltk.stem import WordNetLemmatizer\n",
    "from nltk.tokenize import RegexpTokenizer\n",
    "from nltk.stem.porter import PorterStemmer\n",
    "from nltk.corpus import stopwords\n",
    "import time"
   ]
  },
  {
   "cell_type": "markdown",
   "metadata": {},
   "source": [
    "## Reading"
   ]
  },
  {
   "cell_type": "code",
   "execution_count": 2,
   "metadata": {},
   "outputs": [],
   "source": [
    "# Sorts by date \n",
    "fitfirst500 = 'https://api.pushshift.io/reddit/search/submission?subreddit=fitness&size=500'\n",
    "fit30first500 = 'https://api.pushshift.io/reddit/search/submission?subreddit=fitness30plus&size=500'\n",
    "# Fit second 500 is before 2 days ago\n",
    "fitsecond500 = 'https://api.pushshift.io/reddit/search/submission?subreddit=fitness&before=2d&size=500'\n",
    "# Fit30 second 500 is before 2 months ago\n",
    "fit30second500 = 'https://api.pushshift.io/reddit/search/submission?subreddit=fitness30plus&before=63d&size=500'"
   ]
  },
  {
   "cell_type": "code",
   "execution_count": 3,
   "metadata": {},
   "outputs": [],
   "source": [
    "resfit1 = requests.get(fitfirst500)\n",
    "resfit2 = requests.get(fitsecond500)\n",
    "resfit301 = requests.get(fit30first500)\n",
    "resfit302 = requests.get(fit30second500)"
   ]
  },
  {
   "cell_type": "code",
   "execution_count": 4,
   "metadata": {},
   "outputs": [],
   "source": [
    "# JSON\n",
    "resultsfit1 = resfit1.json()\n",
    "resultsfit2 = resfit2.json()\n",
    "resultsfit301 = resfit301.json()\n",
    "resultsfit302 = resfit302.json()"
   ]
  },
  {
   "cell_type": "code",
   "execution_count": 5,
   "metadata": {},
   "outputs": [
    {
     "name": "stdout",
     "output_type": "stream",
     "text": [
      "500 500\n",
      "500 500\n"
     ]
    }
   ],
   "source": [
    "print(len(resultsfit1['data']), len(resultsfit2['data']))\n",
    "print(len(resultsfit301['data']), len(resultsfit302['data']))"
   ]
  },
  {
   "cell_type": "code",
   "execution_count": 6,
   "metadata": {},
   "outputs": [],
   "source": [
    "# Create DFs\n",
    "fit1_df = pd.DataFrame(resultsfit1['data'])\n",
    "fit2_df = pd.DataFrame(resultsfit2['data'])\n",
    "fit301_df = pd.DataFrame(resultsfit301['data'])\n",
    "fit302_df = pd.DataFrame(resultsfit302['data'])"
   ]
  },
  {
   "cell_type": "code",
   "execution_count": 7,
   "metadata": {},
   "outputs": [],
   "source": [
    "# Concat the 500s\n",
    "# \"Sort\" is to prevent future warning\n",
    "fit_df = pd.concat([fit1_df, fit2_df], ignore_index = True, sort = True)\n",
    "fit30_df = pd.concat([fit301_df, fit302_df], ignore_index = True, sort = True)"
   ]
  },
  {
   "cell_type": "markdown",
   "metadata": {},
   "source": [
    "### Addressing Duplicates"
   ]
  },
  {
   "cell_type": "code",
   "execution_count": 8,
   "metadata": {},
   "outputs": [
    {
     "data": {
      "text/plain": [
       "(997, 65)"
      ]
     },
     "execution_count": 8,
     "metadata": {},
     "output_type": "execute_result"
    }
   ],
   "source": [
    "# Fit: Dropped 77 Dups\n",
    "fit_df.drop_duplicates(subset = ['title', 'selftext'], inplace = True)\n",
    "fit_df.shape"
   ]
  },
  {
   "cell_type": "code",
   "execution_count": 9,
   "metadata": {},
   "outputs": [
    {
     "data": {
      "text/plain": [
       "(962, 76)"
      ]
     },
     "execution_count": 9,
     "metadata": {},
     "output_type": "execute_result"
    }
   ],
   "source": [
    "# Fit30: Dropped 38 Dups\n",
    "fit30_df.drop_duplicates(subset = ['title', 'selftext'], inplace = True)\n",
    "fit30_df.shape"
   ]
  },
  {
   "cell_type": "markdown",
   "metadata": {},
   "source": [
    "To pull replacement posts, we will go back 5 days for fit, and 120 days for fit30."
   ]
  },
  {
   "cell_type": "code",
   "execution_count": 10,
   "metadata": {},
   "outputs": [],
   "source": [
    "# Get replacements\n",
    "fitreplace = 'https://api.pushshift.io/reddit/search/submission?subreddit=fitness&before=5d&size=77'\n",
    "fit30replace = 'https://api.pushshift.io/reddit/search/submission?subreddit=fitness30plus&before=120d&size=38'"
   ]
  },
  {
   "cell_type": "code",
   "execution_count": 11,
   "metadata": {},
   "outputs": [],
   "source": [
    "resfit = requests.get(fitreplace)\n",
    "resfit30 = requests.get(fit30replace)"
   ]
  },
  {
   "cell_type": "code",
   "execution_count": 12,
   "metadata": {},
   "outputs": [
    {
     "name": "stdout",
     "output_type": "stream",
     "text": [
      "77 38\n"
     ]
    }
   ],
   "source": [
    "# JSON\n",
    "resultsfit = resfit.json()\n",
    "resultsfit30 = resfit30.json()\n",
    "print(len(resultsfit['data']), len(resultsfit30['data']))"
   ]
  },
  {
   "cell_type": "code",
   "execution_count": 13,
   "metadata": {},
   "outputs": [],
   "source": [
    "# Replacement DFs\n",
    "fitreplace_df = pd.DataFrame(resultsfit['data'])\n",
    "fit30replace_df = pd.DataFrame(resultsfit30['data'])"
   ]
  },
  {
   "cell_type": "code",
   "execution_count": 14,
   "metadata": {},
   "outputs": [],
   "source": [
    "# Concat Replacements\n",
    "fit_df = pd.concat([fit_df, fitreplace_df], ignore_index = True, sort = True)\n",
    "fit30_df = pd.concat([fit30_df, fit30replace_df], ignore_index = True, sort = True)"
   ]
  },
  {
   "cell_type": "code",
   "execution_count": 15,
   "metadata": {},
   "outputs": [],
   "source": [
    "# Concat the 2 subs\n",
    "df = pd.concat([fit_df, fit30_df], ignore_index = True, sort = True)"
   ]
  },
  {
   "cell_type": "markdown",
   "metadata": {},
   "source": [
    "## Cleaning"
   ]
  },
  {
   "cell_type": "code",
   "execution_count": 16,
   "metadata": {},
   "outputs": [],
   "source": [
    "# Clean the datetime \n",
    "df['created_utc'] = pd.to_datetime(df['created_utc'], unit = 's')"
   ]
  },
  {
   "cell_type": "code",
   "execution_count": 17,
   "metadata": {},
   "outputs": [],
   "source": [
    "# Clean the '[removed]'\n",
    "# Clean the NaNs\n",
    "df['selftext'].replace('[removed]', '', inplace = True)\n",
    "df['selftext'].fillna('', inplace = True)"
   ]
  },
  {
   "cell_type": "code",
   "execution_count": 18,
   "metadata": {},
   "outputs": [],
   "source": [
    "# Combine title & selftext\n",
    "df['alltext'] = df['title'] + ' ' + df['selftext']"
   ]
  },
  {
   "cell_type": "code",
   "execution_count": 19,
   "metadata": {},
   "outputs": [],
   "source": [
    "# Sort by date\n",
    "df = df.sort_values(by = 'created_utc', ascending = False)"
   ]
  },
  {
   "cell_type": "code",
   "execution_count": 20,
   "metadata": {},
   "outputs": [],
   "source": [
    "# MAP SUBREDDIT\n",
    "# 0 for Fitness\n",
    "# 1 for fitness30plus\n",
    "df['subreddit'] = df['subreddit'].map({'Fitness': 0, 'fitness30plus': 1})"
   ]
  },
  {
   "cell_type": "code",
   "execution_count": 21,
   "metadata": {
    "scrolled": true
   },
   "outputs": [
    {
     "data": {
      "text/html": [
       "<div>\n",
       "<style scoped>\n",
       "    .dataframe tbody tr th:only-of-type {\n",
       "        vertical-align: middle;\n",
       "    }\n",
       "\n",
       "    .dataframe tbody tr th {\n",
       "        vertical-align: top;\n",
       "    }\n",
       "\n",
       "    .dataframe thead th {\n",
       "        text-align: right;\n",
       "    }\n",
       "</style>\n",
       "<table border=\"1\" class=\"dataframe\">\n",
       "  <thead>\n",
       "    <tr style=\"text-align: right;\">\n",
       "      <th></th>\n",
       "      <th>title</th>\n",
       "      <th>selftext</th>\n",
       "      <th>alltext</th>\n",
       "      <th>subreddit</th>\n",
       "      <th>created_utc</th>\n",
       "    </tr>\n",
       "  </thead>\n",
       "  <tbody>\n",
       "    <tr>\n",
       "      <th>0</th>\n",
       "      <td>the best exercises for skinny legs?</td>\n",
       "      <td></td>\n",
       "      <td>the best exercises for skinny legs?</td>\n",
       "      <td>0</td>\n",
       "      <td>2020-01-28 20:49:17</td>\n",
       "    </tr>\n",
       "    <tr>\n",
       "      <th>1</th>\n",
       "      <td>Lifting &amp;amp; Swimming for building mass?</td>\n",
       "      <td></td>\n",
       "      <td>Lifting &amp;amp; Swimming for building mass?</td>\n",
       "      <td>0</td>\n",
       "      <td>2020-01-28 20:42:41</td>\n",
       "    </tr>\n",
       "    <tr>\n",
       "      <th>2</th>\n",
       "      <td>Are arm sleeves a thing in fitness?</td>\n",
       "      <td></td>\n",
       "      <td>Are arm sleeves a thing in fitness?</td>\n",
       "      <td>0</td>\n",
       "      <td>2020-01-28 20:40:46</td>\n",
       "    </tr>\n",
       "    <tr>\n",
       "      <th>3</th>\n",
       "      <td>Muscle builders of Reddit, what are some recom...</td>\n",
       "      <td></td>\n",
       "      <td>Muscle builders of Reddit, what are some recom...</td>\n",
       "      <td>0</td>\n",
       "      <td>2020-01-28 20:38:16</td>\n",
       "    </tr>\n",
       "    <tr>\n",
       "      <th>4</th>\n",
       "      <td>What are some really helpful features that can...</td>\n",
       "      <td></td>\n",
       "      <td>What are some really helpful features that can...</td>\n",
       "      <td>0</td>\n",
       "      <td>2020-01-28 20:33:23</td>\n",
       "    </tr>\n",
       "  </tbody>\n",
       "</table>\n",
       "</div>"
      ],
      "text/plain": [
       "                                               title selftext  \\\n",
       "0                the best exercises for skinny legs?            \n",
       "1          Lifting &amp; Swimming for building mass?            \n",
       "2                Are arm sleeves a thing in fitness?            \n",
       "3  Muscle builders of Reddit, what are some recom...            \n",
       "4  What are some really helpful features that can...            \n",
       "\n",
       "                                             alltext  subreddit  \\\n",
       "0               the best exercises for skinny legs?           0   \n",
       "1         Lifting &amp; Swimming for building mass?           0   \n",
       "2               Are arm sleeves a thing in fitness?           0   \n",
       "3  Muscle builders of Reddit, what are some recom...          0   \n",
       "4  What are some really helpful features that can...          0   \n",
       "\n",
       "          created_utc  \n",
       "0 2020-01-28 20:49:17  \n",
       "1 2020-01-28 20:42:41  \n",
       "2 2020-01-28 20:40:46  \n",
       "3 2020-01-28 20:38:16  \n",
       "4 2020-01-28 20:33:23  "
      ]
     },
     "execution_count": 21,
     "metadata": {},
     "output_type": "execute_result"
    }
   ],
   "source": [
    "pd.set_option('display.max_rows', 2_000)\n",
    "cols = ['title', 'selftext', 'alltext', 'subreddit', 'created_utc']\n",
    "df[cols].head()"
   ]
  },
  {
   "cell_type": "markdown",
   "metadata": {},
   "source": [
    "Save the CSV so we're using the same posts every time in modeling."
   ]
  },
  {
   "cell_type": "code",
   "execution_count": 22,
   "metadata": {},
   "outputs": [],
   "source": [
    "df.to_csv('./datasets/df.csv')"
   ]
  },
  {
   "cell_type": "code",
   "execution_count": null,
   "metadata": {},
   "outputs": [],
   "source": []
  }
 ],
 "metadata": {
  "kernelspec": {
   "display_name": "Python 3",
   "language": "python",
   "name": "python3"
  },
  "language_info": {
   "codemirror_mode": {
    "name": "ipython",
    "version": 3
   },
   "file_extension": ".py",
   "mimetype": "text/x-python",
   "name": "python",
   "nbconvert_exporter": "python",
   "pygments_lexer": "ipython3",
   "version": "3.7.4"
  }
 },
 "nbformat": 4,
 "nbformat_minor": 2
}
