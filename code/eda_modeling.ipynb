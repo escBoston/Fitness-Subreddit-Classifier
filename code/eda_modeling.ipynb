{
 "cells": [
  {
   "cell_type": "code",
   "execution_count": 1,
   "metadata": {},
   "outputs": [],
   "source": [
    "import numpy as np\n",
    "import pandas as pd\n",
    "import seaborn as sns\n",
    "import matplotlib.pyplot as plt\n",
    "%matplotlib inline\n",
    "\n",
    "from sklearn.linear_model import LogisticRegression\n",
    "from sklearn.neighbors import KNeighborsClassifier\n",
    "from sklearn.preprocessing import StandardScaler\n",
    "from sklearn.model_selection import train_test_split, cross_val_score, GridSearchCV\n",
    "from sklearn.feature_extraction.text import CountVectorizer, TfidfVectorizer\n",
    "from sklearn.pipeline import Pipeline, make_pipeline\n",
    "from sklearn.naive_bayes import (MultinomialNB,\n",
    "                                 BernoulliNB,\n",
    "                                 GaussianNB,\n",
    "                                 BaseNB)\n",
    "from sklearn.metrics.classification import confusion_matrix\n",
    "from sklearn.ensemble import RandomForestClassifier, ExtraTreesClassifier\n",
    "\n",
    "import requests\n",
    "from bs4 import BeautifulSoup\n",
    "import regex as re\n",
    "import nltk\n",
    "from nltk.stem import WordNetLemmatizer\n",
    "from nltk.tokenize import RegexpTokenizer\n",
    "from nltk.stem.porter import PorterStemmer\n",
    "from nltk.corpus import stopwords\n",
    "import time"
   ]
  },
  {
   "cell_type": "code",
   "execution_count": 2,
   "metadata": {
    "scrolled": true
   },
   "outputs": [],
   "source": [
    "df = pd.read_csv('../datasets/df.csv')"
   ]
  },
  {
   "cell_type": "code",
   "execution_count": 3,
   "metadata": {},
   "outputs": [],
   "source": [
    "cols = ['title', 'alltext', 'subreddit', 'created_utc']"
   ]
  },
  {
   "cell_type": "markdown",
   "metadata": {},
   "source": [
    "## Transform"
   ]
  },
  {
   "cell_type": "markdown",
   "metadata": {},
   "source": [
    "### Tokenize"
   ]
  },
  {
   "cell_type": "code",
   "execution_count": 4,
   "metadata": {},
   "outputs": [],
   "source": [
    "tokenizer = RegexpTokenizer(r'\\w+')"
   ]
  },
  {
   "cell_type": "code",
   "execution_count": 5,
   "metadata": {},
   "outputs": [],
   "source": [
    "alltext_lower = df['alltext'].str.lower()\n",
    "df['tokenized'] = alltext_lower.apply(tokenizer.tokenize)\n",
    "cols.append('tokenized')"
   ]
  },
  {
   "cell_type": "code",
   "execution_count": 6,
   "metadata": {},
   "outputs": [
    {
     "data": {
      "text/html": [
       "<div>\n",
       "<style scoped>\n",
       "    .dataframe tbody tr th:only-of-type {\n",
       "        vertical-align: middle;\n",
       "    }\n",
       "\n",
       "    .dataframe tbody tr th {\n",
       "        vertical-align: top;\n",
       "    }\n",
       "\n",
       "    .dataframe thead th {\n",
       "        text-align: right;\n",
       "    }\n",
       "</style>\n",
       "<table border=\"1\" class=\"dataframe\">\n",
       "  <thead>\n",
       "    <tr style=\"text-align: right;\">\n",
       "      <th></th>\n",
       "      <th>title</th>\n",
       "      <th>alltext</th>\n",
       "      <th>subreddit</th>\n",
       "      <th>created_utc</th>\n",
       "      <th>tokenized</th>\n",
       "    </tr>\n",
       "  </thead>\n",
       "  <tbody>\n",
       "    <tr>\n",
       "      <th>0</th>\n",
       "      <td>Is biking 10 miles a day enough for steady wei...</td>\n",
       "      <td>Is biking 10 miles a day enough for steady wei...</td>\n",
       "      <td>0</td>\n",
       "      <td>2020-01-30 23:02:59</td>\n",
       "      <td>[is, biking, 10, miles, a, day, enough, for, s...</td>\n",
       "    </tr>\n",
       "    <tr>\n",
       "      <th>1</th>\n",
       "      <td>97 Pounds to 121 Pounds | 7 Months | Progress ...</td>\n",
       "      <td>97 Pounds to 121 Pounds | 7 Months | Progress ...</td>\n",
       "      <td>0</td>\n",
       "      <td>2020-01-30 22:52:20</td>\n",
       "      <td>[97, pounds, to, 121, pounds, 7, months, progr...</td>\n",
       "    </tr>\n",
       "    <tr>\n",
       "      <th>2</th>\n",
       "      <td>Muscle Inbalances</td>\n",
       "      <td>Muscle Inbalances</td>\n",
       "      <td>0</td>\n",
       "      <td>2020-01-30 22:52:08</td>\n",
       "      <td>[muscle, inbalances]</td>\n",
       "    </tr>\n",
       "    <tr>\n",
       "      <th>3</th>\n",
       "      <td>Opinions on my journey so far?</td>\n",
       "      <td>Opinions on my journey so far?</td>\n",
       "      <td>0</td>\n",
       "      <td>2020-01-30 22:48:04</td>\n",
       "      <td>[opinions, on, my, journey, so, far]</td>\n",
       "    </tr>\n",
       "    <tr>\n",
       "      <th>4</th>\n",
       "      <td>Body recomposition - How to lose fat and build...</td>\n",
       "      <td>Body recomposition - How to lose fat and build...</td>\n",
       "      <td>1</td>\n",
       "      <td>2020-01-30 22:45:31</td>\n",
       "      <td>[body, recomposition, how, to, lose, fat, and,...</td>\n",
       "    </tr>\n",
       "  </tbody>\n",
       "</table>\n",
       "</div>"
      ],
      "text/plain": [
       "                                               title  \\\n",
       "0  Is biking 10 miles a day enough for steady wei...   \n",
       "1  97 Pounds to 121 Pounds | 7 Months | Progress ...   \n",
       "2                                  Muscle Inbalances   \n",
       "3                     Opinions on my journey so far?   \n",
       "4  Body recomposition - How to lose fat and build...   \n",
       "\n",
       "                                             alltext  subreddit  \\\n",
       "0  Is biking 10 miles a day enough for steady wei...          0   \n",
       "1  97 Pounds to 121 Pounds | 7 Months | Progress ...          0   \n",
       "2                                 Muscle Inbalances           0   \n",
       "3                    Opinions on my journey so far?           0   \n",
       "4  Body recomposition - How to lose fat and build...          1   \n",
       "\n",
       "           created_utc                                          tokenized  \n",
       "0  2020-01-30 23:02:59  [is, biking, 10, miles, a, day, enough, for, s...  \n",
       "1  2020-01-30 22:52:20  [97, pounds, to, 121, pounds, 7, months, progr...  \n",
       "2  2020-01-30 22:52:08                               [muscle, inbalances]  \n",
       "3  2020-01-30 22:48:04               [opinions, on, my, journey, so, far]  \n",
       "4  2020-01-30 22:45:31  [body, recomposition, how, to, lose, fat, and,...  "
      ]
     },
     "execution_count": 6,
     "metadata": {},
     "output_type": "execute_result"
    }
   ],
   "source": [
    "df[cols].head()"
   ]
  },
  {
   "cell_type": "markdown",
   "metadata": {},
   "source": [
    "### Lemmatize"
   ]
  },
  {
   "cell_type": "markdown",
   "metadata": {},
   "source": [
    "- Lemmatizing minimizes false positives (errs on the side of lemmatizing less than it should)\n",
    "- Stemming minimizes false negatives (errs on the side of stemming more than it should) <br> <br>\n",
    "For the purpose of this project, we will lemmatize."
   ]
  },
  {
   "cell_type": "code",
   "execution_count": 7,
   "metadata": {},
   "outputs": [],
   "source": [
    "lemmatizer = WordNetLemmatizer()"
   ]
  },
  {
   "cell_type": "code",
   "execution_count": 8,
   "metadata": {},
   "outputs": [],
   "source": [
    "def lemmatize_tokens(tokens):\n",
    "    return [lemmatizer.lemmatize(token) for token in tokens]"
   ]
  },
  {
   "cell_type": "code",
   "execution_count": 9,
   "metadata": {},
   "outputs": [],
   "source": [
    "df['tokens_lem'] = df['tokenized'].apply(lemmatize_tokens)\n",
    "cols.append('tokens_lem')"
   ]
  },
  {
   "cell_type": "code",
   "execution_count": 10,
   "metadata": {},
   "outputs": [
    {
     "data": {
      "text/html": [
       "<div>\n",
       "<style scoped>\n",
       "    .dataframe tbody tr th:only-of-type {\n",
       "        vertical-align: middle;\n",
       "    }\n",
       "\n",
       "    .dataframe tbody tr th {\n",
       "        vertical-align: top;\n",
       "    }\n",
       "\n",
       "    .dataframe thead th {\n",
       "        text-align: right;\n",
       "    }\n",
       "</style>\n",
       "<table border=\"1\" class=\"dataframe\">\n",
       "  <thead>\n",
       "    <tr style=\"text-align: right;\">\n",
       "      <th></th>\n",
       "      <th>title</th>\n",
       "      <th>alltext</th>\n",
       "      <th>subreddit</th>\n",
       "      <th>created_utc</th>\n",
       "      <th>tokenized</th>\n",
       "      <th>tokens_lem</th>\n",
       "    </tr>\n",
       "  </thead>\n",
       "  <tbody>\n",
       "    <tr>\n",
       "      <th>0</th>\n",
       "      <td>Is biking 10 miles a day enough for steady wei...</td>\n",
       "      <td>Is biking 10 miles a day enough for steady wei...</td>\n",
       "      <td>0</td>\n",
       "      <td>2020-01-30 23:02:59</td>\n",
       "      <td>[is, biking, 10, miles, a, day, enough, for, s...</td>\n",
       "      <td>[is, biking, 10, mile, a, day, enough, for, st...</td>\n",
       "    </tr>\n",
       "    <tr>\n",
       "      <th>1</th>\n",
       "      <td>97 Pounds to 121 Pounds | 7 Months | Progress ...</td>\n",
       "      <td>97 Pounds to 121 Pounds | 7 Months | Progress ...</td>\n",
       "      <td>0</td>\n",
       "      <td>2020-01-30 22:52:20</td>\n",
       "      <td>[97, pounds, to, 121, pounds, 7, months, progr...</td>\n",
       "      <td>[97, pound, to, 121, pound, 7, month, progress...</td>\n",
       "    </tr>\n",
       "    <tr>\n",
       "      <th>2</th>\n",
       "      <td>Muscle Inbalances</td>\n",
       "      <td>Muscle Inbalances</td>\n",
       "      <td>0</td>\n",
       "      <td>2020-01-30 22:52:08</td>\n",
       "      <td>[muscle, inbalances]</td>\n",
       "      <td>[muscle, inbalances]</td>\n",
       "    </tr>\n",
       "    <tr>\n",
       "      <th>3</th>\n",
       "      <td>Opinions on my journey so far?</td>\n",
       "      <td>Opinions on my journey so far?</td>\n",
       "      <td>0</td>\n",
       "      <td>2020-01-30 22:48:04</td>\n",
       "      <td>[opinions, on, my, journey, so, far]</td>\n",
       "      <td>[opinion, on, my, journey, so, far]</td>\n",
       "    </tr>\n",
       "    <tr>\n",
       "      <th>4</th>\n",
       "      <td>Body recomposition - How to lose fat and build...</td>\n",
       "      <td>Body recomposition - How to lose fat and build...</td>\n",
       "      <td>1</td>\n",
       "      <td>2020-01-30 22:45:31</td>\n",
       "      <td>[body, recomposition, how, to, lose, fat, and,...</td>\n",
       "      <td>[body, recomposition, how, to, lose, fat, and,...</td>\n",
       "    </tr>\n",
       "  </tbody>\n",
       "</table>\n",
       "</div>"
      ],
      "text/plain": [
       "                                               title  \\\n",
       "0  Is biking 10 miles a day enough for steady wei...   \n",
       "1  97 Pounds to 121 Pounds | 7 Months | Progress ...   \n",
       "2                                  Muscle Inbalances   \n",
       "3                     Opinions on my journey so far?   \n",
       "4  Body recomposition - How to lose fat and build...   \n",
       "\n",
       "                                             alltext  subreddit  \\\n",
       "0  Is biking 10 miles a day enough for steady wei...          0   \n",
       "1  97 Pounds to 121 Pounds | 7 Months | Progress ...          0   \n",
       "2                                 Muscle Inbalances           0   \n",
       "3                    Opinions on my journey so far?           0   \n",
       "4  Body recomposition - How to lose fat and build...          1   \n",
       "\n",
       "           created_utc                                          tokenized  \\\n",
       "0  2020-01-30 23:02:59  [is, biking, 10, miles, a, day, enough, for, s...   \n",
       "1  2020-01-30 22:52:20  [97, pounds, to, 121, pounds, 7, months, progr...   \n",
       "2  2020-01-30 22:52:08                               [muscle, inbalances]   \n",
       "3  2020-01-30 22:48:04               [opinions, on, my, journey, so, far]   \n",
       "4  2020-01-30 22:45:31  [body, recomposition, how, to, lose, fat, and,...   \n",
       "\n",
       "                                          tokens_lem  \n",
       "0  [is, biking, 10, mile, a, day, enough, for, st...  \n",
       "1  [97, pound, to, 121, pound, 7, month, progress...  \n",
       "2                               [muscle, inbalances]  \n",
       "3                [opinion, on, my, journey, so, far]  \n",
       "4  [body, recomposition, how, to, lose, fat, and,...  "
      ]
     },
     "execution_count": 10,
     "metadata": {},
     "output_type": "execute_result"
    }
   ],
   "source": [
    "df[cols].head()"
   ]
  },
  {
   "cell_type": "markdown",
   "metadata": {},
   "source": [
    "### Stopwords"
   ]
  },
  {
   "cell_type": "code",
   "execution_count": 11,
   "metadata": {},
   "outputs": [
    {
     "name": "stderr",
     "output_type": "stream",
     "text": [
      "[nltk_data] Downloading package stopwords to\n",
      "[nltk_data]     /Users/elijahcurme/nltk_data...\n",
      "[nltk_data]   Package stopwords is already up-to-date!\n"
     ]
    },
    {
     "data": {
      "text/plain": [
       "True"
      ]
     },
     "execution_count": 11,
     "metadata": {},
     "output_type": "execute_result"
    }
   ],
   "source": [
    "nltk.download('stopwords')"
   ]
  },
  {
   "cell_type": "code",
   "execution_count": 12,
   "metadata": {},
   "outputs": [],
   "source": [
    "def filter_stopwords(words):\n",
    "    return [w for w in words if w not in stopwords.words('english')]"
   ]
  },
  {
   "cell_type": "code",
   "execution_count": 13,
   "metadata": {},
   "outputs": [],
   "source": [
    "df['nostops'] = df['tokens_lem'].apply(filter_stopwords)\n",
    "cols.append('nostops')"
   ]
  },
  {
   "cell_type": "code",
   "execution_count": 14,
   "metadata": {
    "scrolled": true
   },
   "outputs": [
    {
     "data": {
      "text/html": [
       "<div>\n",
       "<style scoped>\n",
       "    .dataframe tbody tr th:only-of-type {\n",
       "        vertical-align: middle;\n",
       "    }\n",
       "\n",
       "    .dataframe tbody tr th {\n",
       "        vertical-align: top;\n",
       "    }\n",
       "\n",
       "    .dataframe thead th {\n",
       "        text-align: right;\n",
       "    }\n",
       "</style>\n",
       "<table border=\"1\" class=\"dataframe\">\n",
       "  <thead>\n",
       "    <tr style=\"text-align: right;\">\n",
       "      <th></th>\n",
       "      <th>title</th>\n",
       "      <th>alltext</th>\n",
       "      <th>subreddit</th>\n",
       "      <th>created_utc</th>\n",
       "      <th>tokenized</th>\n",
       "      <th>tokens_lem</th>\n",
       "      <th>nostops</th>\n",
       "    </tr>\n",
       "  </thead>\n",
       "  <tbody>\n",
       "    <tr>\n",
       "      <th>0</th>\n",
       "      <td>Is biking 10 miles a day enough for steady wei...</td>\n",
       "      <td>Is biking 10 miles a day enough for steady wei...</td>\n",
       "      <td>0</td>\n",
       "      <td>2020-01-30 23:02:59</td>\n",
       "      <td>[is, biking, 10, miles, a, day, enough, for, s...</td>\n",
       "      <td>[is, biking, 10, mile, a, day, enough, for, st...</td>\n",
       "      <td>[biking, 10, mile, day, enough, steady, weight...</td>\n",
       "    </tr>\n",
       "    <tr>\n",
       "      <th>1</th>\n",
       "      <td>97 Pounds to 121 Pounds | 7 Months | Progress ...</td>\n",
       "      <td>97 Pounds to 121 Pounds | 7 Months | Progress ...</td>\n",
       "      <td>0</td>\n",
       "      <td>2020-01-30 22:52:20</td>\n",
       "      <td>[97, pounds, to, 121, pounds, 7, months, progr...</td>\n",
       "      <td>[97, pound, to, 121, pound, 7, month, progress...</td>\n",
       "      <td>[97, pound, 121, pound, 7, month, progress, post]</td>\n",
       "    </tr>\n",
       "    <tr>\n",
       "      <th>2</th>\n",
       "      <td>Muscle Inbalances</td>\n",
       "      <td>Muscle Inbalances</td>\n",
       "      <td>0</td>\n",
       "      <td>2020-01-30 22:52:08</td>\n",
       "      <td>[muscle, inbalances]</td>\n",
       "      <td>[muscle, inbalances]</td>\n",
       "      <td>[muscle, inbalances]</td>\n",
       "    </tr>\n",
       "    <tr>\n",
       "      <th>3</th>\n",
       "      <td>Opinions on my journey so far?</td>\n",
       "      <td>Opinions on my journey so far?</td>\n",
       "      <td>0</td>\n",
       "      <td>2020-01-30 22:48:04</td>\n",
       "      <td>[opinions, on, my, journey, so, far]</td>\n",
       "      <td>[opinion, on, my, journey, so, far]</td>\n",
       "      <td>[opinion, journey, far]</td>\n",
       "    </tr>\n",
       "    <tr>\n",
       "      <th>4</th>\n",
       "      <td>Body recomposition - How to lose fat and build...</td>\n",
       "      <td>Body recomposition - How to lose fat and build...</td>\n",
       "      <td>1</td>\n",
       "      <td>2020-01-30 22:45:31</td>\n",
       "      <td>[body, recomposition, how, to, lose, fat, and,...</td>\n",
       "      <td>[body, recomposition, how, to, lose, fat, and,...</td>\n",
       "      <td>[body, recomposition, lose, fat, build, muscle...</td>\n",
       "    </tr>\n",
       "  </tbody>\n",
       "</table>\n",
       "</div>"
      ],
      "text/plain": [
       "                                               title  \\\n",
       "0  Is biking 10 miles a day enough for steady wei...   \n",
       "1  97 Pounds to 121 Pounds | 7 Months | Progress ...   \n",
       "2                                  Muscle Inbalances   \n",
       "3                     Opinions on my journey so far?   \n",
       "4  Body recomposition - How to lose fat and build...   \n",
       "\n",
       "                                             alltext  subreddit  \\\n",
       "0  Is biking 10 miles a day enough for steady wei...          0   \n",
       "1  97 Pounds to 121 Pounds | 7 Months | Progress ...          0   \n",
       "2                                 Muscle Inbalances           0   \n",
       "3                    Opinions on my journey so far?           0   \n",
       "4  Body recomposition - How to lose fat and build...          1   \n",
       "\n",
       "           created_utc                                          tokenized  \\\n",
       "0  2020-01-30 23:02:59  [is, biking, 10, miles, a, day, enough, for, s...   \n",
       "1  2020-01-30 22:52:20  [97, pounds, to, 121, pounds, 7, months, progr...   \n",
       "2  2020-01-30 22:52:08                               [muscle, inbalances]   \n",
       "3  2020-01-30 22:48:04               [opinions, on, my, journey, so, far]   \n",
       "4  2020-01-30 22:45:31  [body, recomposition, how, to, lose, fat, and,...   \n",
       "\n",
       "                                          tokens_lem  \\\n",
       "0  [is, biking, 10, mile, a, day, enough, for, st...   \n",
       "1  [97, pound, to, 121, pound, 7, month, progress...   \n",
       "2                               [muscle, inbalances]   \n",
       "3                [opinion, on, my, journey, so, far]   \n",
       "4  [body, recomposition, how, to, lose, fat, and,...   \n",
       "\n",
       "                                             nostops  \n",
       "0  [biking, 10, mile, day, enough, steady, weight...  \n",
       "1  [97, pound, 121, pound, 7, month, progress, post]  \n",
       "2                               [muscle, inbalances]  \n",
       "3                            [opinion, journey, far]  \n",
       "4  [body, recomposition, lose, fat, build, muscle...  "
      ]
     },
     "execution_count": 14,
     "metadata": {},
     "output_type": "execute_result"
    }
   ],
   "source": [
    "df[cols].head()"
   ]
  },
  {
   "cell_type": "markdown",
   "metadata": {},
   "source": [
    "For Count Vectorizer we need a LIST of STRINGS. At this point our X is a LIST of LISTS of STRINGS. Need to join each list of words together into strings."
   ]
  },
  {
   "cell_type": "code",
   "execution_count": 15,
   "metadata": {},
   "outputs": [],
   "source": [
    "def joinwords(words):\n",
    "    return (\" \".join(words))"
   ]
  },
  {
   "cell_type": "code",
   "execution_count": 16,
   "metadata": {},
   "outputs": [],
   "source": [
    "df['nostopstring'] = df['nostops'].apply(joinwords)\n",
    "cols.append('nostopstring')"
   ]
  },
  {
   "cell_type": "markdown",
   "metadata": {},
   "source": [
    "## EDA"
   ]
  },
  {
   "cell_type": "code",
   "execution_count": 17,
   "metadata": {},
   "outputs": [
    {
     "data": {
      "text/plain": [
       "(0, 8)"
      ]
     },
     "execution_count": 17,
     "metadata": {},
     "output_type": "execute_result"
    }
   ],
   "source": [
    "# We use alltext because 1000 have empty selftext after removing '[removed]'\n",
    "df[cols][df['selftext'] == ''].shape"
   ]
  },
  {
   "cell_type": "code",
   "execution_count": 18,
   "metadata": {
    "scrolled": true
   },
   "outputs": [
    {
     "data": {
      "text/html": [
       "<div>\n",
       "<style scoped>\n",
       "    .dataframe tbody tr th:only-of-type {\n",
       "        vertical-align: middle;\n",
       "    }\n",
       "\n",
       "    .dataframe tbody tr th {\n",
       "        vertical-align: top;\n",
       "    }\n",
       "\n",
       "    .dataframe thead th {\n",
       "        text-align: right;\n",
       "    }\n",
       "</style>\n",
       "<table border=\"1\" class=\"dataframe\">\n",
       "  <thead>\n",
       "    <tr style=\"text-align: right;\">\n",
       "      <th></th>\n",
       "      <th>tokenized</th>\n",
       "      <th>tokens_lem</th>\n",
       "    </tr>\n",
       "  </thead>\n",
       "  <tbody>\n",
       "    <tr>\n",
       "      <th>0</th>\n",
       "      <td>[is, biking, 10, miles, a, day, enough, for, s...</td>\n",
       "      <td>[is, biking, 10, mile, a, day, enough, for, st...</td>\n",
       "    </tr>\n",
       "    <tr>\n",
       "      <th>1</th>\n",
       "      <td>[97, pounds, to, 121, pounds, 7, months, progr...</td>\n",
       "      <td>[97, pound, to, 121, pound, 7, month, progress...</td>\n",
       "    </tr>\n",
       "    <tr>\n",
       "      <th>3</th>\n",
       "      <td>[opinions, on, my, journey, so, far]</td>\n",
       "      <td>[opinion, on, my, journey, so, far]</td>\n",
       "    </tr>\n",
       "    <tr>\n",
       "      <th>5</th>\n",
       "      <td>[need, some, recommendations]</td>\n",
       "      <td>[need, some, recommendation]</td>\n",
       "    </tr>\n",
       "    <tr>\n",
       "      <th>6</th>\n",
       "      <td>[all, protein, powders, are, shit]</td>\n",
       "      <td>[all, protein, powder, are, shit]</td>\n",
       "    </tr>\n",
       "  </tbody>\n",
       "</table>\n",
       "</div>"
      ],
      "text/plain": [
       "                                           tokenized  \\\n",
       "0  [is, biking, 10, miles, a, day, enough, for, s...   \n",
       "1  [97, pounds, to, 121, pounds, 7, months, progr...   \n",
       "3               [opinions, on, my, journey, so, far]   \n",
       "5                      [need, some, recommendations]   \n",
       "6                 [all, protein, powders, are, shit]   \n",
       "\n",
       "                                          tokens_lem  \n",
       "0  [is, biking, 10, mile, a, day, enough, for, st...  \n",
       "1  [97, pound, to, 121, pound, 7, month, progress...  \n",
       "3                [opinion, on, my, journey, so, far]  \n",
       "5                       [need, some, recommendation]  \n",
       "6                  [all, protein, powder, are, shit]  "
      ]
     },
     "execution_count": 18,
     "metadata": {},
     "output_type": "execute_result"
    }
   ],
   "source": [
    "# What difference does lemmatize make?\n",
    "df[['tokenized', 'tokens_lem']][df['tokenized'] != df['tokens_lem']].head()"
   ]
  },
  {
   "cell_type": "markdown",
   "metadata": {},
   "source": [
    "#### Feature: fitwords & fit30words"
   ]
  },
  {
   "cell_type": "code",
   "execution_count": 19,
   "metadata": {
    "scrolled": true
   },
   "outputs": [],
   "source": [
    "# Get most common words from Fitness\n",
    "\n",
    "cvec = CountVectorizer()\n",
    "\n",
    "eda_cvec = cvec.fit_transform(df[df['subreddit'] == 0]['nostopstring'])\n",
    "\n",
    "sum_words = eda_cvec.sum(axis = 0)\n",
    "\n",
    "words_freq = [(word, sum_words[0, idx]) for word, idx in cvec.vocabulary_.items()] #Credit to Cristhian Boujon\n",
    "#https://medium.com/@cristhianboujon/how-to-list-the-most-common-words-from-text-corpus-using-scikit-learn-dad4d0cab41d\n",
    "\n",
    "fitwords_freq = sorted(words_freq, key = lambda x: x[1], reverse = True) # x[1]: Sorts by the 2nd item in tuple (freq)"
   ]
  },
  {
   "cell_type": "code",
   "execution_count": 20,
   "metadata": {},
   "outputs": [
    {
     "data": {
      "text/plain": [
       "[('weight', 579), ('day', 555), ('week', 398), ('like', 385), ('get', 347)]"
      ]
     },
     "execution_count": 20,
     "metadata": {},
     "output_type": "execute_result"
    }
   ],
   "source": [
    "fitwords_freq[:5]"
   ]
  },
  {
   "cell_type": "code",
   "execution_count": 21,
   "metadata": {},
   "outputs": [],
   "source": [
    "# Get most common words from fitness30plus\n",
    "\n",
    "cvec = CountVectorizer()\n",
    "\n",
    "eda_cvec = cvec.fit_transform(df[df['subreddit'] == 1]['nostopstring'])\n",
    "\n",
    "sum_words = eda_cvec.sum(axis = 0)\n",
    "\n",
    "words_freq = [(word, sum_words[0, idx]) for word, idx in cvec.vocabulary_.items()]\n",
    "\n",
    "fit30words_freq = sorted(words_freq, key = lambda x: x[1], reverse = True) # x[1]: Sorts by the 2nd item in tuple (freq)"
   ]
  },
  {
   "cell_type": "code",
   "execution_count": 22,
   "metadata": {},
   "outputs": [
    {
     "data": {
      "text/plain": [
       "[('weight', 299), ('day', 297), ('year', 272), ('get', 267)]"
      ]
     },
     "execution_count": 22,
     "metadata": {},
     "output_type": "execute_result"
    }
   ],
   "source": [
    "fit30words_freq[1:5]"
   ]
  },
  {
   "cell_type": "code",
   "execution_count": 23,
   "metadata": {},
   "outputs": [
    {
     "data": {
      "text/html": [
       "<div>\n",
       "<style scoped>\n",
       "    .dataframe tbody tr th:only-of-type {\n",
       "        vertical-align: middle;\n",
       "    }\n",
       "\n",
       "    .dataframe tbody tr th {\n",
       "        vertical-align: top;\n",
       "    }\n",
       "\n",
       "    .dataframe thead th {\n",
       "        text-align: right;\n",
       "    }\n",
       "</style>\n",
       "<table border=\"1\" class=\"dataframe\">\n",
       "  <thead>\n",
       "    <tr style=\"text-align: right;\">\n",
       "      <th></th>\n",
       "      <th>word</th>\n",
       "      <th>fit_frequency</th>\n",
       "      <th>fit30_frequency</th>\n",
       "    </tr>\n",
       "  </thead>\n",
       "  <tbody>\n",
       "    <tr>\n",
       "      <th>0</th>\n",
       "      <td>weight</td>\n",
       "      <td>579</td>\n",
       "      <td>299</td>\n",
       "    </tr>\n",
       "    <tr>\n",
       "      <th>1</th>\n",
       "      <td>day</td>\n",
       "      <td>555</td>\n",
       "      <td>297</td>\n",
       "    </tr>\n",
       "    <tr>\n",
       "      <th>2</th>\n",
       "      <td>week</td>\n",
       "      <td>398</td>\n",
       "      <td>244</td>\n",
       "    </tr>\n",
       "    <tr>\n",
       "      <th>3</th>\n",
       "      <td>like</td>\n",
       "      <td>385</td>\n",
       "      <td>225</td>\n",
       "    </tr>\n",
       "    <tr>\n",
       "      <th>4</th>\n",
       "      <td>get</td>\n",
       "      <td>347</td>\n",
       "      <td>267</td>\n",
       "    </tr>\n",
       "  </tbody>\n",
       "</table>\n",
       "</div>"
      ],
      "text/plain": [
       "     word  fit_frequency  fit30_frequency\n",
       "0  weight            579              299\n",
       "1     day            555              297\n",
       "2    week            398              244\n",
       "3    like            385              225\n",
       "4     get            347              267"
      ]
     },
     "execution_count": 23,
     "metadata": {},
     "output_type": "execute_result"
    }
   ],
   "source": [
    "# Create one DF for the frequencies\n",
    "\n",
    "fit_freq_df = pd.DataFrame(fitwords_freq, columns = ['word', 'fit_frequency'])\n",
    "fit30_freq_df = pd.DataFrame(fit30words_freq, columns = ['word', 'fit30_frequency'])\n",
    "\n",
    "freq_df = fit_freq_df.merge(fit30_freq_df, left_on = 'word', right_on = 'word')\n",
    "freq_df.head()"
   ]
  },
  {
   "cell_type": "code",
   "execution_count": 24,
   "metadata": {},
   "outputs": [
    {
     "data": {
      "text/plain": [
       "(45380, 29365)"
      ]
     },
     "execution_count": 24,
     "metadata": {},
     "output_type": "execute_result"
    }
   ],
   "source": [
    "# Total words from each sub. Due to the disparity, we should deal with relative frequencies.\n",
    "freq_df['fit_frequency'].sum(), freq_df['fit30_frequency'].sum()"
   ]
  },
  {
   "cell_type": "code",
   "execution_count": 25,
   "metadata": {},
   "outputs": [
    {
     "data": {
      "text/html": [
       "<div>\n",
       "<style scoped>\n",
       "    .dataframe tbody tr th:only-of-type {\n",
       "        vertical-align: middle;\n",
       "    }\n",
       "\n",
       "    .dataframe tbody tr th {\n",
       "        vertical-align: top;\n",
       "    }\n",
       "\n",
       "    .dataframe thead th {\n",
       "        text-align: right;\n",
       "    }\n",
       "</style>\n",
       "<table border=\"1\" class=\"dataframe\">\n",
       "  <thead>\n",
       "    <tr style=\"text-align: right;\">\n",
       "      <th></th>\n",
       "      <th>word</th>\n",
       "      <th>fit_frequency</th>\n",
       "      <th>fit30_frequency</th>\n",
       "    </tr>\n",
       "  </thead>\n",
       "  <tbody>\n",
       "    <tr>\n",
       "      <th>0</th>\n",
       "      <td>weight</td>\n",
       "      <td>0.012759</td>\n",
       "      <td>0.010182</td>\n",
       "    </tr>\n",
       "    <tr>\n",
       "      <th>1</th>\n",
       "      <td>day</td>\n",
       "      <td>0.012230</td>\n",
       "      <td>0.010114</td>\n",
       "    </tr>\n",
       "    <tr>\n",
       "      <th>2</th>\n",
       "      <td>week</td>\n",
       "      <td>0.008770</td>\n",
       "      <td>0.008309</td>\n",
       "    </tr>\n",
       "    <tr>\n",
       "      <th>3</th>\n",
       "      <td>like</td>\n",
       "      <td>0.008484</td>\n",
       "      <td>0.007662</td>\n",
       "    </tr>\n",
       "    <tr>\n",
       "      <th>4</th>\n",
       "      <td>get</td>\n",
       "      <td>0.007647</td>\n",
       "      <td>0.009092</td>\n",
       "    </tr>\n",
       "  </tbody>\n",
       "</table>\n",
       "</div>"
      ],
      "text/plain": [
       "     word  fit_frequency  fit30_frequency\n",
       "0  weight       0.012759         0.010182\n",
       "1     day       0.012230         0.010114\n",
       "2    week       0.008770         0.008309\n",
       "3    like       0.008484         0.007662\n",
       "4     get       0.007647         0.009092"
      ]
     },
     "execution_count": 25,
     "metadata": {},
     "output_type": "execute_result"
    }
   ],
   "source": [
    "# Convert frequencies to be relative\n",
    "\n",
    "freq_df['fit_frequency'] = freq_df['fit_frequency'] / freq_df['fit_frequency'].sum()\n",
    "freq_df['fit30_frequency'] = freq_df['fit30_frequency'] / freq_df['fit30_frequency'].sum()\n",
    "freq_df.head()"
   ]
  },
  {
   "cell_type": "code",
   "execution_count": 26,
   "metadata": {},
   "outputs": [],
   "source": [
    "# Let's see the biggest disparities\n",
    "# Not using absolute value here because the negative values will give us the fit30 words\n",
    "freq_df['disparity'] = freq_df['fit_frequency'] - freq_df['fit30_frequency']"
   ]
  },
  {
   "cell_type": "code",
   "execution_count": 27,
   "metadata": {
    "scrolled": true
   },
   "outputs": [
    {
     "data": {
      "text/html": [
       "<div>\n",
       "<style scoped>\n",
       "    .dataframe tbody tr th:only-of-type {\n",
       "        vertical-align: middle;\n",
       "    }\n",
       "\n",
       "    .dataframe tbody tr th {\n",
       "        vertical-align: top;\n",
       "    }\n",
       "\n",
       "    .dataframe thead th {\n",
       "        text-align: right;\n",
       "    }\n",
       "</style>\n",
       "<table border=\"1\" class=\"dataframe\">\n",
       "  <thead>\n",
       "    <tr style=\"text-align: right;\">\n",
       "      <th></th>\n",
       "      <th>word</th>\n",
       "      <th>fit_frequency</th>\n",
       "      <th>fit30_frequency</th>\n",
       "      <th>disparity</th>\n",
       "    </tr>\n",
       "  </thead>\n",
       "  <tbody>\n",
       "    <tr>\n",
       "      <th>0</th>\n",
       "      <td>weight</td>\n",
       "      <td>0.012759</td>\n",
       "      <td>0.010182</td>\n",
       "      <td>0.002577</td>\n",
       "    </tr>\n",
       "    <tr>\n",
       "      <th>1</th>\n",
       "      <td>day</td>\n",
       "      <td>0.012230</td>\n",
       "      <td>0.010114</td>\n",
       "      <td>0.002116</td>\n",
       "    </tr>\n",
       "    <tr>\n",
       "      <th>2</th>\n",
       "      <td>week</td>\n",
       "      <td>0.008770</td>\n",
       "      <td>0.008309</td>\n",
       "      <td>0.000461</td>\n",
       "    </tr>\n",
       "    <tr>\n",
       "      <th>3</th>\n",
       "      <td>like</td>\n",
       "      <td>0.008484</td>\n",
       "      <td>0.007662</td>\n",
       "      <td>0.000822</td>\n",
       "    </tr>\n",
       "    <tr>\n",
       "      <th>4</th>\n",
       "      <td>get</td>\n",
       "      <td>0.007647</td>\n",
       "      <td>0.009092</td>\n",
       "      <td>-0.001446</td>\n",
       "    </tr>\n",
       "  </tbody>\n",
       "</table>\n",
       "</div>"
      ],
      "text/plain": [
       "     word  fit_frequency  fit30_frequency  disparity\n",
       "0  weight       0.012759         0.010182   0.002577\n",
       "1     day       0.012230         0.010114   0.002116\n",
       "2    week       0.008770         0.008309   0.000461\n",
       "3    like       0.008484         0.007662   0.000822\n",
       "4     get       0.007647         0.009092  -0.001446"
      ]
     },
     "execution_count": 27,
     "metadata": {},
     "output_type": "execute_result"
    }
   ],
   "source": [
    "freq_df.head()"
   ]
  },
  {
   "cell_type": "code",
   "execution_count": 28,
   "metadata": {
    "scrolled": true
   },
   "outputs": [
    {
     "data": {
      "text/html": [
       "<div>\n",
       "<style scoped>\n",
       "    .dataframe tbody tr th:only-of-type {\n",
       "        vertical-align: middle;\n",
       "    }\n",
       "\n",
       "    .dataframe tbody tr th {\n",
       "        vertical-align: top;\n",
       "    }\n",
       "\n",
       "    .dataframe thead th {\n",
       "        text-align: right;\n",
       "    }\n",
       "</style>\n",
       "<table border=\"1\" class=\"dataframe\">\n",
       "  <thead>\n",
       "    <tr style=\"text-align: right;\">\n",
       "      <th></th>\n",
       "      <th>word</th>\n",
       "      <th>fit_frequency</th>\n",
       "      <th>fit30_frequency</th>\n",
       "      <th>disparity</th>\n",
       "    </tr>\n",
       "  </thead>\n",
       "  <tbody>\n",
       "    <tr>\n",
       "      <th>8</th>\n",
       "      <td>muscle</td>\n",
       "      <td>0.007074</td>\n",
       "      <td>0.004291</td>\n",
       "      <td>0.002783</td>\n",
       "    </tr>\n",
       "    <tr>\n",
       "      <th>0</th>\n",
       "      <td>weight</td>\n",
       "      <td>0.012759</td>\n",
       "      <td>0.010182</td>\n",
       "      <td>0.002577</td>\n",
       "    </tr>\n",
       "    <tr>\n",
       "      <th>55</th>\n",
       "      <td>gt</td>\n",
       "      <td>0.002909</td>\n",
       "      <td>0.000341</td>\n",
       "      <td>0.002568</td>\n",
       "    </tr>\n",
       "    <tr>\n",
       "      <th>12</th>\n",
       "      <td>know</td>\n",
       "      <td>0.005333</td>\n",
       "      <td>0.003133</td>\n",
       "      <td>0.002200</td>\n",
       "    </tr>\n",
       "    <tr>\n",
       "      <th>1</th>\n",
       "      <td>day</td>\n",
       "      <td>0.012230</td>\n",
       "      <td>0.010114</td>\n",
       "      <td>0.002116</td>\n",
       "    </tr>\n",
       "  </tbody>\n",
       "</table>\n",
       "</div>"
      ],
      "text/plain": [
       "      word  fit_frequency  fit30_frequency  disparity\n",
       "8   muscle       0.007074         0.004291   0.002783\n",
       "0   weight       0.012759         0.010182   0.002577\n",
       "55      gt       0.002909         0.000341   0.002568\n",
       "12    know       0.005333         0.003133   0.002200\n",
       "1      day       0.012230         0.010114   0.002116"
      ]
     },
     "execution_count": 28,
     "metadata": {},
     "output_type": "execute_result"
    }
   ],
   "source": [
    "freq_df.sort_values(by = 'disparity', ascending = False).head()"
   ]
  },
  {
   "cell_type": "code",
   "execution_count": 29,
   "metadata": {},
   "outputs": [],
   "source": [
    "### These are our subreddit specific words. Top 25 for each. ###\n",
    "\n",
    "fit_words = list(freq_df.sort_values(by = 'disparity', ascending = False)['word'].head(25))\n",
    "fit30_words = list(freq_df.sort_values(by = 'disparity', ascending = False)['word'].tail(25))"
   ]
  },
  {
   "cell_type": "code",
   "execution_count": 30,
   "metadata": {},
   "outputs": [
    {
     "data": {
      "text/plain": [
       "(3139, 4)"
      ]
     },
     "execution_count": 30,
     "metadata": {},
     "output_type": "execute_result"
    }
   ],
   "source": [
    "freq_df.shape"
   ]
  },
  {
   "cell_type": "markdown",
   "metadata": {},
   "source": [
    "'contains_fitword' and 'contains_fit30word' will be 1 if the post contains one our subreddit specific words"
   ]
  },
  {
   "cell_type": "code",
   "execution_count": 31,
   "metadata": {},
   "outputs": [],
   "source": [
    "def check_fitword(string):\n",
    "    for word in fit_words:\n",
    "        if word in string:\n",
    "            return 1\n",
    "    return 0"
   ]
  },
  {
   "cell_type": "code",
   "execution_count": 32,
   "metadata": {},
   "outputs": [],
   "source": [
    "def check_fit30word(string):\n",
    "    for word in fit30_words:\n",
    "        if word in string:\n",
    "            return 1\n",
    "    return 0"
   ]
  },
  {
   "cell_type": "code",
   "execution_count": 33,
   "metadata": {},
   "outputs": [],
   "source": [
    "df['contains_fitword'] = df['nostopstring'].apply(check_fitword)\n",
    "df['contains_fit30word'] = df['nostopstring'].apply(check_fit30word)\n",
    "cols.append('contains_fitword')\n",
    "cols.append('contains_fit30word')"
   ]
  },
  {
   "cell_type": "code",
   "execution_count": 34,
   "metadata": {},
   "outputs": [
    {
     "data": {
      "text/html": [
       "<div>\n",
       "<style scoped>\n",
       "    .dataframe tbody tr th:only-of-type {\n",
       "        vertical-align: middle;\n",
       "    }\n",
       "\n",
       "    .dataframe tbody tr th {\n",
       "        vertical-align: top;\n",
       "    }\n",
       "\n",
       "    .dataframe thead th {\n",
       "        text-align: right;\n",
       "    }\n",
       "</style>\n",
       "<table border=\"1\" class=\"dataframe\">\n",
       "  <thead>\n",
       "    <tr style=\"text-align: right;\">\n",
       "      <th></th>\n",
       "      <th>title</th>\n",
       "      <th>alltext</th>\n",
       "      <th>subreddit</th>\n",
       "      <th>created_utc</th>\n",
       "      <th>tokenized</th>\n",
       "      <th>tokens_lem</th>\n",
       "      <th>nostops</th>\n",
       "      <th>nostopstring</th>\n",
       "      <th>contains_fitword</th>\n",
       "      <th>contains_fit30word</th>\n",
       "    </tr>\n",
       "  </thead>\n",
       "  <tbody>\n",
       "    <tr>\n",
       "      <th>0</th>\n",
       "      <td>Is biking 10 miles a day enough for steady wei...</td>\n",
       "      <td>Is biking 10 miles a day enough for steady wei...</td>\n",
       "      <td>0</td>\n",
       "      <td>2020-01-30 23:02:59</td>\n",
       "      <td>[is, biking, 10, miles, a, day, enough, for, s...</td>\n",
       "      <td>[is, biking, 10, mile, a, day, enough, for, st...</td>\n",
       "      <td>[biking, 10, mile, day, enough, steady, weight...</td>\n",
       "      <td>biking 10 mile day enough steady weight loss</td>\n",
       "      <td>1</td>\n",
       "      <td>0</td>\n",
       "    </tr>\n",
       "    <tr>\n",
       "      <th>1</th>\n",
       "      <td>97 Pounds to 121 Pounds | 7 Months | Progress ...</td>\n",
       "      <td>97 Pounds to 121 Pounds | 7 Months | Progress ...</td>\n",
       "      <td>0</td>\n",
       "      <td>2020-01-30 22:52:20</td>\n",
       "      <td>[97, pounds, to, 121, pounds, 7, months, progr...</td>\n",
       "      <td>[97, pound, to, 121, pound, 7, month, progress...</td>\n",
       "      <td>[97, pound, 121, pound, 7, month, progress, post]</td>\n",
       "      <td>97 pound 121 pound 7 month progress post</td>\n",
       "      <td>0</td>\n",
       "      <td>1</td>\n",
       "    </tr>\n",
       "    <tr>\n",
       "      <th>2</th>\n",
       "      <td>Muscle Inbalances</td>\n",
       "      <td>Muscle Inbalances</td>\n",
       "      <td>0</td>\n",
       "      <td>2020-01-30 22:52:08</td>\n",
       "      <td>[muscle, inbalances]</td>\n",
       "      <td>[muscle, inbalances]</td>\n",
       "      <td>[muscle, inbalances]</td>\n",
       "      <td>muscle inbalances</td>\n",
       "      <td>1</td>\n",
       "      <td>0</td>\n",
       "    </tr>\n",
       "    <tr>\n",
       "      <th>3</th>\n",
       "      <td>Opinions on my journey so far?</td>\n",
       "      <td>Opinions on my journey so far?</td>\n",
       "      <td>0</td>\n",
       "      <td>2020-01-30 22:48:04</td>\n",
       "      <td>[opinions, on, my, journey, so, far]</td>\n",
       "      <td>[opinion, on, my, journey, so, far]</td>\n",
       "      <td>[opinion, journey, far]</td>\n",
       "      <td>opinion journey far</td>\n",
       "      <td>0</td>\n",
       "      <td>0</td>\n",
       "    </tr>\n",
       "    <tr>\n",
       "      <th>4</th>\n",
       "      <td>Body recomposition - How to lose fat and build...</td>\n",
       "      <td>Body recomposition - How to lose fat and build...</td>\n",
       "      <td>1</td>\n",
       "      <td>2020-01-30 22:45:31</td>\n",
       "      <td>[body, recomposition, how, to, lose, fat, and,...</td>\n",
       "      <td>[body, recomposition, how, to, lose, fat, and,...</td>\n",
       "      <td>[body, recomposition, lose, fat, build, muscle...</td>\n",
       "      <td>body recomposition lose fat build muscle deleted</td>\n",
       "      <td>1</td>\n",
       "      <td>0</td>\n",
       "    </tr>\n",
       "  </tbody>\n",
       "</table>\n",
       "</div>"
      ],
      "text/plain": [
       "                                               title  \\\n",
       "0  Is biking 10 miles a day enough for steady wei...   \n",
       "1  97 Pounds to 121 Pounds | 7 Months | Progress ...   \n",
       "2                                  Muscle Inbalances   \n",
       "3                     Opinions on my journey so far?   \n",
       "4  Body recomposition - How to lose fat and build...   \n",
       "\n",
       "                                             alltext  subreddit  \\\n",
       "0  Is biking 10 miles a day enough for steady wei...          0   \n",
       "1  97 Pounds to 121 Pounds | 7 Months | Progress ...          0   \n",
       "2                                 Muscle Inbalances           0   \n",
       "3                    Opinions on my journey so far?           0   \n",
       "4  Body recomposition - How to lose fat and build...          1   \n",
       "\n",
       "           created_utc                                          tokenized  \\\n",
       "0  2020-01-30 23:02:59  [is, biking, 10, miles, a, day, enough, for, s...   \n",
       "1  2020-01-30 22:52:20  [97, pounds, to, 121, pounds, 7, months, progr...   \n",
       "2  2020-01-30 22:52:08                               [muscle, inbalances]   \n",
       "3  2020-01-30 22:48:04               [opinions, on, my, journey, so, far]   \n",
       "4  2020-01-30 22:45:31  [body, recomposition, how, to, lose, fat, and,...   \n",
       "\n",
       "                                          tokens_lem  \\\n",
       "0  [is, biking, 10, mile, a, day, enough, for, st...   \n",
       "1  [97, pound, to, 121, pound, 7, month, progress...   \n",
       "2                               [muscle, inbalances]   \n",
       "3                [opinion, on, my, journey, so, far]   \n",
       "4  [body, recomposition, how, to, lose, fat, and,...   \n",
       "\n",
       "                                             nostops  \\\n",
       "0  [biking, 10, mile, day, enough, steady, weight...   \n",
       "1  [97, pound, 121, pound, 7, month, progress, post]   \n",
       "2                               [muscle, inbalances]   \n",
       "3                            [opinion, journey, far]   \n",
       "4  [body, recomposition, lose, fat, build, muscle...   \n",
       "\n",
       "                                       nostopstring  contains_fitword  \\\n",
       "0      biking 10 mile day enough steady weight loss                 1   \n",
       "1          97 pound 121 pound 7 month progress post                 0   \n",
       "2                                 muscle inbalances                 1   \n",
       "3                               opinion journey far                 0   \n",
       "4  body recomposition lose fat build muscle deleted                 1   \n",
       "\n",
       "   contains_fit30word  \n",
       "0                   0  \n",
       "1                   1  \n",
       "2                   0  \n",
       "3                   0  \n",
       "4                   0  "
      ]
     },
     "execution_count": 34,
     "metadata": {},
     "output_type": "execute_result"
    }
   ],
   "source": [
    "df[cols].head()"
   ]
  },
  {
   "cell_type": "markdown",
   "metadata": {},
   "source": [
    "#### Feature: age token"
   ]
  },
  {
   "cell_type": "code",
   "execution_count": 35,
   "metadata": {},
   "outputs": [],
   "source": [
    "def old_age_token(post):\n",
    "    for word in post:\n",
    "        if word.isnumeric():\n",
    "            word = int(word)\n",
    "            if (30 <= word <= 80): # Stop at 80, otherwise we're picking up bodyweights and best lifts\n",
    "                return 1\n",
    "    return 0"
   ]
  },
  {
   "cell_type": "code",
   "execution_count": 36,
   "metadata": {},
   "outputs": [],
   "source": [
    "def young_age_token(post):\n",
    "    for word in post:\n",
    "        if word.isnumeric():\n",
    "            word = int(word)\n",
    "            if (13 <= word <= 29): \n",
    "                return 1\n",
    "    return 0"
   ]
  },
  {
   "cell_type": "code",
   "execution_count": 37,
   "metadata": {},
   "outputs": [],
   "source": [
    "df['old_age_token'] = df['nostops'].apply(old_age_token)\n",
    "cols.append('old_age_token')"
   ]
  },
  {
   "cell_type": "code",
   "execution_count": 38,
   "metadata": {},
   "outputs": [],
   "source": [
    "df['young_age_token'] = df['nostops'].apply(young_age_token)\n",
    "cols.append('young_age_token')"
   ]
  },
  {
   "cell_type": "markdown",
   "metadata": {},
   "source": [
    "#### Feature: length"
   ]
  },
  {
   "cell_type": "code",
   "execution_count": 39,
   "metadata": {},
   "outputs": [],
   "source": [
    "df['length'] = df['nostops'].apply(lambda x: len(x))\n",
    "cols.append('length')"
   ]
  },
  {
   "cell_type": "code",
   "execution_count": 40,
   "metadata": {},
   "outputs": [
    {
     "data": {
      "text/html": [
       "<div>\n",
       "<style scoped>\n",
       "    .dataframe tbody tr th:only-of-type {\n",
       "        vertical-align: middle;\n",
       "    }\n",
       "\n",
       "    .dataframe tbody tr th {\n",
       "        vertical-align: top;\n",
       "    }\n",
       "\n",
       "    .dataframe thead th {\n",
       "        text-align: right;\n",
       "    }\n",
       "</style>\n",
       "<table border=\"1\" class=\"dataframe\">\n",
       "  <thead>\n",
       "    <tr style=\"text-align: right;\">\n",
       "      <th></th>\n",
       "      <th>title</th>\n",
       "      <th>alltext</th>\n",
       "      <th>subreddit</th>\n",
       "      <th>created_utc</th>\n",
       "      <th>tokenized</th>\n",
       "      <th>tokens_lem</th>\n",
       "      <th>nostops</th>\n",
       "      <th>nostopstring</th>\n",
       "      <th>contains_fitword</th>\n",
       "      <th>contains_fit30word</th>\n",
       "      <th>old_age_token</th>\n",
       "      <th>young_age_token</th>\n",
       "      <th>length</th>\n",
       "    </tr>\n",
       "  </thead>\n",
       "  <tbody>\n",
       "    <tr>\n",
       "      <th>0</th>\n",
       "      <td>Is biking 10 miles a day enough for steady wei...</td>\n",
       "      <td>Is biking 10 miles a day enough for steady wei...</td>\n",
       "      <td>0</td>\n",
       "      <td>2020-01-30 23:02:59</td>\n",
       "      <td>[is, biking, 10, miles, a, day, enough, for, s...</td>\n",
       "      <td>[is, biking, 10, mile, a, day, enough, for, st...</td>\n",
       "      <td>[biking, 10, mile, day, enough, steady, weight...</td>\n",
       "      <td>biking 10 mile day enough steady weight loss</td>\n",
       "      <td>1</td>\n",
       "      <td>0</td>\n",
       "      <td>0</td>\n",
       "      <td>0</td>\n",
       "      <td>8</td>\n",
       "    </tr>\n",
       "    <tr>\n",
       "      <th>1</th>\n",
       "      <td>97 Pounds to 121 Pounds | 7 Months | Progress ...</td>\n",
       "      <td>97 Pounds to 121 Pounds | 7 Months | Progress ...</td>\n",
       "      <td>0</td>\n",
       "      <td>2020-01-30 22:52:20</td>\n",
       "      <td>[97, pounds, to, 121, pounds, 7, months, progr...</td>\n",
       "      <td>[97, pound, to, 121, pound, 7, month, progress...</td>\n",
       "      <td>[97, pound, 121, pound, 7, month, progress, post]</td>\n",
       "      <td>97 pound 121 pound 7 month progress post</td>\n",
       "      <td>0</td>\n",
       "      <td>1</td>\n",
       "      <td>0</td>\n",
       "      <td>0</td>\n",
       "      <td>8</td>\n",
       "    </tr>\n",
       "    <tr>\n",
       "      <th>2</th>\n",
       "      <td>Muscle Inbalances</td>\n",
       "      <td>Muscle Inbalances</td>\n",
       "      <td>0</td>\n",
       "      <td>2020-01-30 22:52:08</td>\n",
       "      <td>[muscle, inbalances]</td>\n",
       "      <td>[muscle, inbalances]</td>\n",
       "      <td>[muscle, inbalances]</td>\n",
       "      <td>muscle inbalances</td>\n",
       "      <td>1</td>\n",
       "      <td>0</td>\n",
       "      <td>0</td>\n",
       "      <td>0</td>\n",
       "      <td>2</td>\n",
       "    </tr>\n",
       "    <tr>\n",
       "      <th>3</th>\n",
       "      <td>Opinions on my journey so far?</td>\n",
       "      <td>Opinions on my journey so far?</td>\n",
       "      <td>0</td>\n",
       "      <td>2020-01-30 22:48:04</td>\n",
       "      <td>[opinions, on, my, journey, so, far]</td>\n",
       "      <td>[opinion, on, my, journey, so, far]</td>\n",
       "      <td>[opinion, journey, far]</td>\n",
       "      <td>opinion journey far</td>\n",
       "      <td>0</td>\n",
       "      <td>0</td>\n",
       "      <td>0</td>\n",
       "      <td>0</td>\n",
       "      <td>3</td>\n",
       "    </tr>\n",
       "    <tr>\n",
       "      <th>4</th>\n",
       "      <td>Body recomposition - How to lose fat and build...</td>\n",
       "      <td>Body recomposition - How to lose fat and build...</td>\n",
       "      <td>1</td>\n",
       "      <td>2020-01-30 22:45:31</td>\n",
       "      <td>[body, recomposition, how, to, lose, fat, and,...</td>\n",
       "      <td>[body, recomposition, how, to, lose, fat, and,...</td>\n",
       "      <td>[body, recomposition, lose, fat, build, muscle...</td>\n",
       "      <td>body recomposition lose fat build muscle deleted</td>\n",
       "      <td>1</td>\n",
       "      <td>0</td>\n",
       "      <td>0</td>\n",
       "      <td>0</td>\n",
       "      <td>7</td>\n",
       "    </tr>\n",
       "  </tbody>\n",
       "</table>\n",
       "</div>"
      ],
      "text/plain": [
       "                                               title  \\\n",
       "0  Is biking 10 miles a day enough for steady wei...   \n",
       "1  97 Pounds to 121 Pounds | 7 Months | Progress ...   \n",
       "2                                  Muscle Inbalances   \n",
       "3                     Opinions on my journey so far?   \n",
       "4  Body recomposition - How to lose fat and build...   \n",
       "\n",
       "                                             alltext  subreddit  \\\n",
       "0  Is biking 10 miles a day enough for steady wei...          0   \n",
       "1  97 Pounds to 121 Pounds | 7 Months | Progress ...          0   \n",
       "2                                 Muscle Inbalances           0   \n",
       "3                    Opinions on my journey so far?           0   \n",
       "4  Body recomposition - How to lose fat and build...          1   \n",
       "\n",
       "           created_utc                                          tokenized  \\\n",
       "0  2020-01-30 23:02:59  [is, biking, 10, miles, a, day, enough, for, s...   \n",
       "1  2020-01-30 22:52:20  [97, pounds, to, 121, pounds, 7, months, progr...   \n",
       "2  2020-01-30 22:52:08                               [muscle, inbalances]   \n",
       "3  2020-01-30 22:48:04               [opinions, on, my, journey, so, far]   \n",
       "4  2020-01-30 22:45:31  [body, recomposition, how, to, lose, fat, and,...   \n",
       "\n",
       "                                          tokens_lem  \\\n",
       "0  [is, biking, 10, mile, a, day, enough, for, st...   \n",
       "1  [97, pound, to, 121, pound, 7, month, progress...   \n",
       "2                               [muscle, inbalances]   \n",
       "3                [opinion, on, my, journey, so, far]   \n",
       "4  [body, recomposition, how, to, lose, fat, and,...   \n",
       "\n",
       "                                             nostops  \\\n",
       "0  [biking, 10, mile, day, enough, steady, weight...   \n",
       "1  [97, pound, 121, pound, 7, month, progress, post]   \n",
       "2                               [muscle, inbalances]   \n",
       "3                            [opinion, journey, far]   \n",
       "4  [body, recomposition, lose, fat, build, muscle...   \n",
       "\n",
       "                                       nostopstring  contains_fitword  \\\n",
       "0      biking 10 mile day enough steady weight loss                 1   \n",
       "1          97 pound 121 pound 7 month progress post                 0   \n",
       "2                                 muscle inbalances                 1   \n",
       "3                               opinion journey far                 0   \n",
       "4  body recomposition lose fat build muscle deleted                 1   \n",
       "\n",
       "   contains_fit30word  old_age_token  young_age_token  length  \n",
       "0                   0              0                0       8  \n",
       "1                   1              0                0       8  \n",
       "2                   0              0                0       2  \n",
       "3                   0              0                0       3  \n",
       "4                   0              0                0       7  "
      ]
     },
     "execution_count": 40,
     "metadata": {},
     "output_type": "execute_result"
    }
   ],
   "source": [
    "df[cols].head()"
   ]
  },
  {
   "cell_type": "markdown",
   "metadata": {},
   "source": [
    "Testing out not doing the transformations."
   ]
  },
  {
   "cell_type": "code",
   "execution_count": 41,
   "metadata": {},
   "outputs": [],
   "source": [
    "# Keep the lemmatize, don't remove the stopwords\n",
    "df['lem_string'] = df['tokens_lem'].apply(joinwords)\n",
    "cols.append('lem_string')"
   ]
  },
  {
   "cell_type": "code",
   "execution_count": 42,
   "metadata": {},
   "outputs": [],
   "source": [
    "# Remove the stopwords without lemmatizing first\n",
    "df['nolemnostops'] = df['tokenized'].apply(filter_stopwords).apply(joinwords)\n",
    "cols.append('nolemnostops')"
   ]
  },
  {
   "cell_type": "markdown",
   "metadata": {},
   "source": [
    "### Train Test Split"
   ]
  },
  {
   "cell_type": "code",
   "execution_count": 43,
   "metadata": {},
   "outputs": [],
   "source": [
    "model_cols = ['nostopstring', \n",
    "              'contains_fitword', \n",
    "              'contains_fit30word', \n",
    "              'old_age_token',\n",
    "              'young_age_token',\n",
    "              'length']\n",
    "X = df[model_cols]"
   ]
  },
  {
   "cell_type": "code",
   "execution_count": 44,
   "metadata": {},
   "outputs": [],
   "source": [
    "y = df['subreddit']"
   ]
  },
  {
   "cell_type": "code",
   "execution_count": 45,
   "metadata": {},
   "outputs": [],
   "source": [
    "X_train, X_test, y_train, y_test = train_test_split(X,\n",
    "                                                    y,\n",
    "                                                    test_size=0.33,\n",
    "                                                    stratify=y,\n",
    "                                                    random_state=42)"
   ]
  },
  {
   "cell_type": "markdown",
   "metadata": {},
   "source": [
    "### Count Vectorizer"
   ]
  },
  {
   "cell_type": "code",
   "execution_count": 46,
   "metadata": {},
   "outputs": [],
   "source": [
    "# Re initialize cvec, now apply to train test split\n",
    "cvec = CountVectorizer(\n",
    "    analyzer = \"word\",\n",
    "    tokenizer = None,\n",
    "    preprocessor = None,\n",
    "    stop_words = None,\n",
    "    max_features = 5000\n",
    ")"
   ]
  },
  {
   "cell_type": "code",
   "execution_count": 47,
   "metadata": {},
   "outputs": [],
   "source": [
    "train_cvec = cvec.fit_transform(X_train['nostopstring'])\n",
    "test_cvec = cvec.transform(X_test['nostopstring'])"
   ]
  },
  {
   "cell_type": "code",
   "execution_count": 48,
   "metadata": {},
   "outputs": [
    {
     "data": {
      "text/plain": [
       "['арр', 'оf', 'оr', 'рrіvасу', 'раrtіеѕ']"
      ]
     },
     "execution_count": 48,
     "metadata": {},
     "output_type": "execute_result"
    }
   ],
   "source": [
    "cvec.get_feature_names()[4995:]"
   ]
  },
  {
   "cell_type": "code",
   "execution_count": 49,
   "metadata": {
    "scrolled": true
   },
   "outputs": [
    {
     "data": {
      "text/plain": [
       "(<1384x5000 sparse matrix of type '<class 'numpy.int64'>'\n",
       " \twith 41015 stored elements in Compressed Sparse Row format>,\n",
       " <683x5000 sparse matrix of type '<class 'numpy.int64'>'\n",
       " \twith 17866 stored elements in Compressed Sparse Row format>)"
      ]
     },
     "execution_count": 49,
     "metadata": {},
     "output_type": "execute_result"
    }
   ],
   "source": [
    "train_cvec, test_cvec"
   ]
  },
  {
   "cell_type": "markdown",
   "metadata": {},
   "source": [
    "#### TFIDF Vectorizer"
   ]
  },
  {
   "cell_type": "code",
   "execution_count": 50,
   "metadata": {},
   "outputs": [],
   "source": [
    "tvec = TfidfVectorizer(max_features = 5000)"
   ]
  },
  {
   "cell_type": "code",
   "execution_count": 51,
   "metadata": {},
   "outputs": [],
   "source": [
    "train_tvec = tvec.fit_transform(X_train['nostopstring'])\n",
    "test_tvec = tvec.transform(X_test['nostopstring'])"
   ]
  },
  {
   "cell_type": "code",
   "execution_count": 52,
   "metadata": {},
   "outputs": [
    {
     "data": {
      "text/plain": [
       "<1384x5000 sparse matrix of type '<class 'numpy.float64'>'\n",
       "\twith 41015 stored elements in Compressed Sparse Row format>"
      ]
     },
     "execution_count": 52,
     "metadata": {},
     "output_type": "execute_result"
    }
   ],
   "source": [
    "train_tvec"
   ]
  },
  {
   "cell_type": "code",
   "execution_count": 53,
   "metadata": {},
   "outputs": [],
   "source": [
    "# Add our dummy features to count vectorizer\n",
    "#train_feat = np.vstack([train_cvec.toarray().T, X_train['contains_fitword'], X_train['contains_fit30word']]).T"
   ]
  },
  {
   "cell_type": "code",
   "execution_count": 54,
   "metadata": {},
   "outputs": [],
   "source": [
    "#test_feat = np.vstack([test_cvec.toarray().T, X_test['contains_fitword'], X_test['contains_fit30word']]).T"
   ]
  },
  {
   "cell_type": "code",
   "execution_count": 55,
   "metadata": {},
   "outputs": [],
   "source": [
    "#train_feat.T.shape, test_feat.shape"
   ]
  },
  {
   "cell_type": "markdown",
   "metadata": {},
   "source": [
    "## Modeling"
   ]
  },
  {
   "cell_type": "code",
   "execution_count": 56,
   "metadata": {
    "scrolled": true
   },
   "outputs": [
    {
     "data": {
      "text/plain": [
       "LogisticRegression(C=1, class_weight=None, dual=False, fit_intercept=True,\n",
       "                   intercept_scaling=1, l1_ratio=None, max_iter=100,\n",
       "                   multi_class='warn', n_jobs=None, penalty='l2',\n",
       "                   random_state=None, solver='liblinear', tol=0.0001, verbose=0,\n",
       "                   warm_start=False)"
      ]
     },
     "execution_count": 56,
     "metadata": {},
     "output_type": "execute_result"
    }
   ],
   "source": [
    "lr = LogisticRegression(solver = 'liblinear', C = 1)\n",
    "lr.fit(train_tvec, y_train)"
   ]
  },
  {
   "cell_type": "code",
   "execution_count": 57,
   "metadata": {},
   "outputs": [
    {
     "data": {
      "image/png": "[encoded data removed]",
      "text/plain": [
       "<Figure size 648x432 with 1 Axes>"
      ]
     },
     "metadata": {},
     "output_type": "display_data"
    }
   ],
   "source": [
    "#Strongest Coefficients\n",
    "plt.style.use('ggplot')\n",
    "plt.figure(figsize=(9,6))\n",
    "marcos = pd.Series(lr.coef_[0], index=tvec.get_feature_names()).sort_values()\n",
    "window_size=12\n",
    "pd.concat([marcos.head(window_size), marcos.tail(window_size)]).plot(kind='barh')\n",
    "plt.title('Strongest Logistic Regression Coefficients')\n",
    "plt.savefig('../plots/coefficients.png')\n",
    "plt.tight_layout();"
   ]
  },
  {
   "cell_type": "markdown",
   "metadata": {},
   "source": [
    "### Testing Fitwords & Fit30words"
   ]
  },
  {
   "cell_type": "markdown",
   "metadata": {},
   "source": [
    "Here we can test out our subreddit specific words from EDA and see if our model predicts correctly for them."
   ]
  },
  {
   "cell_type": "code",
   "execution_count": 58,
   "metadata": {},
   "outputs": [],
   "source": [
    "def joinwords(words):\n",
    "    return (\" \".join(words))"
   ]
  },
  {
   "cell_type": "code",
   "execution_count": 59,
   "metadata": {},
   "outputs": [
    {
     "name": "stdout",
     "output_type": "stream",
     "text": [
      "Should be 0:  [0]\n",
      "Should be 1:  [1]\n"
     ]
    }
   ],
   "source": [
    "# Successful predictions\n",
    "print('Should be 0: ', lr.predict(tvec.transform([joinwords(fit_words)])))\n",
    "print('Should be 1: ',lr.predict(tvec.transform([joinwords(fit30_words)])))"
   ]
  },
  {
   "cell_type": "code",
   "execution_count": 60,
   "metadata": {},
   "outputs": [
    {
     "data": {
      "text/plain": [
       "array([0.99999995])"
      ]
     },
     "execution_count": 60,
     "metadata": {},
     "output_type": "execute_result"
    }
   ],
   "source": [
    "# Chance it's from fitness\n",
    "lr.predict_proba(cvec.transform([joinwords(fit_words)]))[:,0]"
   ]
  },
  {
   "cell_type": "code",
   "execution_count": 61,
   "metadata": {},
   "outputs": [
    {
     "data": {
      "text/plain": [
       "array([0.99999998])"
      ]
     },
     "execution_count": 61,
     "metadata": {},
     "output_type": "execute_result"
    }
   ],
   "source": [
    "# Chance it's from fitness30plus\n",
    "lr.predict_proba(cvec.transform([joinwords(fit30_words)]))[:,1] "
   ]
  },
  {
   "cell_type": "markdown",
   "metadata": {},
   "source": [
    "First model will get predict proba from CVEC / TVEC. Second model will be engineered features + predict proba."
   ]
  },
  {
   "cell_type": "markdown",
   "metadata": {},
   "source": [
    "### Basic Logistic Regression"
   ]
  },
  {
   "cell_type": "code",
   "execution_count": 62,
   "metadata": {},
   "outputs": [
    {
     "data": {
      "text/plain": [
       "(0.8945086705202312, 0.6881405563689604)"
      ]
     },
     "execution_count": 62,
     "metadata": {},
     "output_type": "execute_result"
    }
   ],
   "source": [
    "lr.fit(train_tvec, y_train)\n",
    "lr.score(train_tvec, y_train), lr.score(test_tvec, y_test)"
   ]
  },
  {
   "cell_type": "code",
   "execution_count": 63,
   "metadata": {},
   "outputs": [
    {
     "data": {
      "text/plain": [
       "array([[0.89847363, 0.10152637],\n",
       "       [0.16616728, 0.83383272],\n",
       "       [0.63519933, 0.36480067],\n",
       "       ...,\n",
       "       [0.3296323 , 0.6703677 ],\n",
       "       [0.22834747, 0.77165253],\n",
       "       [0.99890004, 0.00109996]])"
      ]
     },
     "execution_count": 63,
     "metadata": {},
     "output_type": "execute_result"
    }
   ],
   "source": [
    "# Predict Proba\n",
    "lr.predict_proba(test_cvec)"
   ]
  },
  {
   "cell_type": "markdown",
   "metadata": {},
   "source": [
    "### Naive Bayes"
   ]
  },
  {
   "cell_type": "code",
   "execution_count": 64,
   "metadata": {},
   "outputs": [
    {
     "data": {
      "text/plain": [
       "(0.8562138728323699, 0.5929721815519766)"
      ]
     },
     "execution_count": 64,
     "metadata": {},
     "output_type": "execute_result"
    }
   ],
   "source": [
    "# Gaussian\n",
    "gnb = GaussianNB()\n",
    "gnb.fit(train_tvec.toarray(), y_train)\n",
    "gnb.score(train_tvec.toarray(), y_train), gnb.score(test_tvec.toarray(), y_test)"
   ]
  },
  {
   "cell_type": "code",
   "execution_count": 65,
   "metadata": {},
   "outputs": [
    {
     "data": {
      "text/plain": [
       "(0.8670520231213873, 0.6793557833089312)"
      ]
     },
     "execution_count": 65,
     "metadata": {},
     "output_type": "execute_result"
    }
   ],
   "source": [
    "# Multinomial\n",
    "mnb = MultinomialNB()\n",
    "mnb.fit(train_tvec.toarray(), y_train)\n",
    "mnb.score(train_tvec.toarray(), y_train), mnb.score(test_tvec.toarray(), y_test)"
   ]
  },
  {
   "cell_type": "code",
   "execution_count": 66,
   "metadata": {},
   "outputs": [
    {
     "data": {
      "text/plain": [
       "array([[0.92244856, 0.07755144],\n",
       "       [0.09487535, 0.90512465],\n",
       "       [0.85632057, 0.14367943],\n",
       "       ...,\n",
       "       [0.44607535, 0.55392465],\n",
       "       [0.56481895, 0.43518105],\n",
       "       [0.99879594, 0.00120406]])"
      ]
     },
     "execution_count": 66,
     "metadata": {},
     "output_type": "execute_result"
    }
   ],
   "source": [
    "mnb.predict_proba(test_cvec.toarray())"
   ]
  },
  {
   "cell_type": "markdown",
   "metadata": {},
   "source": [
    "### Random Forest"
   ]
  },
  {
   "cell_type": "code",
   "execution_count": 67,
   "metadata": {},
   "outputs": [
    {
     "name": "stderr",
     "output_type": "stream",
     "text": [
      "/opt/anaconda3/lib/python3.7/site-packages/sklearn/ensemble/forest.py:245: FutureWarning: The default value of n_estimators will change from 10 in version 0.20 to 100 in 0.22.\n",
      "  \"10 in version 0.20 to 100 in 0.22.\", FutureWarning)\n"
     ]
    },
    {
     "data": {
      "text/plain": [
       "(0.9855491329479769, 0.6691068814055637)"
      ]
     },
     "execution_count": 67,
     "metadata": {},
     "output_type": "execute_result"
    }
   ],
   "source": [
    "rf = RandomForestClassifier()\n",
    "rf.fit(train_tvec.toarray(), y_train)\n",
    "rf.score(train_tvec.toarray(), y_train), rf.score(test_tvec.toarray(), y_test)"
   ]
  },
  {
   "cell_type": "code",
   "execution_count": 68,
   "metadata": {},
   "outputs": [
    {
     "data": {
      "text/plain": [
       "array([[0.72      , 0.28      ],\n",
       "       [0.21285714, 0.78714286],\n",
       "       [0.68888889, 0.31111111],\n",
       "       ...,\n",
       "       [0.19222222, 0.80777778],\n",
       "       [0.18111111, 0.81888889],\n",
       "       [0.7       , 0.3       ]])"
      ]
     },
     "execution_count": 68,
     "metadata": {},
     "output_type": "execute_result"
    }
   ],
   "source": [
    "rf.predict_proba(test_tvec.toarray())"
   ]
  },
  {
   "cell_type": "markdown",
   "metadata": {},
   "source": [
    "#### Custom Posts\n",
    "\n",
    "See how the different models predict on the same made up text"
   ]
  },
  {
   "cell_type": "code",
   "execution_count": 69,
   "metadata": {},
   "outputs": [
    {
     "name": "stdout",
     "output_type": "stream",
     "text": [
      "[[0.28517942 0.71482058]]\n",
      "[[0. 1.]]\n",
      "[[0.42377329 0.57622671]]\n",
      "[[0.5 0.5]]\n"
     ]
    }
   ],
   "source": [
    "print(lr.predict_proba(tvec.transform(['get back in shape']).toarray()))\n",
    "print(gnb.predict_proba(tvec.transform(['get back in shape']).toarray()))\n",
    "print(mnb.predict_proba(tvec.transform(['get back in shape']).toarray()))\n",
    "print(rf.predict_proba(tvec.transform(['get back in shape']).toarray()))"
   ]
  },
  {
   "cell_type": "markdown",
   "metadata": {},
   "source": [
    "### New model will use predict_proba + new features"
   ]
  },
  {
   "cell_type": "code",
   "execution_count": 70,
   "metadata": {},
   "outputs": [
    {
     "name": "stderr",
     "output_type": "stream",
     "text": [
      "/opt/anaconda3/lib/python3.7/site-packages/ipykernel_launcher.py:2: SettingWithCopyWarning: \n",
      "A value is trying to be set on a copy of a slice from a DataFrame.\n",
      "Try using .loc[row_indexer,col_indexer] = value instead\n",
      "\n",
      "See the caveats in the documentation: http://pandas.pydata.org/pandas-docs/stable/user_guide/indexing.html#returning-a-view-versus-a-copy\n",
      "  \n",
      "/opt/anaconda3/lib/python3.7/site-packages/ipykernel_launcher.py:3: SettingWithCopyWarning: \n",
      "A value is trying to be set on a copy of a slice from a DataFrame.\n",
      "Try using .loc[row_indexer,col_indexer] = value instead\n",
      "\n",
      "See the caveats in the documentation: http://pandas.pydata.org/pandas-docs/stable/user_guide/indexing.html#returning-a-view-versus-a-copy\n",
      "  This is separate from the ipykernel package so we can avoid doing imports until\n"
     ]
    }
   ],
   "source": [
    "# Predict proba is proba for fit30 (the positive class)\n",
    "X_train['predict_proba'] = mnb.predict_proba(train_tvec.toarray())[:,1]\n",
    "X_test['predict_proba'] = mnb.predict_proba(test_tvec.toarray())[:,1]"
   ]
  },
  {
   "cell_type": "code",
   "execution_count": 71,
   "metadata": {},
   "outputs": [
    {
     "data": {
      "text/html": [
       "<div>\n",
       "<style scoped>\n",
       "    .dataframe tbody tr th:only-of-type {\n",
       "        vertical-align: middle;\n",
       "    }\n",
       "\n",
       "    .dataframe tbody tr th {\n",
       "        vertical-align: top;\n",
       "    }\n",
       "\n",
       "    .dataframe thead th {\n",
       "        text-align: right;\n",
       "    }\n",
       "</style>\n",
       "<table border=\"1\" class=\"dataframe\">\n",
       "  <thead>\n",
       "    <tr style=\"text-align: right;\">\n",
       "      <th></th>\n",
       "      <th>nostopstring</th>\n",
       "      <th>contains_fitword</th>\n",
       "      <th>contains_fit30word</th>\n",
       "      <th>old_age_token</th>\n",
       "      <th>young_age_token</th>\n",
       "      <th>length</th>\n",
       "      <th>predict_proba</th>\n",
       "    </tr>\n",
       "  </thead>\n",
       "  <tbody>\n",
       "    <tr>\n",
       "      <th>1526</th>\n",
       "      <td>making fitness part daily life</td>\n",
       "      <td>0</td>\n",
       "      <td>1</td>\n",
       "      <td>0</td>\n",
       "      <td>0</td>\n",
       "      <td>5</td>\n",
       "      <td>0.498641</td>\n",
       "    </tr>\n",
       "    <tr>\n",
       "      <th>688</th>\n",
       "      <td>study whole body hypertrophy exercise looking ...</td>\n",
       "      <td>1</td>\n",
       "      <td>1</td>\n",
       "      <td>0</td>\n",
       "      <td>0</td>\n",
       "      <td>29</td>\n",
       "      <td>0.178657</td>\n",
       "    </tr>\n",
       "    <tr>\n",
       "      <th>134</th>\n",
       "      <td>nsuns deload question nsuns little progress am...</td>\n",
       "      <td>1</td>\n",
       "      <td>1</td>\n",
       "      <td>0</td>\n",
       "      <td>0</td>\n",
       "      <td>32</td>\n",
       "      <td>0.271167</td>\n",
       "    </tr>\n",
       "    <tr>\n",
       "      <th>1757</th>\n",
       "      <td>overhead press irritate shoulder strongman log...</td>\n",
       "      <td>1</td>\n",
       "      <td>1</td>\n",
       "      <td>0</td>\n",
       "      <td>0</td>\n",
       "      <td>28</td>\n",
       "      <td>0.586765</td>\n",
       "    </tr>\n",
       "    <tr>\n",
       "      <th>1059</th>\n",
       "      <td>muscle building method everyone know build mus...</td>\n",
       "      <td>1</td>\n",
       "      <td>1</td>\n",
       "      <td>0</td>\n",
       "      <td>0</td>\n",
       "      <td>22</td>\n",
       "      <td>0.181100</td>\n",
       "    </tr>\n",
       "  </tbody>\n",
       "</table>\n",
       "</div>"
      ],
      "text/plain": [
       "                                           nostopstring  contains_fitword  \\\n",
       "1526                     making fitness part daily life                 0   \n",
       "688   study whole body hypertrophy exercise looking ...                 1   \n",
       "134   nsuns deload question nsuns little progress am...                 1   \n",
       "1757  overhead press irritate shoulder strongman log...                 1   \n",
       "1059  muscle building method everyone know build mus...                 1   \n",
       "\n",
       "      contains_fit30word  old_age_token  young_age_token  length  \\\n",
       "1526                   1              0                0       5   \n",
       "688                    1              0                0      29   \n",
       "134                    1              0                0      32   \n",
       "1757                   1              0                0      28   \n",
       "1059                   1              0                0      22   \n",
       "\n",
       "      predict_proba  \n",
       "1526       0.498641  \n",
       "688        0.178657  \n",
       "134        0.271167  \n",
       "1757       0.586765  \n",
       "1059       0.181100  "
      ]
     },
     "execution_count": 71,
     "metadata": {},
     "output_type": "execute_result"
    }
   ],
   "source": [
    "X_train.head()"
   ]
  },
  {
   "cell_type": "code",
   "execution_count": 72,
   "metadata": {},
   "outputs": [],
   "source": [
    "new_model_cols = ['contains_fitword', \n",
    "                  'contains_fit30word', \n",
    "                  'old_age_token', \n",
    "                  'young_age_token',\n",
    "                  'length', \n",
    "                  'predict_proba']\n",
    "Xtrain1 = X_train[new_model_cols]\n",
    "Xtest1 = X_test[new_model_cols]"
   ]
  },
  {
   "cell_type": "code",
   "execution_count": 73,
   "metadata": {},
   "outputs": [
    {
     "data": {
      "text/plain": [
       "RandomForestClassifier(bootstrap=True, class_weight=None, criterion='gini',\n",
       "                       max_depth=None, max_features='auto', max_leaf_nodes=None,\n",
       "                       min_impurity_decrease=0.0, min_impurity_split=None,\n",
       "                       min_samples_leaf=1, min_samples_split=2,\n",
       "                       min_weight_fraction_leaf=0.0, n_estimators=10,\n",
       "                       n_jobs=None, oob_score=False, random_state=None,\n",
       "                       verbose=0, warm_start=False)"
      ]
     },
     "execution_count": 73,
     "metadata": {},
     "output_type": "execute_result"
    }
   ],
   "source": [
    "lr.fit(Xtrain1, y_train)\n",
    "mnb.fit(Xtrain1, y_train)\n",
    "gnb.fit(Xtrain1, y_train)\n",
    "rf.fit(Xtrain1, y_train)"
   ]
  },
  {
   "cell_type": "code",
   "execution_count": 74,
   "metadata": {},
   "outputs": [
    {
     "name": "stdout",
     "output_type": "stream",
     "text": [
      "Logistic Regression:  0.9046242774566474 0.6998535871156661\n",
      "Multinomial:  0.6163294797687862 0.5915080527086384\n",
      "Gaussian:  0.8829479768786127 0.7115666178623719\n",
      "Random Forest:  0.9855491329479769 0.6910688140556369\n"
     ]
    }
   ],
   "source": [
    "#Gaussian wins\n",
    "print('Logistic Regression: ',lr.score(Xtrain1, y_train), lr.score(Xtest1, y_test))\n",
    "print('Multinomial: ',mnb.score(Xtrain1, y_train), mnb.score(Xtest1, y_test))\n",
    "print('Gaussian: ',gnb.score(Xtrain1, y_train), gnb.score(Xtest1, y_test))\n",
    "print('Random Forest: ',rf.score(Xtrain1, y_train), rf.score(Xtest1, y_test))"
   ]
  },
  {
   "cell_type": "code",
   "execution_count": 75,
   "metadata": {},
   "outputs": [
    {
     "data": {
      "image/png": "[encoded data removed]",
      "text/plain": [
       "<Figure size 648x360 with 1 Axes>"
      ]
     },
     "metadata": {},
     "output_type": "display_data"
    }
   ],
   "source": [
    "# Insights - estimators\n",
    "# Don't have to hard code these like the transformers\n",
    "labels = ['Logistic Regression', 'Multinomial NB', 'Gaussian NB', 'Random Forest']\n",
    "trains = [\n",
    "    lr.score(Xtrain1, y_train).round(2), \n",
    "    mnb.score(Xtrain1, y_train).round(2),\n",
    "    gnb.score(Xtrain1, y_train).round(2),\n",
    "    rf.score(Xtrain1, y_train).round(2)\n",
    "]\n",
    "tests = [\n",
    "    lr.score(Xtest1, y_test).round(2),\n",
    "    mnb.score(Xtest1, y_test).round(2),\n",
    "    gnb.score(Xtest1, y_test).round(2),\n",
    "    rf.score(Xtest1, y_test).round(2)\n",
    "]\n",
    "\n",
    "x = np.arange(len(labels))  # the label locations\n",
    "width = 0.35  # the width of the bars\n",
    "\n",
    "fig, ax = plt.subplots(figsize = (9,5))\n",
    "bars1 = ax.bar(x - width/2, trains, width, label='train')\n",
    "bars2 = ax.bar(x + width/2, tests, width, label='test')\n",
    "\n",
    "ax.set_ylabel('Scores')\n",
    "ax.set_ylim(0,1)\n",
    "ax.set_title('Models')\n",
    "ax.set_xticks(x)\n",
    "ax.set_xticklabels(labels)\n",
    "ax.legend(\n",
    "    bbox_to_anchor=(1.05, 1), \n",
    "    loc='upper center'\n",
    ")\n",
    "\n",
    "fig.tight_layout()\n",
    "plt.savefig('../plots/estimators.png')"
   ]
  },
  {
   "cell_type": "code",
   "execution_count": 76,
   "metadata": {},
   "outputs": [
    {
     "data": {
      "image/png": "[encoded data removed]",
      "text/plain": [
       "<Figure size 432x288 with 1 Axes>"
      ]
     },
     "metadata": {},
     "output_type": "display_data"
    }
   ],
   "source": [
    "# Insights - transformers\n",
    "# Need to hard code the below values to create graph because transformations are either included or left out higher up\n",
    "labels = ['Removed', 'Left in']\n",
    "trains = [.89, .87]\n",
    "tests = [.73, .71]\n",
    "\n",
    "x = np.arange(len(labels))\n",
    "width = 0.35\n",
    "\n",
    "fig, ax = plt.subplots()\n",
    "bars1 = ax.bar(x - width/2, trains, width, label='train')\n",
    "bars2 = ax.bar(x + width/2, tests, width, label='test')\n",
    "\n",
    "ax.set_ylabel('Scores')\n",
    "ax.set_ylim(0,1)\n",
    "ax.set_title('Stopwords')\n",
    "ax.set_xticks(x)\n",
    "ax.set_xticklabels(labels)\n",
    "ax.legend()\n",
    "\n",
    "plt.savefig('../plots/stopwords.png')"
   ]
  },
  {
   "cell_type": "code",
   "execution_count": 77,
   "metadata": {},
   "outputs": [
    {
     "data": {
      "image/png": "[encoded data removed]",
      "text/plain": [
       "<Figure size 432x288 with 1 Axes>"
      ]
     },
     "metadata": {},
     "output_type": "display_data"
    }
   ],
   "source": [
    "# Insights - transformers\n",
    "# Need to hard code the below values to create graph because transformations are either included or left out higher up\n",
    "labels = ['Lemmatized', 'Non Lemmatized']\n",
    "trains = [.89, .89]\n",
    "tests = [.73, .70]\n",
    "x = np.arange(len(labels))\n",
    "width = 0.35\n",
    "\n",
    "fig, ax = plt.subplots()\n",
    "bars1 = ax.bar(x - width/2, trains, width, label='train')\n",
    "bars2 = ax.bar(x + width/2, tests, width, label='test')\n",
    "\n",
    "ax.set_ylabel('Scores')\n",
    "ax.set_ylim(0,1)\n",
    "ax.set_title('Lemmatizing')\n",
    "ax.set_xticks(x)\n",
    "ax.set_xticklabels(labels)\n",
    "ax.legend()\n",
    "\n",
    "plt.savefig('../plots/lemmatizing.png')"
   ]
  },
  {
   "cell_type": "code",
   "execution_count": 78,
   "metadata": {},
   "outputs": [
    {
     "data": {
      "text/plain": [
       "0.89"
      ]
     },
     "execution_count": 78,
     "metadata": {},
     "output_type": "execute_result"
    }
   ],
   "source": [
    "bars1[0].get_height()"
   ]
  },
  {
   "cell_type": "markdown",
   "metadata": {},
   "source": [
    "Present: model for CVEC, then model for other features, not to be dominated by size of vocab."
   ]
  },
  {
   "cell_type": "markdown",
   "metadata": {},
   "source": [
    "#### Wrong predictions"
   ]
  },
  {
   "cell_type": "code",
   "execution_count": 79,
   "metadata": {},
   "outputs": [
    {
     "data": {
      "text/plain": [
       "array([[239,  82],\n",
       "       [115, 247]])"
      ]
     },
     "execution_count": 79,
     "metadata": {},
     "output_type": "execute_result"
    }
   ],
   "source": [
    "cm = confusion_matrix(gnb.predict(Xtest1), y_test)\n",
    "cm"
   ]
  },
  {
   "cell_type": "code",
   "execution_count": 80,
   "metadata": {},
   "outputs": [],
   "source": [
    "tn, fp, fn, tp = cm.ravel()"
   ]
  },
  {
   "cell_type": "code",
   "execution_count": 81,
   "metadata": {},
   "outputs": [
    {
     "data": {
      "text/plain": [
       "0.7115666178623719"
      ]
     },
     "execution_count": 81,
     "metadata": {},
     "output_type": "execute_result"
    }
   ],
   "source": [
    "# Accuracy score\n",
    "(tn + tp) / (tn + fp + fn + tp)"
   ]
  },
  {
   "cell_type": "code",
   "execution_count": 82,
   "metadata": {},
   "outputs": [],
   "source": [
    "# Gaussian is the winner but need to plot the different predict proba histograms\n",
    "Xtest1['predict_proba_gnb'] = gnb.predict_proba(Xtest1[new_model_cols])[:,1]\n",
    "Xtest1['predict_proba_mnb'] = mnb.predict_proba(Xtest1[new_model_cols])[:,1]\n",
    "Xtest1['predict_proba_lr'] = lr.predict_proba(Xtest1[new_model_cols])[:,1]\n",
    "Xtest1['predict_proba_rf'] = rf.predict_proba(Xtest1[new_model_cols])[:,1]"
   ]
  },
  {
   "cell_type": "code",
   "execution_count": 83,
   "metadata": {},
   "outputs": [],
   "source": [
    "Xtest1['y_test'] = y_test"
   ]
  },
  {
   "cell_type": "code",
   "execution_count": 84,
   "metadata": {},
   "outputs": [],
   "source": [
    "Xtest1['wrong_pred'] = 0\n",
    "for index in Xtest1.index:\n",
    "    if ((Xtest1.loc[index, 'predict_proba_gnb'] < .5) & (Xtest1.loc[index, 'y_test'] == 1)) or \\\n",
    "    ((Xtest1.loc[index, 'predict_proba_gnb'] > .5) & (Xtest1.loc[index, 'y_test'] == 0)):\n",
    "        Xtest1.loc[index, 'wrong_pred'] = 1\n",
    "    else:\n",
    "        pass"
   ]
  },
  {
   "cell_type": "code",
   "execution_count": 85,
   "metadata": {},
   "outputs": [
    {
     "data": {
      "text/plain": [
       "0    0.711567\n",
       "1    0.288433\n",
       "Name: wrong_pred, dtype: float64"
      ]
     },
     "execution_count": 85,
     "metadata": {},
     "output_type": "execute_result"
    }
   ],
   "source": [
    "# Checking that it matches our accuracy score\n",
    "Xtest1['wrong_pred'].value_counts(normalize = True)"
   ]
  },
  {
   "cell_type": "code",
   "execution_count": 86,
   "metadata": {},
   "outputs": [],
   "source": [
    "# Add the text back so we can see what the post was when we predicted wrong\n",
    "Xtest1['nostopstring'] = X_test['nostopstring']"
   ]
  },
  {
   "cell_type": "code",
   "execution_count": 87,
   "metadata": {},
   "outputs": [
    {
     "name": "stdout",
     "output_type": "stream",
     "text": [
      "82 115\n",
      "82 115\n"
     ]
    }
   ],
   "source": [
    "# False Positives, False Negatives.\n",
    "print(Xtest1[(Xtest1['wrong_pred'] == 1) & (Xtest1['predict_proba_gnb'] < .5)].shape[0], \\\n",
    "Xtest1[(Xtest1['wrong_pred'] == 1) & (Xtest1['predict_proba_gnb'] > .5)].shape[0])\n",
    "print(fp, fn)"
   ]
  },
  {
   "cell_type": "code",
   "execution_count": 88,
   "metadata": {},
   "outputs": [],
   "source": [
    "# Wrong preds\n",
    "wrong_preds = Xtest1[Xtest1['wrong_pred'] == 1]"
   ]
  },
  {
   "cell_type": "code",
   "execution_count": 89,
   "metadata": {},
   "outputs": [
    {
     "data": {
      "text/html": [
       "<div>\n",
       "<style scoped>\n",
       "    .dataframe tbody tr th:only-of-type {\n",
       "        vertical-align: middle;\n",
       "    }\n",
       "\n",
       "    .dataframe tbody tr th {\n",
       "        vertical-align: top;\n",
       "    }\n",
       "\n",
       "    .dataframe thead th {\n",
       "        text-align: right;\n",
       "    }\n",
       "</style>\n",
       "<table border=\"1\" class=\"dataframe\">\n",
       "  <thead>\n",
       "    <tr style=\"text-align: right;\">\n",
       "      <th></th>\n",
       "      <th>contains_fitword</th>\n",
       "      <th>contains_fit30word</th>\n",
       "      <th>old_age_token</th>\n",
       "      <th>young_age_token</th>\n",
       "      <th>length</th>\n",
       "      <th>predict_proba</th>\n",
       "      <th>predict_proba_gnb</th>\n",
       "      <th>predict_proba_mnb</th>\n",
       "      <th>predict_proba_lr</th>\n",
       "      <th>predict_proba_rf</th>\n",
       "      <th>y_test</th>\n",
       "      <th>wrong_pred</th>\n",
       "      <th>nostopstring</th>\n",
       "    </tr>\n",
       "  </thead>\n",
       "  <tbody>\n",
       "    <tr>\n",
       "      <th>1779</th>\n",
       "      <td>1</td>\n",
       "      <td>1</td>\n",
       "      <td>1</td>\n",
       "      <td>1</td>\n",
       "      <td>683</td>\n",
       "      <td>0.531303</td>\n",
       "      <td>5.138458e-12</td>\n",
       "      <td>6.527507e-08</td>\n",
       "      <td>0.853020</td>\n",
       "      <td>0.9</td>\n",
       "      <td>1</td>\n",
       "      <td>1</td>\n",
       "      <td>7 month cross training strongman running endur...</td>\n",
       "    </tr>\n",
       "    <tr>\n",
       "      <th>1970</th>\n",
       "      <td>1</td>\n",
       "      <td>1</td>\n",
       "      <td>0</td>\n",
       "      <td>1</td>\n",
       "      <td>226</td>\n",
       "      <td>0.196451</td>\n",
       "      <td>3.641819e-04</td>\n",
       "      <td>4.146993e-03</td>\n",
       "      <td>0.053289</td>\n",
       "      <td>0.0</td>\n",
       "      <td>1</td>\n",
       "      <td>1</td>\n",
       "      <td>7 set pyramid advice please hey new subreddit ...</td>\n",
       "    </tr>\n",
       "    <tr>\n",
       "      <th>1197</th>\n",
       "      <td>1</td>\n",
       "      <td>1</td>\n",
       "      <td>1</td>\n",
       "      <td>1</td>\n",
       "      <td>288</td>\n",
       "      <td>0.235222</td>\n",
       "      <td>1.931694e-03</td>\n",
       "      <td>3.055190e-03</td>\n",
       "      <td>0.197479</td>\n",
       "      <td>0.0</td>\n",
       "      <td>1</td>\n",
       "      <td>1</td>\n",
       "      <td>starting journey read wiki ask question 31 tod...</td>\n",
       "    </tr>\n",
       "    <tr>\n",
       "      <th>1743</th>\n",
       "      <td>1</td>\n",
       "      <td>1</td>\n",
       "      <td>0</td>\n",
       "      <td>1</td>\n",
       "      <td>132</td>\n",
       "      <td>0.182116</td>\n",
       "      <td>2.358985e-03</td>\n",
       "      <td>5.434210e-02</td>\n",
       "      <td>0.047917</td>\n",
       "      <td>0.0</td>\n",
       "      <td>1</td>\n",
       "      <td>1</td>\n",
       "      <td>exhausted curious anyone ha feedback addicted ...</td>\n",
       "    </tr>\n",
       "    <tr>\n",
       "      <th>1398</th>\n",
       "      <td>1</td>\n",
       "      <td>1</td>\n",
       "      <td>0</td>\n",
       "      <td>1</td>\n",
       "      <td>120</td>\n",
       "      <td>0.229031</td>\n",
       "      <td>5.128570e-03</td>\n",
       "      <td>7.833022e-02</td>\n",
       "      <td>0.079626</td>\n",
       "      <td>0.0</td>\n",
       "      <td>1</td>\n",
       "      <td>1</td>\n",
       "      <td>pescatarian exercise hey guy guy relatively ne...</td>\n",
       "    </tr>\n",
       "  </tbody>\n",
       "</table>\n",
       "</div>"
      ],
      "text/plain": [
       "      contains_fitword  contains_fit30word  old_age_token  young_age_token  \\\n",
       "1779                 1                   1              1                1   \n",
       "1970                 1                   1              0                1   \n",
       "1197                 1                   1              1                1   \n",
       "1743                 1                   1              0                1   \n",
       "1398                 1                   1              0                1   \n",
       "\n",
       "      length  predict_proba  predict_proba_gnb  predict_proba_mnb  \\\n",
       "1779     683       0.531303       5.138458e-12       6.527507e-08   \n",
       "1970     226       0.196451       3.641819e-04       4.146993e-03   \n",
       "1197     288       0.235222       1.931694e-03       3.055190e-03   \n",
       "1743     132       0.182116       2.358985e-03       5.434210e-02   \n",
       "1398     120       0.229031       5.128570e-03       7.833022e-02   \n",
       "\n",
       "      predict_proba_lr  predict_proba_rf  y_test  wrong_pred  \\\n",
       "1779          0.853020               0.9       1           1   \n",
       "1970          0.053289               0.0       1           1   \n",
       "1197          0.197479               0.0       1           1   \n",
       "1743          0.047917               0.0       1           1   \n",
       "1398          0.079626               0.0       1           1   \n",
       "\n",
       "                                           nostopstring  \n",
       "1779  7 month cross training strongman running endur...  \n",
       "1970  7 set pyramid advice please hey new subreddit ...  \n",
       "1197  starting journey read wiki ask question 31 tod...  \n",
       "1743  exhausted curious anyone ha feedback addicted ...  \n",
       "1398  pescatarian exercise hey guy guy relatively ne...  "
      ]
     },
     "execution_count": 89,
     "metadata": {},
     "output_type": "execute_result"
    }
   ],
   "source": [
    "# Head and tail are the wrongest preds\n",
    "pd.set_option('display.max_rows',100)\n",
    "wrong_preds.sort_values(by = 'predict_proba_gnb').head()"
   ]
  },
  {
   "cell_type": "markdown",
   "metadata": {},
   "source": [
    "### Wrong pred insights"
   ]
  },
  {
   "cell_type": "markdown",
   "metadata": {},
   "source": [
    "Thursday night before presentation: had to re run scraping notebook in order to fix problem. Commenting this cell out because these indexes no longer represent the posts in question."
   ]
  },
  {
   "cell_type": "code",
   "execution_count": 90,
   "metadata": {},
   "outputs": [],
   "source": [
    "#Xtest1.loc[262, 'predict_proba_gnb'], Xtest1.loc[1669, 'predict_proba_gnb']"
   ]
  },
  {
   "cell_type": "code",
   "execution_count": 91,
   "metadata": {},
   "outputs": [],
   "source": [
    "# Xtest1.loc[932]\n",
    "# print(df.loc[262, 'alltext']) #false positive\n",
    "# print()\n",
    "# print(df.loc[1669, 'alltext']) #false negative 1749"
   ]
  },
  {
   "cell_type": "code",
   "execution_count": 92,
   "metadata": {},
   "outputs": [
    {
     "name": "stderr",
     "output_type": "stream",
     "text": [
      "/opt/anaconda3/lib/python3.7/site-packages/ipykernel_launcher.py:28: UserWarning: You have mixed positional and keyword arguments, some input may be discarded.\n"
     ]
    },
    {
     "data": {
      "image/png": "[encoded data removed]",
      "text/plain": [
       "<Figure size 432x288 with 1 Axes>"
      ]
     },
     "metadata": {},
     "output_type": "display_data"
    }
   ],
   "source": [
    "gnbp = Xtest1['predict_proba_gnb']\n",
    "mnbp = Xtest1['predict_proba_mnb']\n",
    "lrp = Xtest1['predict_proba_lr']\n",
    "rfp = Xtest1['predict_proba_rf']\n",
    "\n",
    "w = plt.hist(gnbp, bins = 20, alpha = .5, color = 'red')\n",
    "#x = plt.hist(mnbp, bins = 20, alpha = .5)\n",
    "y = plt.hist(lrp, bins = 20, alpha = .5, color = 'green')\n",
    "#z = plt.hist(rfp, bins = 20, alpha = .5)\n",
    "\n",
    "plt.ylabel('frequency')\n",
    "plt.xlabel('predict_proba')\n",
    "plt.legend( # These params are separated by line so it's easy to comment them out and try two at a time, etc.\n",
    "    [\n",
    "        w,\n",
    "        #x,\n",
    "        y,\n",
    "        #z\n",
    "    ],\n",
    "    labels = \n",
    "    [\n",
    "        'GNB', \n",
    "        #'MNB', \n",
    "        'LR', \n",
    "        #'RF'\n",
    "    ], \n",
    "    bbox_to_anchor=(.5, 1), \n",
    "    loc='upper center'\n",
    ")\n",
    "plt.title('Comparing predict_proba Distributions')\n",
    "plt.savefig('../plots/predict_proba.png')"
   ]
  },
  {
   "cell_type": "code",
   "execution_count": 93,
   "metadata": {},
   "outputs": [],
   "source": [
    "# Before doing any more modelling, drop y_test, wrong_pred, and nostopstring\n",
    "Xtest1 = Xtest1[new_model_cols]"
   ]
  },
  {
   "cell_type": "markdown",
   "metadata": {},
   "source": [
    "### KNN"
   ]
  },
  {
   "cell_type": "code",
   "execution_count": 94,
   "metadata": {},
   "outputs": [],
   "source": [
    "knn = KNeighborsClassifier()"
   ]
  },
  {
   "cell_type": "code",
   "execution_count": 95,
   "metadata": {},
   "outputs": [
    {
     "data": {
      "text/plain": [
       "array([0.53956835, 0.6294964 , 0.55797101, 0.54347826, 0.5       ])"
      ]
     },
     "execution_count": 95,
     "metadata": {},
     "output_type": "execute_result"
    }
   ],
   "source": [
    "cross_val_score(knn, train_cvec, y_train, cv = 5)"
   ]
  },
  {
   "cell_type": "code",
   "execution_count": 96,
   "metadata": {},
   "outputs": [
    {
     "data": {
      "text/plain": [
       "KNeighborsClassifier(algorithm='auto', leaf_size=30, metric='minkowski',\n",
       "                     metric_params=None, n_jobs=None, n_neighbors=5, p=2,\n",
       "                     weights='uniform')"
      ]
     },
     "execution_count": 96,
     "metadata": {},
     "output_type": "execute_result"
    }
   ],
   "source": [
    "knn.fit(train_cvec, y_train)"
   ]
  },
  {
   "cell_type": "code",
   "execution_count": 97,
   "metadata": {
    "scrolled": true
   },
   "outputs": [
    {
     "data": {
      "text/plain": [
       "(0.7651734104046243, 0.5592972181551976)"
      ]
     },
     "execution_count": 97,
     "metadata": {},
     "output_type": "execute_result"
    }
   ],
   "source": [
    "knn.score(train_cvec, y_train), knn.score(test_cvec, y_test)"
   ]
  },
  {
   "cell_type": "markdown",
   "metadata": {},
   "source": [
    "### 5 Fold Cross Validation"
   ]
  },
  {
   "cell_type": "code",
   "execution_count": 98,
   "metadata": {},
   "outputs": [
    {
     "name": "stdout",
     "output_type": "stream",
     "text": [
      "Logistic Regression: \n",
      " Train: \n",
      " 0.6798613283286414 Test:  0.6384644498513111\n",
      "RF: \n",
      " Train: \n",
      " 0.6242154102804713 Test:  0.5796809948634766\n"
     ]
    }
   ],
   "source": [
    "print('Logistic Regression: \\n',\n",
    "      'Train: \\n', cross_val_score(lr, train_tvec, y_train, cv = 5).mean(), \n",
    "      'Test: ',cross_val_score(lr, test_tvec, y_test, cv = 5).mean())\n",
    "print('RF: \\n',\n",
    "      'Train: \\n',cross_val_score(rf, train_tvec, y_train, cv = 5).mean(), \n",
    "      'Test: ',cross_val_score(rf, test_tvec, y_test, cv = 5).mean())"
   ]
  },
  {
   "cell_type": "markdown",
   "metadata": {},
   "source": [
    "### Gridsearch CV"
   ]
  },
  {
   "cell_type": "code",
   "execution_count": 99,
   "metadata": {},
   "outputs": [],
   "source": [
    "pipe = Pipeline([\n",
    "    #('cvec', CountVectorizer()),\n",
    "    ('tvec', TfidfVectorizer()),\n",
    "    ('lr', LogisticRegression(solver = 'liblinear'))\n",
    "])"
   ]
  },
  {
   "cell_type": "code",
   "execution_count": 100,
   "metadata": {},
   "outputs": [
    {
     "name": "stdout",
     "output_type": "stream",
     "text": [
      "0.6625722543352601\n"
     ]
    },
    {
     "data": {
      "text/plain": [
       "{'max_depth': None, 'n_estimators': 100}"
      ]
     },
     "execution_count": 100,
     "metadata": {},
     "output_type": "execute_result"
    }
   ],
   "source": [
    "rf = RandomForestClassifier()\n",
    "rf_params = {\n",
    "    'n_estimators' : [100, 150],\n",
    "    'max_depth' : [None, 5, 6]\n",
    "}\n",
    "gs = GridSearchCV(rf, param_grid = rf_params, cv = 5)\n",
    "gs.fit(train_tvec.toarray(), y_train)\n",
    "print(gs.best_score_) # Best cross val score\n",
    "gs.best_params_"
   ]
  },
  {
   "cell_type": "code",
   "execution_count": 101,
   "metadata": {},
   "outputs": [],
   "source": [
    "pipe_params = {\n",
    "    'tvec__max_features' : [2_000, 3_000, 4_000, 5_000],\n",
    "    'tvec__min_df' : [2, 3],\n",
    "    'tvec__max_df' : [.9, .95],\n",
    "    'tvec__ngram_range' : [(1,1), (1,2)]\n",
    "}"
   ]
  },
  {
   "cell_type": "code",
   "execution_count": 102,
   "metadata": {},
   "outputs": [],
   "source": [
    "gs = GridSearchCV(pipe,\n",
    "                  pipe_params,\n",
    "                  cv = 5)"
   ]
  },
  {
   "cell_type": "code",
   "execution_count": 103,
   "metadata": {},
   "outputs": [
    {
     "name": "stdout",
     "output_type": "stream",
     "text": [
      "Fitting gridsearch took  26.02116298675537  seconds\n"
     ]
    }
   ],
   "source": [
    "t0 = time.time()\n",
    "gs.fit(X_train['nostopstring'], y_train)\n",
    "print('Fitting gridsearch took ',time.time() - t0,' seconds')"
   ]
  },
  {
   "cell_type": "code",
   "execution_count": 104,
   "metadata": {},
   "outputs": [
    {
     "data": {
      "text/plain": [
       "(0.8988439306358381, 0.6852122986822841)"
      ]
     },
     "execution_count": 104,
     "metadata": {},
     "output_type": "execute_result"
    }
   ],
   "source": [
    "gs.best_estimator_.score(X_train['nostopstring'], y_train), gs.best_estimator_.score(X_test['nostopstring'], y_test)"
   ]
  },
  {
   "cell_type": "markdown",
   "metadata": {},
   "source": [
    "Gridsearch best params not much better than Logistic Regression"
   ]
  },
  {
   "cell_type": "markdown",
   "metadata": {},
   "source": [
    "### Disclaimer:\n",
    "\n",
    "Due to an issue of a dataframe changing between one notebook and the next, I had to re run the web scraping notebook tonight (Thursday). The presentation is already done, and thus the values for model scores might differ by a percent or two between this notebook and the presentation."
   ]
  },
  {
   "cell_type": "markdown",
   "metadata": {},
   "source": [
    "### In class activity, post presentation"
   ]
  },
  {
   "cell_type": "code",
   "execution_count": 132,
   "metadata": {},
   "outputs": [
    {
     "name": "stdout",
     "output_type": "stream",
     "text": [
      "0.9060693641618497\n",
      "0.6896046852122987\n"
     ]
    },
    {
     "data": {
      "text/plain": [
       "array([1])"
      ]
     },
     "execution_count": 132,
     "metadata": {},
     "output_type": "execute_result"
    }
   ],
   "source": [
    "model = make_pipeline(\n",
    "    TfidfVectorizer(stop_words = None),\n",
    "    LogisticRegression(solver = 'liblinear')\n",
    ")\n",
    "\n",
    "model.fit(X_train['nostopstring'], y_train)\n",
    "\n",
    "print(model.score(X_train['nostopstring'], y_train))\n",
    "print(model.score(X_test['nostopstring'], y_test))\n",
    "\n",
    "model.predict(np.array(['my name jeff']))\n",
    "model.predict(['my name jeff'])"
   ]
  },
  {
   "cell_type": "code",
   "execution_count": null,
   "metadata": {},
   "outputs": [],
   "source": [
    "lr.fit(train_tvec, y_train)\n",
    "print(lr.predict_proba(tvec.transform(['get back in shape']).toarray()))"
   ]
  },
  {
   "cell_type": "code",
   "execution_count": 134,
   "metadata": {},
   "outputs": [],
   "source": [
    "import pickle"
   ]
  },
  {
   "cell_type": "code",
   "execution_count": 135,
   "metadata": {},
   "outputs": [
    {
     "name": "stdout",
     "output_type": "stream",
     "text": [
      "total 408\r\n",
      "384 eda_modeling.ipynb      24 reading_cleaning.ipynb\r\n"
     ]
    }
   ],
   "source": [
    "!ls -s"
   ]
  },
  {
   "cell_type": "code",
   "execution_count": 136,
   "metadata": {},
   "outputs": [],
   "source": [
    "model_fn = 'escboston.pickle'\n",
    "\n",
    "with open(model_fn, 'wb') as f:\n",
    "    pickle.dump(model, f)"
   ]
  },
  {
   "cell_type": "code",
   "execution_count": 137,
   "metadata": {},
   "outputs": [
    {
     "name": "stdout",
     "output_type": "stream",
     "text": [
      "total 1488\r\n",
      " 384 eda_modeling.ipynb       24 reading_cleaning.ipynb\r\n",
      "1080 escboston.pickle\r\n"
     ]
    }
   ],
   "source": [
    "!ls -s"
   ]
  },
  {
   "cell_type": "code",
   "execution_count": null,
   "metadata": {},
   "outputs": [],
   "source": []
  }
 ],
 "metadata": {
  "kernelspec": {
   "display_name": "Python 3",
   "language": "python",
   "name": "python3"
  },
  "language_info": {
   "codemirror_mode": {
    "name": "ipython",
    "version": 3
   },
   "file_extension": ".py",
   "mimetype": "text/x-python",
   "name": "python",
   "nbconvert_exporter": "python",
   "pygments_lexer": "ipython3",
   "version": "3.7.4"
  }
 },
 "nbformat": 4,
 "nbformat_minor": 2
}
